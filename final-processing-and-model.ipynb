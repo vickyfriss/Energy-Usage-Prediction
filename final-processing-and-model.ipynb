{
 "cells": [
  {
   "cell_type": "markdown",
   "id": "74327b81-86ae-4e13-bb5b-98d4b06b5554",
   "metadata": {},
   "source": [
    "# Full PreProcessing and Final Model"
   ]
  },
  {
   "cell_type": "markdown",
   "id": "cd8da011-3edd-4ae1-bfc2-2e955194a62d",
   "metadata": {},
   "source": [
    "# Import Libraries"
   ]
  },
  {
   "cell_type": "code",
   "execution_count": 1,
   "id": "e31d0a4c-cde1-4d2f-adfc-52789d523c00",
   "metadata": {
    "executionInfo": {
     "elapsed": 935,
     "status": "ok",
     "timestamp": 1710719875901,
     "user": {
      "displayName": "Vanessa Coudert Mendez-Salvatierra",
      "userId": "02740837187322984622"
     },
     "user_tz": 0
    },
    "id": "e31d0a4c-cde1-4d2f-adfc-52789d523c00"
   },
   "outputs": [
    {
     "name": "stderr",
     "output_type": "stream",
     "text": [
      "/var/folders/8p/8hw050wx2ng0vhst2z_ysnf80000gn/T/ipykernel_96301/2398391687.py:1: DeprecationWarning: \n",
      "Pyarrow will become a required dependency of pandas in the next major release of pandas (pandas 3.0),\n",
      "(to allow more performant data types, such as the Arrow string type, and better interoperability with other libraries)\n",
      "but was not found to be installed on your system.\n",
      "If this would cause problems for you,\n",
      "please provide us feedback at https://github.com/pandas-dev/pandas/issues/54466\n",
      "        \n",
      "  import pandas as pd\n"
     ]
    }
   ],
   "source": [
    "import pandas as pd\n",
    "import numpy as np\n",
    "import scipy as sp\n",
    "\n",
    "import matplotlib.pyplot as plt\n",
    "\n",
    "import os\n",
    "from datetime import datetime, timezone, timedelta\n",
    "\n",
    "from sklearn.model_selection import train_test_split\n",
    "from sklearn.preprocessing import OneHotEncoder, RobustScaler, StandardScaler, MinMaxScaler\n",
    "from sklearn.experimental import enable_iterative_imputer\n",
    "from sklearn.impute import SimpleImputer, IterativeImputer, KNNImputer\n",
    "from sklearn.ensemble import RandomForestRegressor\n",
    "from sklearn.compose import ColumnTransformer\n",
    "from sklearn.pipeline import Pipeline\n",
    "\n",
    "\n",
    "import matplotlib.pyplot as plt\n",
    "\n",
    "# Supress warnings:\n",
    "import warnings\n",
    "warnings.simplefilter(action='ignore', category=FutureWarning)\n",
    "\n",
    "import time\n",
    "\n",
    "import tensorflow as tf\n",
    "from tensorflow import keras\n",
    "\n",
    "import random\n",
    "random.seed(21)\n",
    "from numpy.random import seed\n",
    "np.random.seed(21)\n",
    "tf.random.set_seed(21)"
   ]
  },
  {
   "cell_type": "markdown",
   "id": "01e61070",
   "metadata": {},
   "source": [
    "# Import, Train/Test, Removing Outliers and NaNs"
   ]
  },
  {
   "cell_type": "code",
   "execution_count": 2,
   "id": "e5468260-08cf-44be-b7c3-ae43b86a8c4f",
   "metadata": {
    "colab": {
     "base_uri": "https://localhost:8080/"
    },
    "executionInfo": {
     "elapsed": 106171,
     "status": "ok",
     "timestamp": 1710719982405,
     "user": {
      "displayName": "Vanessa Coudert Mendez-Salvatierra",
      "userId": "02740837187322984622"
     },
     "user_tz": 0
    },
    "id": "e5468260-08cf-44be-b7c3-ae43b86a8c4f",
    "outputId": "7a1311d8-8201-4180-aa29-8a0577fe09bf"
   },
   "outputs": [
    {
     "name": "stdout",
     "output_type": "stream",
     "text": [
      "<class 'pandas.core.frame.DataFrame'>\n",
      "RangeIndex: 14284853 entries, 0 to 14284852\n",
      "Data columns (total 14 columns):\n",
      " #   Column              Non-Null Count     Dtype  \n",
      "---  ------              --------------     -----  \n",
      " 0   Unnamed: 0          14284853 non-null  int64  \n",
      " 1   meter               14284853 non-null  int64  \n",
      " 2   timestamp           14284853 non-null  object \n",
      " 3   meter_reading       14284853 non-null  float64\n",
      " 4   site_id             14284853 non-null  int64  \n",
      " 5   primary_use         14284853 non-null  object \n",
      " 6   square_feet         14284853 non-null  int64  \n",
      " 7   air_temperature     14199013 non-null  float64\n",
      " 8   cloud_coverage      8109674 non-null   float64\n",
      " 9   dew_temperature     14196067 non-null  float64\n",
      " 10  precip_depth_1_hr   10840003 non-null  float64\n",
      " 11  sea_level_pressure  13183538 non-null  float64\n",
      " 12  wind_direction      13112011 non-null  float64\n",
      " 13  wind_speed          14160638 non-null  float64\n",
      "dtypes: float64(8), int64(4), object(2)\n",
      "memory usage: 1.5+ GB\n"
     ]
    }
   ],
   "source": [
    "# reading in data\n",
    "path = 'temp_df.csv'\n",
    "df_combined = pd.read_csv(path)\n",
    "temp_df = df_combined.copy()\n",
    "temp_df.info(show_counts=True, verbose=True)"
   ]
  },
  {
   "cell_type": "code",
   "execution_count": 3,
   "id": "b7261ec0-43d2-4ab0-a9d4-c86214e19d53",
   "metadata": {},
   "outputs": [
    {
     "name": "stdout",
     "output_type": "stream",
     "text": [
      "Train shape: (14284853, 13)\n",
      "Test shape: (14284853,)\n"
     ]
    }
   ],
   "source": [
    "# make x and y\n",
    "\n",
    "X = temp_df.drop('meter_reading', axis=1)\n",
    "Y = temp_df['meter_reading']\n",
    "\n",
    "print(f\"Train shape: {X.shape}\\nTest shape: {Y.shape}\")"
   ]
  },
  {
   "cell_type": "code",
   "execution_count": 4,
   "id": "cbb517c7-537c-4da2-aa30-70c1c55f4f9f",
   "metadata": {},
   "outputs": [],
   "source": [
    "# main-test split\n",
    "x_main_set, x_test, y_main_set, y_test = train_test_split(X, Y, test_size=0.1, random_state=21)\n",
    "x_train, x_val, y_train, y_val = train_test_split(x_main_set, y_main_set, test_size=0.1, random_state=21)\n",
    "\n",
    "# temporarily rejoin x_train and y_train\n",
    "trained_joined = pd.concat([x_train, y_train], axis=1)\n",
    "\n",
    "# temporarily rejoin x_val and y_val\n",
    "val_joined = pd.concat([x_val, y_val], axis=1)\n",
    "\n",
    "# temporarily rejoin x_test and y_test\n",
    "test_joined = pd.concat([x_test, y_test], axis=1)"
   ]
  },
  {
   "cell_type": "code",
   "execution_count": 5,
   "id": "3d1ddec1",
   "metadata": {},
   "outputs": [
    {
     "name": "stdout",
     "output_type": "stream",
     "text": [
      "Training set: (11570730, 13), (11570730,)\n",
      "Validation set: (1285637, 13), (1285637,)\n",
      "Test set: (1428486, 13), (1428486,)\n"
     ]
    }
   ],
   "source": [
    "# print shapes of all sets\n",
    "print(f\"Training set: {x_train.shape}, {y_train.shape}\")\n",
    "print(f\"Validation set: {x_val.shape}, {y_val.shape}\")\n",
    "print(f\"Test set: {x_test.shape}, {y_test.shape}\")"
   ]
  },
  {
   "cell_type": "code",
   "execution_count": 6,
   "id": "PlT7JwPIr_Ub",
   "metadata": {
    "colab": {
     "base_uri": "https://localhost:8080/"
    },
    "executionInfo": {
     "elapsed": 601,
     "status": "ok",
     "timestamp": 1710720198663,
     "user": {
      "displayName": "Vanessa Coudert Mendez-Salvatierra",
      "userId": "02740837187322984622"
     },
     "user_tz": 0
    },
    "id": "PlT7JwPIr_Ub",
    "outputId": "8bdac386-b15e-4801-8139-3a3dc4985ca7"
   },
   "outputs": [
    {
     "data": {
      "text/plain": [
       "0.9558739"
      ]
     },
     "execution_count": 6,
     "metadata": {},
     "output_type": "execute_result"
    }
   ],
   "source": [
    "# Get the 1st and 3rd Quartiles of temp_df\n",
    "Q1, Q3 = trained_joined['meter_reading'].quantile(0.25), trained_joined['meter_reading'].quantile(0.75)\n",
    "\n",
    "# Calculating IQR range\n",
    "IQR = Q3 - Q1\n",
    "IQR"
   ]
  },
  {
   "cell_type": "code",
   "execution_count": 7,
   "id": "0V6QOu12-_vu",
   "metadata": {
    "colab": {
     "base_uri": "https://localhost:8080/"
    },
    "executionInfo": {
     "elapsed": 2684,
     "status": "ok",
     "timestamp": 1710720562094,
     "user": {
      "displayName": "Vanessa Coudert Mendez-Salvatierra",
      "userId": "02740837187322984622"
     },
     "user_tz": 0
    },
    "id": "0V6QOu12-_vu",
    "outputId": "ed0131b3-c449-441b-de01-12fc623b0256"
   },
   "outputs": [],
   "source": [
    "# removing outliers\n",
    "temp_df2 = trained_joined[~((trained_joined['meter_reading'] < (Q1 - 1.5 * IQR)) |(trained_joined['meter_reading'] > (Q3 + 1.5 * IQR)))]"
   ]
  },
  {
   "cell_type": "code",
   "execution_count": 8,
   "id": "b7764eeb-bff0-44d6-b981-5c998a01b8b0",
   "metadata": {},
   "outputs": [
    {
     "name": "stdout",
     "output_type": "stream",
     "text": [
      "<class 'pandas.core.frame.DataFrame'>\n",
      "Index: 11525080 entries, 9885536 to 1940463\n",
      "Data columns (total 14 columns):\n",
      " #   Column              Non-Null Count     Dtype  \n",
      "---  ------              --------------     -----  \n",
      " 0   Unnamed: 0          11525080 non-null  int64  \n",
      " 1   meter               11525080 non-null  int64  \n",
      " 2   timestamp           11525080 non-null  object \n",
      " 3   site_id             11525080 non-null  int64  \n",
      " 4   primary_use         11525080 non-null  object \n",
      " 5   square_feet         11525080 non-null  int64  \n",
      " 6   air_temperature     11455714 non-null  float64\n",
      " 7   cloud_coverage      6543362 non-null   float64\n",
      " 8   dew_temperature     11453349 non-null  float64\n",
      " 9   precip_depth_1_hr   8741047 non-null   float64\n",
      " 10  sea_level_pressure  10634878 non-null  float64\n",
      " 11  wind_direction      10577384 non-null  float64\n",
      " 12  wind_speed          11424755 non-null  float64\n",
      " 13  meter_reading       11525080 non-null  float64\n",
      "dtypes: float64(8), int64(4), object(2)\n",
      "memory usage: 1.3+ GB\n"
     ]
    }
   ],
   "source": [
    "# check df info after dropping outliers\n",
    "temp_df2.info(show_counts=True, verbose=True)"
   ]
  },
  {
   "cell_type": "code",
   "execution_count": 9,
   "id": "c1da9339-ebe3-43c7-b914-b7432b9b3ae6",
   "metadata": {},
   "outputs": [
    {
     "name": "stdout",
     "output_type": "stream",
     "text": [
      "PROPORTION OF MISSING VALUES:\n",
      "Unnamed: 0             0.00\n",
      "meter                  0.00\n",
      "timestamp              0.00\n",
      "site_id                0.00\n",
      "primary_use            0.00\n",
      "square_feet            0.00\n",
      "air_temperature        0.60\n",
      "cloud_coverage        43.23\n",
      "dew_temperature        0.62\n",
      "precip_depth_1_hr     24.16\n",
      "sea_level_pressure     7.72\n",
      "wind_direction         8.22\n",
      "wind_speed             0.87\n",
      "meter_reading          0.00\n",
      "dtype: float64\n"
     ]
    }
   ],
   "source": [
    "# For the remaining columns with missing values:\n",
    "\n",
    "# This the number of rows with missing values in the dataset\n",
    "total_nan = temp_df2.isna().sum()\n",
    "total_nan\n",
    "\n",
    "# This the % of of missing values as aproportion of the total number of rows in the dataset\n",
    "missing_pct = round(temp_df2.isna().sum()/len(temp_df2)*100, 2)\n",
    "print('PROPORTION OF MISSING VALUES:')\n",
    "print(missing_pct)"
   ]
  },
  {
   "cell_type": "code",
   "execution_count": 10,
   "id": "9ef01d91-5f8f-4a92-a93e-55f982f38d37",
   "metadata": {},
   "outputs": [],
   "source": [
    "def drop_missing_values(df, cols):\n",
    "\n",
    "    # drop missing values\n",
    "    df = df.dropna(subset=cols)\n",
    "    \n",
    "    # get NaNs %\n",
    "    missing_percent = round(df.isna().sum()/len(df)*100, 2)\n",
    "    print(missing_percent)\n",
    "    \n",
    "    return df"
   ]
  },
  {
   "cell_type": "code",
   "execution_count": 11,
   "id": "60ecd797-2d54-494e-a99c-1d7ed2b8246e",
   "metadata": {},
   "outputs": [
    {
     "name": "stdout",
     "output_type": "stream",
     "text": [
      "PROPORTION OF MISSING VALUES:\n",
      "Unnamed: 0             0.00\n",
      "meter                  0.00\n",
      "timestamp              0.00\n",
      "site_id                0.00\n",
      "primary_use            0.00\n",
      "square_feet            0.00\n",
      "air_temperature        0.00\n",
      "cloud_coverage        42.79\n",
      "dew_temperature        0.00\n",
      "precip_depth_1_hr     23.74\n",
      "sea_level_pressure     7.17\n",
      "wind_direction         7.42\n",
      "wind_speed             0.00\n",
      "meter_reading          0.00\n",
      "dtype: float64\n",
      "Unnamed: 0             0.00\n",
      "meter                  0.00\n",
      "timestamp              0.00\n",
      "site_id                0.00\n",
      "primary_use            0.00\n",
      "square_feet            0.00\n",
      "air_temperature        0.00\n",
      "cloud_coverage        42.83\n",
      "dew_temperature        0.00\n",
      "precip_depth_1_hr     23.66\n",
      "sea_level_pressure     7.15\n",
      "wind_direction         7.41\n",
      "wind_speed             0.00\n",
      "meter_reading          0.00\n",
      "dtype: float64\n",
      "Unnamed: 0             0.00\n",
      "meter                  0.00\n",
      "timestamp              0.00\n",
      "site_id                0.00\n",
      "primary_use            0.00\n",
      "square_feet            0.00\n",
      "air_temperature        0.00\n",
      "cloud_coverage        42.78\n",
      "dew_temperature        0.00\n",
      "precip_depth_1_hr     23.72\n",
      "sea_level_pressure     7.13\n",
      "wind_direction         7.45\n",
      "wind_speed             0.00\n",
      "meter_reading          0.00\n",
      "dtype: float64\n"
     ]
    }
   ],
   "source": [
    "# drop missing values\n",
    "\n",
    "# list of cols with NaNs:\n",
    "cols_with_nan = ['air_temperature', 'dew_temperature', 'wind_speed']\n",
    "\n",
    "# drop\n",
    "print('PROPORTION OF MISSING VALUES:')\n",
    "temp_df3 = drop_missing_values(temp_df2, cols_with_nan)\n",
    "val_joined = drop_missing_values(val_joined, cols_with_nan)\n",
    "test_joined = drop_missing_values(test_joined, cols_with_nan)"
   ]
  },
  {
   "cell_type": "code",
   "execution_count": 12,
   "id": "46ded100",
   "metadata": {},
   "outputs": [],
   "source": [
    "# separate train again\n",
    "x_train = temp_df3.drop('meter_reading', axis=1)\n",
    "y_train = temp_df3['meter_reading']\n",
    "\n",
    "# separate val again\n",
    "x_val = val_joined.drop('meter_reading', axis=1)\n",
    "y_val = val_joined['meter_reading']\n",
    "\n",
    "# separate test again\n",
    "x_test = test_joined.drop('meter_reading', axis=1)\n",
    "y_test = test_joined['meter_reading']"
   ]
  },
  {
   "cell_type": "code",
   "execution_count": 13,
   "id": "edeb63d1-cd8f-48e2-80e0-496c99c295ee",
   "metadata": {},
   "outputs": [
    {
     "name": "stdout",
     "output_type": "stream",
     "text": [
      "x_train shape: (11422446, 13)\n",
      "y_train shape: (11422446,)\n",
      "x_test shape: (1415768, 13)\n",
      "y_test shape: (1415768,)\n",
      "x_val shape:(1274263, 13)\n",
      "y_val shape:(1274263,)\n"
     ]
    }
   ],
   "source": [
    "print(f\"x_train shape: {x_train.shape}\\ny_train shape: {y_train.shape}\\n\"\n",
    "        f\"x_test shape: {x_test.shape}\\ny_test shape: {y_test.shape}\\n\"\n",
    "        f\"x_val shape:{x_val.shape}\\ny_val shape:{y_val.shape}\")"
   ]
  },
  {
   "cell_type": "markdown",
   "id": "a025cd36",
   "metadata": {},
   "source": [
    "## Feature Selection and Generation"
   ]
  },
  {
   "cell_type": "code",
   "execution_count": 14,
   "id": "43d496bd-e9e9-4794-827a-7bbcefe9b950",
   "metadata": {},
   "outputs": [],
   "source": [
    "# functions to map site to city:\n",
    "def mapping_sites(df, col, mappings):\n",
    "    \n",
    "    # mapping site to location:\n",
    "    df[f'{col}_mapped'] = df[col].map(mappings).fillna('Unknown')\n",
    "\n",
    "    # re-arranging column order:\n",
    "    original_cols = df.columns.to_list()\n",
    "    new_col_order = original_cols[:-1]\n",
    "    new_col_order.insert(original_cols.index(col)+1, original_cols[-1])\n",
    "    \n",
    "    df = df[new_col_order]\n",
    "   \n",
    "    return df"
   ]
  },
  {
   "cell_type": "code",
   "execution_count": 15,
   "id": "649a3a44-22d1-4a1d-b03e-9f2684a86f87",
   "metadata": {},
   "outputs": [],
   "source": [
    "# functions to map site to time zone:\n",
    "def convert_tz(df, col, ts_col, tz_mappings):\n",
    "    \n",
    "    # check timestamp columns is of timestamp data type\n",
    "    if df[ts_col].dtype != 'datetime64[ns]':\n",
    "        df[ts_col] = pd.to_datetime(df[ts_col])\n",
    "        \n",
    "    # map to convert to each site's time zone    \n",
    "    df[f'localtz_{ts_col}'] = df.apply(lambda x: x[ts_col] + \\\n",
    "                                    timedelta(hours=tz_mappings[x[col]]), \n",
    "                                    axis=1)\n",
    "    \n",
    "    # re-arranging column order\n",
    "    original_cols = df.columns.to_list()\n",
    "    new_col_order = original_cols[:-1]\n",
    "    new_col_order.insert(original_cols.index(ts_col)+1, original_cols[-1])\n",
    "    \n",
    "    df = df[new_col_order]\n",
    "    \n",
    "    return df"
   ]
  },
  {
   "cell_type": "code",
   "execution_count": 16,
   "id": "fd434f24-15d3-4a26-8f5d-b174d34b71bc",
   "metadata": {},
   "outputs": [],
   "source": [
    "# dictionary with mapping of sites to their names\n",
    "map_sites = {0:'OrlandoFL', 1: 'LondonUK', 2:'TempeAZ',\n",
    "             3:'WashingtonDC', 4: 'BerkeleyCA', 5:'CardiffUK',\n",
    "             7:'OttawaCA', 9: 'TexasTX', 11:'CarletonOttawaCA',\n",
    "             12:'DublinIreland', 14: 'PrincetonNJ', 15:'CornellNY'}\n",
    "    \n",
    "# dictionary with mapping of sites to time zones\n",
    "map_tz = {0:-5, 1:0, 2:-7, 3:-5, 4:-8, 5:0, \n",
    "          7:-5, 9:-6, 11:-5, 12:0, 14:-5, 15:-5}"
   ]
  },
  {
   "cell_type": "code",
   "execution_count": 17,
   "id": "cef60e60-f007-4f05-b206-598d948e18a2",
   "metadata": {},
   "outputs": [],
   "source": [
    "# map sites to city\n",
    "x_train = mapping_sites(x_train, 'site_id', map_sites)\n",
    "x_test = mapping_sites(x_test, 'site_id', map_sites)\n",
    "x_val = mapping_sites(x_val, 'site_id', map_sites)"
   ]
  },
  {
   "cell_type": "code",
   "execution_count": 18,
   "id": "145f0731-f19d-4b89-a3c2-370f4cc4431f",
   "metadata": {},
   "outputs": [],
   "source": [
    "# map sites to time zone\n",
    "x_train = convert_tz(x_train, 'site_id', 'timestamp', map_tz)\n",
    "x_test = convert_tz(x_test, 'site_id', 'timestamp', map_tz)\n",
    "x_val = convert_tz(x_val, 'site_id', 'timestamp', map_tz)"
   ]
  },
  {
   "cell_type": "code",
   "execution_count": 19,
   "id": "e403c0bb-4941-4cb6-b617-59fc4ee3fc69",
   "metadata": {},
   "outputs": [],
   "source": [
    "# drop redundant timestamp column from both train and test\n",
    "x_train = x_train.drop('timestamp', axis=1)\n",
    "x_test = x_test.drop('timestamp', axis=1)\n",
    "x_val = x_val.drop('timestamp', axis=1)"
   ]
  },
  {
   "cell_type": "code",
   "execution_count": 20,
   "id": "8f3b5fbd-3f93-4544-a383-447a67f930b5",
   "metadata": {},
   "outputs": [],
   "source": [
    "# rename the new timestamp column 'localtz_site_id' to 'timestamp' for consistency\n",
    "x_train.rename({'localtz_timestamp':'timestamp'}, axis=1, inplace=True)\n",
    "x_test.rename({'localtz_timestamp':'timestamp'}, axis=1, inplace=True)\n",
    "x_val.rename({'localtz_timestamp':'timestamp'}, axis=1, inplace=True)"
   ]
  },
  {
   "cell_type": "code",
   "execution_count": 21,
   "id": "7c7a88ae-1537-4543-8cb1-76217ec4c576",
   "metadata": {},
   "outputs": [],
   "source": [
    "# using same map function as above\n",
    "\n",
    "# meter type mapping\n",
    "meter_types = {0: 'electricity', 1: 'chilledwater', 2: 'steam', 3: 'hotwater'}\n",
    "\n",
    "# mapping meter types\n",
    "x_train = mapping_sites(x_train, 'meter', meter_types)\n",
    "x_test = mapping_sites(x_test, 'meter', meter_types)\n",
    "x_val = mapping_sites(x_val, 'meter', meter_types)"
   ]
  },
  {
   "cell_type": "code",
   "execution_count": 22,
   "id": "46a01a42-a354-4c37-b176-f7ba332bb80a",
   "metadata": {},
   "outputs": [],
   "source": [
    "# drop redundant 'meter' column from both train and test\n",
    "x_train = x_train.drop('meter', axis=1)\n",
    "x_test = x_test.drop('meter', axis=1)\n",
    "x_val = x_val.drop('meter', axis=1)"
   ]
  },
  {
   "cell_type": "code",
   "execution_count": 23,
   "id": "55850e25-018a-4071-81b5-bd2002b86841",
   "metadata": {},
   "outputs": [],
   "source": [
    "# rename columns\n",
    "x_train.rename({'meter_mapped':'meter'}, axis=1, inplace=True)\n",
    "x_test.rename({'meter_mapped':'meter'}, axis=1, inplace=True)\n",
    "x_val.rename({'meter_mapped':'meter'}, axis=1, inplace=True)"
   ]
  },
  {
   "cell_type": "code",
   "execution_count": 24,
   "id": "ccfb1ea4-7edb-4116-a2ad-72fd38b7863c",
   "metadata": {},
   "outputs": [],
   "source": [
    "# drop cloud_coverage feature from sets\n",
    "x_train = x_train.drop(columns=['cloud_coverage', 'precip_depth_1_hr', 'wind_direction'])\n",
    "x_test = x_test.drop(columns=['cloud_coverage', 'precip_depth_1_hr', 'wind_direction'])\n",
    "x_val = x_val.drop(columns=['cloud_coverage', 'precip_depth_1_hr', 'wind_direction'])"
   ]
  },
  {
   "cell_type": "code",
   "execution_count": 25,
   "id": "f9a3adce-a1e6-42ec-b1dc-b527fda6eb5f",
   "metadata": {},
   "outputs": [
    {
     "name": "stdout",
     "output_type": "stream",
     "text": [
      "train set:  [2016 2015]\n",
      "test set:  [2016 2015]\n",
      "validation set:  [2016 2015]\n"
     ]
    }
   ],
   "source": [
    "# check the number of years in dataset\n",
    "print('train set: ', x_train['timestamp'].dt.year.unique())\n",
    "print('test set: ', x_test['timestamp'].dt.year.unique())\n",
    "print('validation set: ', x_val['timestamp'].dt.year.unique())"
   ]
  },
  {
   "cell_type": "code",
   "execution_count": 26,
   "id": "d1cd8bf7-8c3b-4977-af28-e406663fb61a",
   "metadata": {},
   "outputs": [],
   "source": [
    "def timestamp_features(df, timestamp_col):\n",
    "    \n",
    "    if df[timestamp_col].dtype != 'datetime64[ns]':\n",
    "        df[timestamp_col] = pd.to_datetime(df['timestamp'])\n",
    "        print('Data type changed to: ', df['timestamp'].dtype)\n",
    "    else:\n",
    "        pass\n",
    "        \n",
    "    # Extract Day, Month, Year and hour from timestamp column\n",
    "    df['wkday_dttm'] = df[timestamp_col].dt.strftime('%A') \n",
    "    df['month_dttm'] = df[timestamp_col].dt.strftime('%B')\n",
    "    df['hour_dttm'] = df[timestamp_col].dt.hour\n",
    "\n",
    "\n",
    "    return df"
   ]
  },
  {
   "cell_type": "code",
   "execution_count": 27,
   "id": "d3b0d728-b0ae-4863-933c-f2cdb10ec30a",
   "metadata": {},
   "outputs": [],
   "source": [
    "# new features in x_train, x_test and x_val\n",
    "x_train2 = timestamp_features(x_train, 'timestamp')\n",
    "x_test2 = timestamp_features(x_test, 'timestamp')\n",
    "x_val2 = timestamp_features(x_val, 'timestamp')"
   ]
  },
  {
   "cell_type": "code",
   "execution_count": 28,
   "id": "6bf1962f-3169-476b-9db4-d700fc38ea5f",
   "metadata": {},
   "outputs": [],
   "source": [
    "# drop redundant timestamp column\n",
    "x_train2 = x_train2.drop('timestamp', axis=1)\n",
    "x_test2 = x_test2.drop('timestamp', axis=1)\n",
    "x_val2 = x_val2.drop('timestamp', axis=1)"
   ]
  },
  {
   "cell_type": "code",
   "execution_count": 29,
   "id": "6efb3646-5e61-4e9b-b45b-49324862a4a0",
   "metadata": {},
   "outputs": [
    {
     "name": "stdout",
     "output_type": "stream",
     "text": [
      "The size of x_train is:  3.81 GB\n",
      "The size of x_test is:  0.47 GB\n",
      "The size of x_val is:  0.43 GB\n",
      "This machine has  8  cores in CPU\n"
     ]
    }
   ],
   "source": [
    "# check the size of the sets\n",
    "print('The size of x_train is: ', round(x_train2.memory_usage(deep=True).sum()/(1024**3), 2), 'GB') # 0.49 GB\n",
    "print('The size of x_test is: ', round(x_test2.memory_usage(deep=True).sum()/(1024**3), 2), 'GB')\n",
    "print('The size of x_val is: ', round(x_val2.memory_usage(deep=True).sum()/(1024**3), 2), 'GB')\n",
    "\n",
    "# number of CPU cores available in RAM\n",
    "print('This machine has ', os.cpu_count(), ' cores in CPU')"
   ]
  },
  {
   "cell_type": "code",
   "execution_count": 30,
   "id": "7d5c212b-3fbc-4425-844a-b08f6735a2b8",
   "metadata": {},
   "outputs": [],
   "source": [
    "# change datatype to float32\n",
    "\n",
    "# set data types to float32\n",
    "data_types_for_cols = {'air_temperature':'float32',\n",
    "                       'dew_temperature':'float32',\n",
    "                       'sea_level_pressure':'float32',\n",
    "                       #'wind_direction':'float32',\n",
    "                       'wind_speed':'float32'}\n",
    "\n",
    "# change data types\n",
    "x_train2 = x_train2.astype(data_types_for_cols)\n",
    "x_test2 = x_test2.astype(data_types_for_cols)\n",
    "x_val2 = x_val2.astype(data_types_for_cols)"
   ]
  },
  {
   "cell_type": "code",
   "execution_count": 31,
   "id": "a8f2b938-2885-4888-8a74-51c005f71d06",
   "metadata": {},
   "outputs": [],
   "source": [
    "# make a copy of dataframes:\n",
    "def copy_dfs(df_to_copy):\n",
    "\n",
    "    # Copy df\n",
    "    df = df_to_copy.copy()\n",
    "    print(f'Created Copy of {df_to_copy}')\n",
    "    \n",
    "    # Drop Unamed:0 column\n",
    "    df = df.drop('Unnamed: 0', axis=1)\n",
    "    \n",
    "    if 'Unnamed: 0' not in df.columns:\n",
    "        print(\"Dropped 'Unnamed: 0' from dataframe\")\n",
    "        print(df.columns)\n",
    "    \n",
    "    return df"
   ]
  },
  {
   "cell_type": "markdown",
   "id": "b9d9bb24-e690-43a7-b73e-7b2959e4bd4c",
   "metadata": {},
   "source": [
    "# Preprocessing Pipeline"
   ]
  },
  {
   "cell_type": "code",
   "execution_count": 32,
   "id": "d90655c6-4397-46e0-8406-ab7146bf773b",
   "metadata": {},
   "outputs": [],
   "source": [
    "# columns to impute\n",
    "cols_to_fill = ['sea_level_pressure']\n",
    "cols_to_scale_robust = ['square_feet', 'wind_speed', 'hour_dttm']\n",
    "cols_to_scale_minmax = ['air_temperature', 'dew_temperature'] \n",
    "cols_to_encode = ['site_id_mapped', 'meter', 'primary_use','wkday_dttm', 'month_dttm']"
   ]
  },
  {
   "cell_type": "code",
   "execution_count": 33,
   "id": "d863045d-8627-4ae5-b98b-13890220a43b",
   "metadata": {},
   "outputs": [],
   "source": [
    "# set numerical pipeline for columns with same numerical transformations:\n",
    "imputation_pipeline = Pipeline([ \n",
    "                                ('Data Imputation sea_level_pressure', IterativeImputer(estimator=RandomForestRegressor(n_estimators=200, random_state=42, n_jobs=-1), \n",
    "                                                                       random_state=10)),\n",
    "                                ('Data Standardisation RS sea_level_pressure', RobustScaler())\n",
    "                                ])\n",
    "\n",
    "std_robust_pipeline = Pipeline([  ('Data Standardisation RS', RobustScaler()) ])\n",
    "\n",
    "std_minmax__pipeline = Pipeline([ ('Data Standardisation MinMax', MinMaxScaler()) ])"
   ]
  },
  {
   "cell_type": "code",
   "execution_count": 34,
   "id": "ebc6f4ef-6481-42be-8436-c7ff8edd6868",
   "metadata": {},
   "outputs": [],
   "source": [
    "# full pre-processing pipeline with encoder and RobustScaler for continuous variables/features\n",
    "preprocessing_pipeline = ColumnTransformer([ \n",
    "                                           ('Fill in missing values', imputation_pipeline, cols_to_fill),\n",
    "                                           ('Encoding Features', OneHotEncoder(), cols_to_encode),\n",
    "                                           ('Data Standardisation RS', RobustScaler(), cols_to_scale_robust),\n",
    "                                           ('Data Standardisation MinMax', MinMaxScaler(), cols_to_scale_minmax)\n",
    "                                           \n",
    "                                            \n",
    "], remainder='drop')"
   ]
  },
  {
   "cell_type": "code",
   "execution_count": 35,
   "id": "87ddbc82-4569-4275-8363-34ae13074cf1",
   "metadata": {},
   "outputs": [
    {
     "data": {
      "text/html": [
       "<style>#sk-container-id-1 {\n",
       "  /* Definition of color scheme common for light and dark mode */\n",
       "  --sklearn-color-text: black;\n",
       "  --sklearn-color-line: gray;\n",
       "  /* Definition of color scheme for unfitted estimators */\n",
       "  --sklearn-color-unfitted-level-0: #fff5e6;\n",
       "  --sklearn-color-unfitted-level-1: #f6e4d2;\n",
       "  --sklearn-color-unfitted-level-2: #ffe0b3;\n",
       "  --sklearn-color-unfitted-level-3: chocolate;\n",
       "  /* Definition of color scheme for fitted estimators */\n",
       "  --sklearn-color-fitted-level-0: #f0f8ff;\n",
       "  --sklearn-color-fitted-level-1: #d4ebff;\n",
       "  --sklearn-color-fitted-level-2: #b3dbfd;\n",
       "  --sklearn-color-fitted-level-3: cornflowerblue;\n",
       "\n",
       "  /* Specific color for light theme */\n",
       "  --sklearn-color-text-on-default-background: var(--sg-text-color, var(--theme-code-foreground, var(--jp-content-font-color1, black)));\n",
       "  --sklearn-color-background: var(--sg-background-color, var(--theme-background, var(--jp-layout-color0, white)));\n",
       "  --sklearn-color-border-box: var(--sg-text-color, var(--theme-code-foreground, var(--jp-content-font-color1, black)));\n",
       "  --sklearn-color-icon: #696969;\n",
       "\n",
       "  @media (prefers-color-scheme: dark) {\n",
       "    /* Redefinition of color scheme for dark theme */\n",
       "    --sklearn-color-text-on-default-background: var(--sg-text-color, var(--theme-code-foreground, var(--jp-content-font-color1, white)));\n",
       "    --sklearn-color-background: var(--sg-background-color, var(--theme-background, var(--jp-layout-color0, #111)));\n",
       "    --sklearn-color-border-box: var(--sg-text-color, var(--theme-code-foreground, var(--jp-content-font-color1, white)));\n",
       "    --sklearn-color-icon: #878787;\n",
       "  }\n",
       "}\n",
       "\n",
       "#sk-container-id-1 {\n",
       "  color: var(--sklearn-color-text);\n",
       "}\n",
       "\n",
       "#sk-container-id-1 pre {\n",
       "  padding: 0;\n",
       "}\n",
       "\n",
       "#sk-container-id-1 input.sk-hidden--visually {\n",
       "  border: 0;\n",
       "  clip: rect(1px 1px 1px 1px);\n",
       "  clip: rect(1px, 1px, 1px, 1px);\n",
       "  height: 1px;\n",
       "  margin: -1px;\n",
       "  overflow: hidden;\n",
       "  padding: 0;\n",
       "  position: absolute;\n",
       "  width: 1px;\n",
       "}\n",
       "\n",
       "#sk-container-id-1 div.sk-dashed-wrapped {\n",
       "  border: 1px dashed var(--sklearn-color-line);\n",
       "  margin: 0 0.4em 0.5em 0.4em;\n",
       "  box-sizing: border-box;\n",
       "  padding-bottom: 0.4em;\n",
       "  background-color: var(--sklearn-color-background);\n",
       "}\n",
       "\n",
       "#sk-container-id-1 div.sk-container {\n",
       "  /* jupyter's `normalize.less` sets `[hidden] { display: none; }`\n",
       "     but bootstrap.min.css set `[hidden] { display: none !important; }`\n",
       "     so we also need the `!important` here to be able to override the\n",
       "     default hidden behavior on the sphinx rendered scikit-learn.org.\n",
       "     See: https://github.com/scikit-learn/scikit-learn/issues/21755 */\n",
       "  display: inline-block !important;\n",
       "  position: relative;\n",
       "}\n",
       "\n",
       "#sk-container-id-1 div.sk-text-repr-fallback {\n",
       "  display: none;\n",
       "}\n",
       "\n",
       "div.sk-parallel-item,\n",
       "div.sk-serial,\n",
       "div.sk-item {\n",
       "  /* draw centered vertical line to link estimators */\n",
       "  background-image: linear-gradient(var(--sklearn-color-text-on-default-background), var(--sklearn-color-text-on-default-background));\n",
       "  background-size: 2px 100%;\n",
       "  background-repeat: no-repeat;\n",
       "  background-position: center center;\n",
       "}\n",
       "\n",
       "/* Parallel-specific style estimator block */\n",
       "\n",
       "#sk-container-id-1 div.sk-parallel-item::after {\n",
       "  content: \"\";\n",
       "  width: 100%;\n",
       "  border-bottom: 2px solid var(--sklearn-color-text-on-default-background);\n",
       "  flex-grow: 1;\n",
       "}\n",
       "\n",
       "#sk-container-id-1 div.sk-parallel {\n",
       "  display: flex;\n",
       "  align-items: stretch;\n",
       "  justify-content: center;\n",
       "  background-color: var(--sklearn-color-background);\n",
       "  position: relative;\n",
       "}\n",
       "\n",
       "#sk-container-id-1 div.sk-parallel-item {\n",
       "  display: flex;\n",
       "  flex-direction: column;\n",
       "}\n",
       "\n",
       "#sk-container-id-1 div.sk-parallel-item:first-child::after {\n",
       "  align-self: flex-end;\n",
       "  width: 50%;\n",
       "}\n",
       "\n",
       "#sk-container-id-1 div.sk-parallel-item:last-child::after {\n",
       "  align-self: flex-start;\n",
       "  width: 50%;\n",
       "}\n",
       "\n",
       "#sk-container-id-1 div.sk-parallel-item:only-child::after {\n",
       "  width: 0;\n",
       "}\n",
       "\n",
       "/* Serial-specific style estimator block */\n",
       "\n",
       "#sk-container-id-1 div.sk-serial {\n",
       "  display: flex;\n",
       "  flex-direction: column;\n",
       "  align-items: center;\n",
       "  background-color: var(--sklearn-color-background);\n",
       "  padding-right: 1em;\n",
       "  padding-left: 1em;\n",
       "}\n",
       "\n",
       "\n",
       "/* Toggleable style: style used for estimator/Pipeline/ColumnTransformer box that is\n",
       "clickable and can be expanded/collapsed.\n",
       "- Pipeline and ColumnTransformer use this feature and define the default style\n",
       "- Estimators will overwrite some part of the style using the `sk-estimator` class\n",
       "*/\n",
       "\n",
       "/* Pipeline and ColumnTransformer style (default) */\n",
       "\n",
       "#sk-container-id-1 div.sk-toggleable {\n",
       "  /* Default theme specific background. It is overwritten whether we have a\n",
       "  specific estimator or a Pipeline/ColumnTransformer */\n",
       "  background-color: var(--sklearn-color-background);\n",
       "}\n",
       "\n",
       "/* Toggleable label */\n",
       "#sk-container-id-1 label.sk-toggleable__label {\n",
       "  cursor: pointer;\n",
       "  display: block;\n",
       "  width: 100%;\n",
       "  margin-bottom: 0;\n",
       "  padding: 0.5em;\n",
       "  box-sizing: border-box;\n",
       "  text-align: center;\n",
       "}\n",
       "\n",
       "#sk-container-id-1 label.sk-toggleable__label-arrow:before {\n",
       "  /* Arrow on the left of the label */\n",
       "  content: \"▸\";\n",
       "  float: left;\n",
       "  margin-right: 0.25em;\n",
       "  color: var(--sklearn-color-icon);\n",
       "}\n",
       "\n",
       "#sk-container-id-1 label.sk-toggleable__label-arrow:hover:before {\n",
       "  color: var(--sklearn-color-text);\n",
       "}\n",
       "\n",
       "/* Toggleable content - dropdown */\n",
       "\n",
       "#sk-container-id-1 div.sk-toggleable__content {\n",
       "  max-height: 0;\n",
       "  max-width: 0;\n",
       "  overflow: hidden;\n",
       "  text-align: left;\n",
       "  /* unfitted */\n",
       "  background-color: var(--sklearn-color-unfitted-level-0);\n",
       "}\n",
       "\n",
       "#sk-container-id-1 div.sk-toggleable__content.fitted {\n",
       "  /* fitted */\n",
       "  background-color: var(--sklearn-color-fitted-level-0);\n",
       "}\n",
       "\n",
       "#sk-container-id-1 div.sk-toggleable__content pre {\n",
       "  margin: 0.2em;\n",
       "  border-radius: 0.25em;\n",
       "  color: var(--sklearn-color-text);\n",
       "  /* unfitted */\n",
       "  background-color: var(--sklearn-color-unfitted-level-0);\n",
       "}\n",
       "\n",
       "#sk-container-id-1 div.sk-toggleable__content.fitted pre {\n",
       "  /* unfitted */\n",
       "  background-color: var(--sklearn-color-fitted-level-0);\n",
       "}\n",
       "\n",
       "#sk-container-id-1 input.sk-toggleable__control:checked~div.sk-toggleable__content {\n",
       "  /* Expand drop-down */\n",
       "  max-height: 200px;\n",
       "  max-width: 100%;\n",
       "  overflow: auto;\n",
       "}\n",
       "\n",
       "#sk-container-id-1 input.sk-toggleable__control:checked~label.sk-toggleable__label-arrow:before {\n",
       "  content: \"▾\";\n",
       "}\n",
       "\n",
       "/* Pipeline/ColumnTransformer-specific style */\n",
       "\n",
       "#sk-container-id-1 div.sk-label input.sk-toggleable__control:checked~label.sk-toggleable__label {\n",
       "  color: var(--sklearn-color-text);\n",
       "  background-color: var(--sklearn-color-unfitted-level-2);\n",
       "}\n",
       "\n",
       "#sk-container-id-1 div.sk-label.fitted input.sk-toggleable__control:checked~label.sk-toggleable__label {\n",
       "  background-color: var(--sklearn-color-fitted-level-2);\n",
       "}\n",
       "\n",
       "/* Estimator-specific style */\n",
       "\n",
       "/* Colorize estimator box */\n",
       "#sk-container-id-1 div.sk-estimator input.sk-toggleable__control:checked~label.sk-toggleable__label {\n",
       "  /* unfitted */\n",
       "  background-color: var(--sklearn-color-unfitted-level-2);\n",
       "}\n",
       "\n",
       "#sk-container-id-1 div.sk-estimator.fitted input.sk-toggleable__control:checked~label.sk-toggleable__label {\n",
       "  /* fitted */\n",
       "  background-color: var(--sklearn-color-fitted-level-2);\n",
       "}\n",
       "\n",
       "#sk-container-id-1 div.sk-label label.sk-toggleable__label,\n",
       "#sk-container-id-1 div.sk-label label {\n",
       "  /* The background is the default theme color */\n",
       "  color: var(--sklearn-color-text-on-default-background);\n",
       "}\n",
       "\n",
       "/* On hover, darken the color of the background */\n",
       "#sk-container-id-1 div.sk-label:hover label.sk-toggleable__label {\n",
       "  color: var(--sklearn-color-text);\n",
       "  background-color: var(--sklearn-color-unfitted-level-2);\n",
       "}\n",
       "\n",
       "/* Label box, darken color on hover, fitted */\n",
       "#sk-container-id-1 div.sk-label.fitted:hover label.sk-toggleable__label.fitted {\n",
       "  color: var(--sklearn-color-text);\n",
       "  background-color: var(--sklearn-color-fitted-level-2);\n",
       "}\n",
       "\n",
       "/* Estimator label */\n",
       "\n",
       "#sk-container-id-1 div.sk-label label {\n",
       "  font-family: monospace;\n",
       "  font-weight: bold;\n",
       "  display: inline-block;\n",
       "  line-height: 1.2em;\n",
       "}\n",
       "\n",
       "#sk-container-id-1 div.sk-label-container {\n",
       "  text-align: center;\n",
       "}\n",
       "\n",
       "/* Estimator-specific */\n",
       "#sk-container-id-1 div.sk-estimator {\n",
       "  font-family: monospace;\n",
       "  border: 1px dotted var(--sklearn-color-border-box);\n",
       "  border-radius: 0.25em;\n",
       "  box-sizing: border-box;\n",
       "  margin-bottom: 0.5em;\n",
       "  /* unfitted */\n",
       "  background-color: var(--sklearn-color-unfitted-level-0);\n",
       "}\n",
       "\n",
       "#sk-container-id-1 div.sk-estimator.fitted {\n",
       "  /* fitted */\n",
       "  background-color: var(--sklearn-color-fitted-level-0);\n",
       "}\n",
       "\n",
       "/* on hover */\n",
       "#sk-container-id-1 div.sk-estimator:hover {\n",
       "  /* unfitted */\n",
       "  background-color: var(--sklearn-color-unfitted-level-2);\n",
       "}\n",
       "\n",
       "#sk-container-id-1 div.sk-estimator.fitted:hover {\n",
       "  /* fitted */\n",
       "  background-color: var(--sklearn-color-fitted-level-2);\n",
       "}\n",
       "\n",
       "/* Specification for estimator info (e.g. \"i\" and \"?\") */\n",
       "\n",
       "/* Common style for \"i\" and \"?\" */\n",
       "\n",
       ".sk-estimator-doc-link,\n",
       "a:link.sk-estimator-doc-link,\n",
       "a:visited.sk-estimator-doc-link {\n",
       "  float: right;\n",
       "  font-size: smaller;\n",
       "  line-height: 1em;\n",
       "  font-family: monospace;\n",
       "  background-color: var(--sklearn-color-background);\n",
       "  border-radius: 1em;\n",
       "  height: 1em;\n",
       "  width: 1em;\n",
       "  text-decoration: none !important;\n",
       "  margin-left: 1ex;\n",
       "  /* unfitted */\n",
       "  border: var(--sklearn-color-unfitted-level-1) 1pt solid;\n",
       "  color: var(--sklearn-color-unfitted-level-1);\n",
       "}\n",
       "\n",
       ".sk-estimator-doc-link.fitted,\n",
       "a:link.sk-estimator-doc-link.fitted,\n",
       "a:visited.sk-estimator-doc-link.fitted {\n",
       "  /* fitted */\n",
       "  border: var(--sklearn-color-fitted-level-1) 1pt solid;\n",
       "  color: var(--sklearn-color-fitted-level-1);\n",
       "}\n",
       "\n",
       "/* On hover */\n",
       "div.sk-estimator:hover .sk-estimator-doc-link:hover,\n",
       ".sk-estimator-doc-link:hover,\n",
       "div.sk-label-container:hover .sk-estimator-doc-link:hover,\n",
       ".sk-estimator-doc-link:hover {\n",
       "  /* unfitted */\n",
       "  background-color: var(--sklearn-color-unfitted-level-3);\n",
       "  color: var(--sklearn-color-background);\n",
       "  text-decoration: none;\n",
       "}\n",
       "\n",
       "div.sk-estimator.fitted:hover .sk-estimator-doc-link.fitted:hover,\n",
       ".sk-estimator-doc-link.fitted:hover,\n",
       "div.sk-label-container:hover .sk-estimator-doc-link.fitted:hover,\n",
       ".sk-estimator-doc-link.fitted:hover {\n",
       "  /* fitted */\n",
       "  background-color: var(--sklearn-color-fitted-level-3);\n",
       "  color: var(--sklearn-color-background);\n",
       "  text-decoration: none;\n",
       "}\n",
       "\n",
       "/* Span, style for the box shown on hovering the info icon */\n",
       ".sk-estimator-doc-link span {\n",
       "  display: none;\n",
       "  z-index: 9999;\n",
       "  position: relative;\n",
       "  font-weight: normal;\n",
       "  right: .2ex;\n",
       "  padding: .5ex;\n",
       "  margin: .5ex;\n",
       "  width: min-content;\n",
       "  min-width: 20ex;\n",
       "  max-width: 50ex;\n",
       "  color: var(--sklearn-color-text);\n",
       "  box-shadow: 2pt 2pt 4pt #999;\n",
       "  /* unfitted */\n",
       "  background: var(--sklearn-color-unfitted-level-0);\n",
       "  border: .5pt solid var(--sklearn-color-unfitted-level-3);\n",
       "}\n",
       "\n",
       ".sk-estimator-doc-link.fitted span {\n",
       "  /* fitted */\n",
       "  background: var(--sklearn-color-fitted-level-0);\n",
       "  border: var(--sklearn-color-fitted-level-3);\n",
       "}\n",
       "\n",
       ".sk-estimator-doc-link:hover span {\n",
       "  display: block;\n",
       "}\n",
       "\n",
       "/* \"?\"-specific style due to the `<a>` HTML tag */\n",
       "\n",
       "#sk-container-id-1 a.estimator_doc_link {\n",
       "  float: right;\n",
       "  font-size: 1rem;\n",
       "  line-height: 1em;\n",
       "  font-family: monospace;\n",
       "  background-color: var(--sklearn-color-background);\n",
       "  border-radius: 1rem;\n",
       "  height: 1rem;\n",
       "  width: 1rem;\n",
       "  text-decoration: none;\n",
       "  /* unfitted */\n",
       "  color: var(--sklearn-color-unfitted-level-1);\n",
       "  border: var(--sklearn-color-unfitted-level-1) 1pt solid;\n",
       "}\n",
       "\n",
       "#sk-container-id-1 a.estimator_doc_link.fitted {\n",
       "  /* fitted */\n",
       "  border: var(--sklearn-color-fitted-level-1) 1pt solid;\n",
       "  color: var(--sklearn-color-fitted-level-1);\n",
       "}\n",
       "\n",
       "/* On hover */\n",
       "#sk-container-id-1 a.estimator_doc_link:hover {\n",
       "  /* unfitted */\n",
       "  background-color: var(--sklearn-color-unfitted-level-3);\n",
       "  color: var(--sklearn-color-background);\n",
       "  text-decoration: none;\n",
       "}\n",
       "\n",
       "#sk-container-id-1 a.estimator_doc_link.fitted:hover {\n",
       "  /* fitted */\n",
       "  background-color: var(--sklearn-color-fitted-level-3);\n",
       "}\n",
       "</style><div id=\"sk-container-id-1\" class=\"sk-top-container\"><div class=\"sk-text-repr-fallback\"><pre>ColumnTransformer(transformers=[(&#x27;Fill in missing values&#x27;,\n",
       "                                 Pipeline(steps=[(&#x27;Data Imputation &#x27;\n",
       "                                                  &#x27;sea_level_pressure&#x27;,\n",
       "                                                  IterativeImputer(estimator=RandomForestRegressor(n_estimators=200,\n",
       "                                                                                                   n_jobs=-1,\n",
       "                                                                                                   random_state=42),\n",
       "                                                                   random_state=10)),\n",
       "                                                 (&#x27;Data Standardisation RS &#x27;\n",
       "                                                  &#x27;sea_level_pressure&#x27;,\n",
       "                                                  RobustScaler())]),\n",
       "                                 [&#x27;sea_level_pressure&#x27;]),\n",
       "                                (&#x27;Encoding Features&#x27;, OneHotEncoder(),\n",
       "                                 [&#x27;site_id_mapped&#x27;, &#x27;meter&#x27;, &#x27;primary_use&#x27;,\n",
       "                                  &#x27;wkday_dttm&#x27;, &#x27;month_dttm&#x27;]),\n",
       "                                (&#x27;Data Standardisation RS&#x27;, RobustScaler(),\n",
       "                                 [&#x27;square_feet&#x27;, &#x27;wind_speed&#x27;, &#x27;hour_dttm&#x27;]),\n",
       "                                (&#x27;Data Standardisation MinMax&#x27;, MinMaxScaler(),\n",
       "                                 [&#x27;air_temperature&#x27;, &#x27;dew_temperature&#x27;])])</pre><b>In a Jupyter environment, please rerun this cell to show the HTML representation or trust the notebook. <br />On GitHub, the HTML representation is unable to render, please try loading this page with nbviewer.org.</b></div><div class=\"sk-container\" hidden><div class=\"sk-item sk-dashed-wrapped\"><div class=\"sk-label-container\"><div class=\"sk-label fitted sk-toggleable\"><input class=\"sk-toggleable__control sk-hidden--visually\" id=\"sk-estimator-id-1\" type=\"checkbox\" ><label for=\"sk-estimator-id-1\" class=\"sk-toggleable__label fitted sk-toggleable__label-arrow fitted\">&nbsp;&nbsp;ColumnTransformer<a class=\"sk-estimator-doc-link fitted\" rel=\"noreferrer\" target=\"_blank\" href=\"https://scikit-learn.org/1.4/modules/generated/sklearn.compose.ColumnTransformer.html\">?<span>Documentation for ColumnTransformer</span></a><span class=\"sk-estimator-doc-link fitted\">i<span>Fitted</span></span></label><div class=\"sk-toggleable__content fitted\"><pre>ColumnTransformer(transformers=[(&#x27;Fill in missing values&#x27;,\n",
       "                                 Pipeline(steps=[(&#x27;Data Imputation &#x27;\n",
       "                                                  &#x27;sea_level_pressure&#x27;,\n",
       "                                                  IterativeImputer(estimator=RandomForestRegressor(n_estimators=200,\n",
       "                                                                                                   n_jobs=-1,\n",
       "                                                                                                   random_state=42),\n",
       "                                                                   random_state=10)),\n",
       "                                                 (&#x27;Data Standardisation RS &#x27;\n",
       "                                                  &#x27;sea_level_pressure&#x27;,\n",
       "                                                  RobustScaler())]),\n",
       "                                 [&#x27;sea_level_pressure&#x27;]),\n",
       "                                (&#x27;Encoding Features&#x27;, OneHotEncoder(),\n",
       "                                 [&#x27;site_id_mapped&#x27;, &#x27;meter&#x27;, &#x27;primary_use&#x27;,\n",
       "                                  &#x27;wkday_dttm&#x27;, &#x27;month_dttm&#x27;]),\n",
       "                                (&#x27;Data Standardisation RS&#x27;, RobustScaler(),\n",
       "                                 [&#x27;square_feet&#x27;, &#x27;wind_speed&#x27;, &#x27;hour_dttm&#x27;]),\n",
       "                                (&#x27;Data Standardisation MinMax&#x27;, MinMaxScaler(),\n",
       "                                 [&#x27;air_temperature&#x27;, &#x27;dew_temperature&#x27;])])</pre></div> </div></div><div class=\"sk-parallel\"><div class=\"sk-parallel-item\"><div class=\"sk-item\"><div class=\"sk-label-container\"><div class=\"sk-label fitted sk-toggleable\"><input class=\"sk-toggleable__control sk-hidden--visually\" id=\"sk-estimator-id-2\" type=\"checkbox\" ><label for=\"sk-estimator-id-2\" class=\"sk-toggleable__label fitted sk-toggleable__label-arrow fitted\">Fill in missing values</label><div class=\"sk-toggleable__content fitted\"><pre>[&#x27;sea_level_pressure&#x27;]</pre></div> </div></div><div class=\"sk-serial\"><div class=\"sk-item\"><div class=\"sk-serial\"><div class=\"sk-item sk-dashed-wrapped\"><div class=\"sk-label-container\"><div class=\"sk-label fitted sk-toggleable\"><input class=\"sk-toggleable__control sk-hidden--visually\" id=\"sk-estimator-id-3\" type=\"checkbox\" ><label for=\"sk-estimator-id-3\" class=\"sk-toggleable__label fitted sk-toggleable__label-arrow fitted\">&nbsp;Data Imputation sea_level_pressure: IterativeImputer<a class=\"sk-estimator-doc-link fitted\" rel=\"noreferrer\" target=\"_blank\" href=\"https://scikit-learn.org/1.4/modules/generated/sklearn.impute.IterativeImputer.html\">?<span>Documentation for Data Imputation sea_level_pressure: IterativeImputer</span></a></label><div class=\"sk-toggleable__content fitted\"><pre>IterativeImputer(estimator=RandomForestRegressor(n_estimators=200, n_jobs=-1,\n",
       "                                                 random_state=42),\n",
       "                 random_state=10)</pre></div> </div></div><div class=\"sk-parallel\"><div class=\"sk-parallel-item\"><div class=\"sk-item\"><div class=\"sk-label-container\"><div class=\"sk-label fitted sk-toggleable\"><input class=\"sk-toggleable__control sk-hidden--visually\" id=\"sk-estimator-id-4\" type=\"checkbox\" ><label for=\"sk-estimator-id-4\" class=\"sk-toggleable__label fitted sk-toggleable__label-arrow fitted\">estimator: RandomForestRegressor</label><div class=\"sk-toggleable__content fitted\"><pre>RandomForestRegressor(n_estimators=200, n_jobs=-1, random_state=42)</pre></div> </div></div><div class=\"sk-serial\"><div class=\"sk-item\"><div class=\"sk-estimator fitted sk-toggleable\"><input class=\"sk-toggleable__control sk-hidden--visually\" id=\"sk-estimator-id-5\" type=\"checkbox\" ><label for=\"sk-estimator-id-5\" class=\"sk-toggleable__label fitted sk-toggleable__label-arrow fitted\">&nbsp;RandomForestRegressor<a class=\"sk-estimator-doc-link fitted\" rel=\"noreferrer\" target=\"_blank\" href=\"https://scikit-learn.org/1.4/modules/generated/sklearn.ensemble.RandomForestRegressor.html\">?<span>Documentation for RandomForestRegressor</span></a></label><div class=\"sk-toggleable__content fitted\"><pre>RandomForestRegressor(n_estimators=200, n_jobs=-1, random_state=42)</pre></div> </div></div></div></div></div></div></div><div class=\"sk-item\"><div class=\"sk-estimator fitted sk-toggleable\"><input class=\"sk-toggleable__control sk-hidden--visually\" id=\"sk-estimator-id-6\" type=\"checkbox\" ><label for=\"sk-estimator-id-6\" class=\"sk-toggleable__label fitted sk-toggleable__label-arrow fitted\">&nbsp;RobustScaler<a class=\"sk-estimator-doc-link fitted\" rel=\"noreferrer\" target=\"_blank\" href=\"https://scikit-learn.org/1.4/modules/generated/sklearn.preprocessing.RobustScaler.html\">?<span>Documentation for RobustScaler</span></a></label><div class=\"sk-toggleable__content fitted\"><pre>RobustScaler()</pre></div> </div></div></div></div></div></div></div><div class=\"sk-parallel-item\"><div class=\"sk-item\"><div class=\"sk-label-container\"><div class=\"sk-label fitted sk-toggleable\"><input class=\"sk-toggleable__control sk-hidden--visually\" id=\"sk-estimator-id-7\" type=\"checkbox\" ><label for=\"sk-estimator-id-7\" class=\"sk-toggleable__label fitted sk-toggleable__label-arrow fitted\">Encoding Features</label><div class=\"sk-toggleable__content fitted\"><pre>[&#x27;site_id_mapped&#x27;, &#x27;meter&#x27;, &#x27;primary_use&#x27;, &#x27;wkday_dttm&#x27;, &#x27;month_dttm&#x27;]</pre></div> </div></div><div class=\"sk-serial\"><div class=\"sk-item\"><div class=\"sk-estimator fitted sk-toggleable\"><input class=\"sk-toggleable__control sk-hidden--visually\" id=\"sk-estimator-id-8\" type=\"checkbox\" ><label for=\"sk-estimator-id-8\" class=\"sk-toggleable__label fitted sk-toggleable__label-arrow fitted\">&nbsp;OneHotEncoder<a class=\"sk-estimator-doc-link fitted\" rel=\"noreferrer\" target=\"_blank\" href=\"https://scikit-learn.org/1.4/modules/generated/sklearn.preprocessing.OneHotEncoder.html\">?<span>Documentation for OneHotEncoder</span></a></label><div class=\"sk-toggleable__content fitted\"><pre>OneHotEncoder()</pre></div> </div></div></div></div></div><div class=\"sk-parallel-item\"><div class=\"sk-item\"><div class=\"sk-label-container\"><div class=\"sk-label fitted sk-toggleable\"><input class=\"sk-toggleable__control sk-hidden--visually\" id=\"sk-estimator-id-9\" type=\"checkbox\" ><label for=\"sk-estimator-id-9\" class=\"sk-toggleable__label fitted sk-toggleable__label-arrow fitted\">Data Standardisation RS</label><div class=\"sk-toggleable__content fitted\"><pre>[&#x27;square_feet&#x27;, &#x27;wind_speed&#x27;, &#x27;hour_dttm&#x27;]</pre></div> </div></div><div class=\"sk-serial\"><div class=\"sk-item\"><div class=\"sk-estimator fitted sk-toggleable\"><input class=\"sk-toggleable__control sk-hidden--visually\" id=\"sk-estimator-id-10\" type=\"checkbox\" ><label for=\"sk-estimator-id-10\" class=\"sk-toggleable__label fitted sk-toggleable__label-arrow fitted\">&nbsp;RobustScaler<a class=\"sk-estimator-doc-link fitted\" rel=\"noreferrer\" target=\"_blank\" href=\"https://scikit-learn.org/1.4/modules/generated/sklearn.preprocessing.RobustScaler.html\">?<span>Documentation for RobustScaler</span></a></label><div class=\"sk-toggleable__content fitted\"><pre>RobustScaler()</pre></div> </div></div></div></div></div><div class=\"sk-parallel-item\"><div class=\"sk-item\"><div class=\"sk-label-container\"><div class=\"sk-label fitted sk-toggleable\"><input class=\"sk-toggleable__control sk-hidden--visually\" id=\"sk-estimator-id-11\" type=\"checkbox\" ><label for=\"sk-estimator-id-11\" class=\"sk-toggleable__label fitted sk-toggleable__label-arrow fitted\">Data Standardisation MinMax</label><div class=\"sk-toggleable__content fitted\"><pre>[&#x27;air_temperature&#x27;, &#x27;dew_temperature&#x27;]</pre></div> </div></div><div class=\"sk-serial\"><div class=\"sk-item\"><div class=\"sk-estimator fitted sk-toggleable\"><input class=\"sk-toggleable__control sk-hidden--visually\" id=\"sk-estimator-id-12\" type=\"checkbox\" ><label for=\"sk-estimator-id-12\" class=\"sk-toggleable__label fitted sk-toggleable__label-arrow fitted\">&nbsp;MinMaxScaler<a class=\"sk-estimator-doc-link fitted\" rel=\"noreferrer\" target=\"_blank\" href=\"https://scikit-learn.org/1.4/modules/generated/sklearn.preprocessing.MinMaxScaler.html\">?<span>Documentation for MinMaxScaler</span></a></label><div class=\"sk-toggleable__content fitted\"><pre>MinMaxScaler()</pre></div> </div></div></div></div></div></div></div></div></div>"
      ],
      "text/plain": [
       "ColumnTransformer(transformers=[('Fill in missing values',\n",
       "                                 Pipeline(steps=[('Data Imputation '\n",
       "                                                  'sea_level_pressure',\n",
       "                                                  IterativeImputer(estimator=RandomForestRegressor(n_estimators=200,\n",
       "                                                                                                   n_jobs=-1,\n",
       "                                                                                                   random_state=42),\n",
       "                                                                   random_state=10)),\n",
       "                                                 ('Data Standardisation RS '\n",
       "                                                  'sea_level_pressure',\n",
       "                                                  RobustScaler())]),\n",
       "                                 ['sea_level_pressure']),\n",
       "                                ('Encoding Features', OneHotEncoder(),\n",
       "                                 ['site_id_mapped', 'meter', 'primary_use',\n",
       "                                  'wkday_dttm', 'month_dttm']),\n",
       "                                ('Data Standardisation RS', RobustScaler(),\n",
       "                                 ['square_feet', 'wind_speed', 'hour_dttm']),\n",
       "                                ('Data Standardisation MinMax', MinMaxScaler(),\n",
       "                                 ['air_temperature', 'dew_temperature'])])"
      ]
     },
     "execution_count": 35,
     "metadata": {},
     "output_type": "execute_result"
    }
   ],
   "source": [
    "# fit the transformer on training set ONLY: The parameters will be used on the test set a well\n",
    "preprocessing_pipeline.fit(x_train2)"
   ]
  },
  {
   "cell_type": "code",
   "execution_count": 36,
   "id": "e6ba68cc-893c-4c28-a210-75f32fb24d3a",
   "metadata": {},
   "outputs": [],
   "source": [
    "# transform training set\n",
    "x_trained_prepared2 = preprocessing_pipeline.transform(x_train2)\n",
    "\n",
    "# transform test and validation sets\n",
    "x_test_prepared2 = preprocessing_pipeline.transform(x_test2)\n",
    "x_val_prepared2 = preprocessing_pipeline.transform(x_val2)"
   ]
  },
  {
   "cell_type": "code",
   "execution_count": 37,
   "id": "cb1e7d6b-e12b-4a42-b3ed-629448245b03",
   "metadata": {},
   "outputs": [],
   "source": [
    "# convert to arrays\n",
    "x_trained_preprocessed_np = x_trained_prepared2.toarray()\n",
    "x_test_preprocessed_np = x_test_prepared2.toarray()\n",
    "x_val_preprocessed_np = x_val_prepared2.toarray()"
   ]
  },
  {
   "cell_type": "code",
   "execution_count": 38,
   "id": "cb93fb91-4150-4dcf-9686-60b656542b19",
   "metadata": {},
   "outputs": [],
   "source": [
    "# get feature names\n",
    "cols_to_clean = preprocessing_pipeline.get_feature_names_out()\n",
    "cols = [i.split('__')[-1] for i in cols_to_clean]"
   ]
  },
  {
   "cell_type": "markdown",
   "id": "eca8eb3a",
   "metadata": {},
   "source": [
    "## Exporting preprocessed results"
   ]
  },
  {
   "cell_type": "code",
   "execution_count": 39,
   "id": "ef64f2ee-69bb-4dd2-b03f-7e135c9a0ab2",
   "metadata": {},
   "outputs": [],
   "source": [
    "# export to dataframe\n",
    "x_trained_preprocessed = pd.DataFrame(x_trained_preprocessed_np, columns=cols)\n",
    "x_test_preprocessed = pd.DataFrame(x_test_preprocessed_np, columns=cols)\n",
    "x_val_preprocessed = pd.DataFrame(x_val_preprocessed_np, columns=cols)"
   ]
  },
  {
   "cell_type": "code",
   "execution_count": 40,
   "id": "e30ccaec-ab28-4608-ae53-67bcb21247f9",
   "metadata": {},
   "outputs": [],
   "source": [
    "# write to csv\n",
    "x_trained_preprocessed.to_csv('x_train.csv', index=False)\n",
    "x_test_preprocessed.to_csv('x_test.csv', index=False)\n",
    "x_val_preprocessed.to_csv('x_val.csv', index=False)"
   ]
  },
  {
   "cell_type": "code",
   "execution_count": 41,
   "id": "b292bab9",
   "metadata": {},
   "outputs": [],
   "source": [
    "# write to csv\n",
    "y_train.to_csv('y_train.csv', index=False)\n",
    "y_test.to_csv('y_test.csv', index=False)\n",
    "y_val.to_csv('y_val.csv', index=False) "
   ]
  },
  {
   "cell_type": "code",
   "execution_count": 42,
   "id": "a1c70117",
   "metadata": {},
   "outputs": [],
   "source": [
    "# rename back to original names\n",
    "x_train = x_trained_preprocessed\n",
    "x_test = x_test_preprocessed\n",
    "x_val = x_val_preprocessed"
   ]
  },
  {
   "cell_type": "markdown",
   "id": "47d7764f",
   "metadata": {},
   "source": [
    "# Run Final Model"
   ]
  },
  {
   "cell_type": "code",
   "execution_count": 43,
   "id": "ce7ce207",
   "metadata": {},
   "outputs": [],
   "source": [
    "# reset keras backend\n",
    "keras.backend.clear_session() "
   ]
  },
  {
   "cell_type": "markdown",
   "id": "d5331ae6",
   "metadata": {},
   "source": [
    "## Train Model"
   ]
  },
  {
   "cell_type": "code",
   "execution_count": 44,
   "id": "2f7f8331",
   "metadata": {},
   "outputs": [
    {
     "data": {
      "text/html": [
       "<pre style=\"white-space:pre;overflow-x:auto;line-height:normal;font-family:Menlo,'DejaVu Sans Mono',consolas,'Courier New',monospace\"><span style=\"font-weight: bold\">Model: \"sequential\"</span>\n",
       "</pre>\n"
      ],
      "text/plain": [
       "\u001b[1mModel: \"sequential\"\u001b[0m\n"
      ]
     },
     "metadata": {},
     "output_type": "display_data"
    },
    {
     "data": {
      "text/html": [
       "<pre style=\"white-space:pre;overflow-x:auto;line-height:normal;font-family:Menlo,'DejaVu Sans Mono',consolas,'Courier New',monospace\">┏━━━━━━━━━━━━━━━━━━━━━━━━━━━━━━━━━┳━━━━━━━━━━━━━━━━━━━━━━━━┳━━━━━━━━━━━━━━━┓\n",
       "┃<span style=\"font-weight: bold\"> Layer (type)                    </span>┃<span style=\"font-weight: bold\"> Output Shape           </span>┃<span style=\"font-weight: bold\">       Param # </span>┃\n",
       "┡━━━━━━━━━━━━━━━━━━━━━━━━━━━━━━━━━╇━━━━━━━━━━━━━━━━━━━━━━━━╇━━━━━━━━━━━━━━━┩\n",
       "│ dense (<span style=\"color: #0087ff; text-decoration-color: #0087ff\">Dense</span>)                   │ (<span style=\"color: #00d7ff; text-decoration-color: #00d7ff\">None</span>, <span style=\"color: #00af00; text-decoration-color: #00af00\">140</span>)            │         <span style=\"color: #00af00; text-decoration-color: #00af00\">8,120</span> │\n",
       "├─────────────────────────────────┼────────────────────────┼───────────────┤\n",
       "│ dense_1 (<span style=\"color: #0087ff; text-decoration-color: #0087ff\">Dense</span>)                 │ (<span style=\"color: #00d7ff; text-decoration-color: #00d7ff\">None</span>, <span style=\"color: #00af00; text-decoration-color: #00af00\">228</span>)            │        <span style=\"color: #00af00; text-decoration-color: #00af00\">32,148</span> │\n",
       "├─────────────────────────────────┼────────────────────────┼───────────────┤\n",
       "│ dense_2 (<span style=\"color: #0087ff; text-decoration-color: #0087ff\">Dense</span>)                 │ (<span style=\"color: #00d7ff; text-decoration-color: #00d7ff\">None</span>, <span style=\"color: #00af00; text-decoration-color: #00af00\">1</span>)              │           <span style=\"color: #00af00; text-decoration-color: #00af00\">229</span> │\n",
       "└─────────────────────────────────┴────────────────────────┴───────────────┘\n",
       "</pre>\n"
      ],
      "text/plain": [
       "┏━━━━━━━━━━━━━━━━━━━━━━━━━━━━━━━━━┳━━━━━━━━━━━━━━━━━━━━━━━━┳━━━━━━━━━━━━━━━┓\n",
       "┃\u001b[1m \u001b[0m\u001b[1mLayer (type)                   \u001b[0m\u001b[1m \u001b[0m┃\u001b[1m \u001b[0m\u001b[1mOutput Shape          \u001b[0m\u001b[1m \u001b[0m┃\u001b[1m \u001b[0m\u001b[1m      Param #\u001b[0m\u001b[1m \u001b[0m┃\n",
       "┡━━━━━━━━━━━━━━━━━━━━━━━━━━━━━━━━━╇━━━━━━━━━━━━━━━━━━━━━━━━╇━━━━━━━━━━━━━━━┩\n",
       "│ dense (\u001b[38;5;33mDense\u001b[0m)                   │ (\u001b[38;5;45mNone\u001b[0m, \u001b[38;5;34m140\u001b[0m)            │         \u001b[38;5;34m8,120\u001b[0m │\n",
       "├─────────────────────────────────┼────────────────────────┼───────────────┤\n",
       "│ dense_1 (\u001b[38;5;33mDense\u001b[0m)                 │ (\u001b[38;5;45mNone\u001b[0m, \u001b[38;5;34m228\u001b[0m)            │        \u001b[38;5;34m32,148\u001b[0m │\n",
       "├─────────────────────────────────┼────────────────────────┼───────────────┤\n",
       "│ dense_2 (\u001b[38;5;33mDense\u001b[0m)                 │ (\u001b[38;5;45mNone\u001b[0m, \u001b[38;5;34m1\u001b[0m)              │           \u001b[38;5;34m229\u001b[0m │\n",
       "└─────────────────────────────────┴────────────────────────┴───────────────┘\n"
      ]
     },
     "metadata": {},
     "output_type": "display_data"
    },
    {
     "data": {
      "text/html": [
       "<pre style=\"white-space:pre;overflow-x:auto;line-height:normal;font-family:Menlo,'DejaVu Sans Mono',consolas,'Courier New',monospace\"><span style=\"font-weight: bold\"> Total params: </span><span style=\"color: #00af00; text-decoration-color: #00af00\">40,497</span> (158.19 KB)\n",
       "</pre>\n"
      ],
      "text/plain": [
       "\u001b[1m Total params: \u001b[0m\u001b[38;5;34m40,497\u001b[0m (158.19 KB)\n"
      ]
     },
     "metadata": {},
     "output_type": "display_data"
    },
    {
     "data": {
      "text/html": [
       "<pre style=\"white-space:pre;overflow-x:auto;line-height:normal;font-family:Menlo,'DejaVu Sans Mono',consolas,'Courier New',monospace\"><span style=\"font-weight: bold\"> Trainable params: </span><span style=\"color: #00af00; text-decoration-color: #00af00\">40,497</span> (158.19 KB)\n",
       "</pre>\n"
      ],
      "text/plain": [
       "\u001b[1m Trainable params: \u001b[0m\u001b[38;5;34m40,497\u001b[0m (158.19 KB)\n"
      ]
     },
     "metadata": {},
     "output_type": "display_data"
    },
    {
     "data": {
      "text/html": [
       "<pre style=\"white-space:pre;overflow-x:auto;line-height:normal;font-family:Menlo,'DejaVu Sans Mono',consolas,'Courier New',monospace\"><span style=\"font-weight: bold\"> Non-trainable params: </span><span style=\"color: #00af00; text-decoration-color: #00af00\">0</span> (0.00 B)\n",
       "</pre>\n"
      ],
      "text/plain": [
       "\u001b[1m Non-trainable params: \u001b[0m\u001b[38;5;34m0\u001b[0m (0.00 B)\n"
      ]
     },
     "metadata": {},
     "output_type": "display_data"
    },
    {
     "name": "stdout",
     "output_type": "stream",
     "text": [
      "Epoch 1/100\n",
      "\u001b[1m20079/20079\u001b[0m \u001b[32m━━━━━━━━━━━━━━━━━━━━\u001b[0m\u001b[37m\u001b[0m \u001b[1m59s\u001b[0m 3ms/step - loss: 0.1580 - root_mean_squared_error: 0.3931 - val_loss: 0.1109 - val_root_mean_squared_error: 0.3330\n",
      "Epoch 2/100\n",
      "\u001b[1m20079/20079\u001b[0m \u001b[32m━━━━━━━━━━━━━━━━━━━━\u001b[0m\u001b[37m\u001b[0m \u001b[1m54s\u001b[0m 3ms/step - loss: 0.1098 - root_mean_squared_error: 0.3314 - val_loss: 0.1010 - val_root_mean_squared_error: 0.3177\n",
      "Epoch 3/100\n",
      "\u001b[1m20079/20079\u001b[0m \u001b[32m━━━━━━━━━━━━━━━━━━━━\u001b[0m\u001b[37m\u001b[0m \u001b[1m55s\u001b[0m 3ms/step - loss: 0.1009 - root_mean_squared_error: 0.3176 - val_loss: 0.0948 - val_root_mean_squared_error: 0.3079\n",
      "Epoch 4/100\n",
      "\u001b[1m20079/20079\u001b[0m \u001b[32m━━━━━━━━━━━━━━━━━━━━\u001b[0m\u001b[37m\u001b[0m \u001b[1m56s\u001b[0m 3ms/step - loss: 0.0953 - root_mean_squared_error: 0.3087 - val_loss: 0.0902 - val_root_mean_squared_error: 0.3004\n",
      "Epoch 5/100\n",
      "\u001b[1m20079/20079\u001b[0m \u001b[32m━━━━━━━━━━━━━━━━━━━━\u001b[0m\u001b[37m\u001b[0m \u001b[1m58s\u001b[0m 3ms/step - loss: 0.0912 - root_mean_squared_error: 0.3020 - val_loss: 0.0870 - val_root_mean_squared_error: 0.2950\n",
      "Epoch 6/100\n",
      "\u001b[1m20079/20079\u001b[0m \u001b[32m━━━━━━━━━━━━━━━━━━━━\u001b[0m\u001b[37m\u001b[0m \u001b[1m57s\u001b[0m 3ms/step - loss: 0.0885 - root_mean_squared_error: 0.2975 - val_loss: 0.0851 - val_root_mean_squared_error: 0.2916\n",
      "Epoch 7/100\n",
      "\u001b[1m20079/20079\u001b[0m \u001b[32m━━━━━━━━━━━━━━━━━━━━\u001b[0m\u001b[37m\u001b[0m \u001b[1m54s\u001b[0m 3ms/step - loss: 0.0866 - root_mean_squared_error: 0.2942 - val_loss: 0.0836 - val_root_mean_squared_error: 0.2891\n",
      "Epoch 8/100\n",
      "\u001b[1m20079/20079\u001b[0m \u001b[32m━━━━━━━━━━━━━━━━━━━━\u001b[0m\u001b[37m\u001b[0m \u001b[1m53s\u001b[0m 3ms/step - loss: 0.0850 - root_mean_squared_error: 0.2916 - val_loss: 0.0825 - val_root_mean_squared_error: 0.2871\n",
      "Epoch 9/100\n",
      "\u001b[1m20079/20079\u001b[0m \u001b[32m━━━━━━━━━━━━━━━━━━━━\u001b[0m\u001b[37m\u001b[0m \u001b[1m55s\u001b[0m 3ms/step - loss: 0.0838 - root_mean_squared_error: 0.2894 - val_loss: 0.0816 - val_root_mean_squared_error: 0.2856\n",
      "Epoch 10/100\n",
      "\u001b[1m20079/20079\u001b[0m \u001b[32m━━━━━━━━━━━━━━━━━━━━\u001b[0m\u001b[37m\u001b[0m \u001b[1m52s\u001b[0m 3ms/step - loss: 0.0827 - root_mean_squared_error: 0.2876 - val_loss: 0.0810 - val_root_mean_squared_error: 0.2846\n",
      "Epoch 11/100\n",
      "\u001b[1m20079/20079\u001b[0m \u001b[32m━━━━━━━━━━━━━━━━━━━━\u001b[0m\u001b[37m\u001b[0m \u001b[1m50s\u001b[0m 3ms/step - loss: 0.0818 - root_mean_squared_error: 0.2859 - val_loss: 0.0805 - val_root_mean_squared_error: 0.2837\n",
      "Epoch 12/100\n",
      "\u001b[1m20079/20079\u001b[0m \u001b[32m━━━━━━━━━━━━━━━━━━━━\u001b[0m\u001b[37m\u001b[0m \u001b[1m51s\u001b[0m 3ms/step - loss: 0.0809 - root_mean_squared_error: 0.2845 - val_loss: 0.0800 - val_root_mean_squared_error: 0.2829\n",
      "Epoch 13/100\n",
      "\u001b[1m20079/20079\u001b[0m \u001b[32m━━━━━━━━━━━━━━━━━━━━\u001b[0m\u001b[37m\u001b[0m \u001b[1m52s\u001b[0m 3ms/step - loss: 0.0802 - root_mean_squared_error: 0.2832 - val_loss: 0.0795 - val_root_mean_squared_error: 0.2820\n",
      "Epoch 14/100\n",
      "\u001b[1m20079/20079\u001b[0m \u001b[32m━━━━━━━━━━━━━━━━━━━━\u001b[0m\u001b[37m\u001b[0m \u001b[1m52s\u001b[0m 3ms/step - loss: 0.0795 - root_mean_squared_error: 0.2820 - val_loss: 0.0790 - val_root_mean_squared_error: 0.2810\n",
      "Epoch 15/100\n",
      "\u001b[1m20079/20079\u001b[0m \u001b[32m━━━━━━━━━━━━━━━━━━━━\u001b[0m\u001b[37m\u001b[0m \u001b[1m54s\u001b[0m 3ms/step - loss: 0.0789 - root_mean_squared_error: 0.2809 - val_loss: 0.0783 - val_root_mean_squared_error: 0.2798\n",
      "Epoch 16/100\n",
      "\u001b[1m20079/20079\u001b[0m \u001b[32m━━━━━━━━━━━━━━━━━━━━\u001b[0m\u001b[37m\u001b[0m \u001b[1m56s\u001b[0m 3ms/step - loss: 0.0783 - root_mean_squared_error: 0.2799 - val_loss: 0.0775 - val_root_mean_squared_error: 0.2785\n",
      "Epoch 17/100\n",
      "\u001b[1m20079/20079\u001b[0m \u001b[32m━━━━━━━━━━━━━━━━━━━━\u001b[0m\u001b[37m\u001b[0m \u001b[1m57s\u001b[0m 3ms/step - loss: 0.0778 - root_mean_squared_error: 0.2789 - val_loss: 0.0768 - val_root_mean_squared_error: 0.2771\n",
      "Epoch 18/100\n",
      "\u001b[1m20079/20079\u001b[0m \u001b[32m━━━━━━━━━━━━━━━━━━━━\u001b[0m\u001b[37m\u001b[0m \u001b[1m52s\u001b[0m 3ms/step - loss: 0.0773 - root_mean_squared_error: 0.2780 - val_loss: 0.0760 - val_root_mean_squared_error: 0.2758\n",
      "Epoch 19/100\n",
      "\u001b[1m20079/20079\u001b[0m \u001b[32m━━━━━━━━━━━━━━━━━━━━\u001b[0m\u001b[37m\u001b[0m \u001b[1m54s\u001b[0m 3ms/step - loss: 0.0769 - root_mean_squared_error: 0.2772 - val_loss: 0.0754 - val_root_mean_squared_error: 0.2746\n",
      "Epoch 20/100\n",
      "\u001b[1m20079/20079\u001b[0m \u001b[32m━━━━━━━━━━━━━━━━━━━━\u001b[0m\u001b[37m\u001b[0m \u001b[1m55s\u001b[0m 3ms/step - loss: 0.0764 - root_mean_squared_error: 0.2765 - val_loss: 0.0749 - val_root_mean_squared_error: 0.2736\n",
      "Epoch 21/100\n",
      "\u001b[1m20079/20079\u001b[0m \u001b[32m━━━━━━━━━━━━━━━━━━━━\u001b[0m\u001b[37m\u001b[0m \u001b[1m52s\u001b[0m 3ms/step - loss: 0.0761 - root_mean_squared_error: 0.2758 - val_loss: 0.0744 - val_root_mean_squared_error: 0.2727\n",
      "Epoch 22/100\n",
      "\u001b[1m20079/20079\u001b[0m \u001b[32m━━━━━━━━━━━━━━━━━━━━\u001b[0m\u001b[37m\u001b[0m \u001b[1m56s\u001b[0m 3ms/step - loss: 0.0757 - root_mean_squared_error: 0.2751 - val_loss: 0.0740 - val_root_mean_squared_error: 0.2720\n",
      "Epoch 23/100\n",
      "\u001b[1m20079/20079\u001b[0m \u001b[32m━━━━━━━━━━━━━━━━━━━━\u001b[0m\u001b[37m\u001b[0m \u001b[1m52s\u001b[0m 3ms/step - loss: 0.0753 - root_mean_squared_error: 0.2745 - val_loss: 0.0736 - val_root_mean_squared_error: 0.2714\n",
      "Epoch 24/100\n",
      "\u001b[1m20079/20079\u001b[0m \u001b[32m━━━━━━━━━━━━━━━━━━━━\u001b[0m\u001b[37m\u001b[0m \u001b[1m52s\u001b[0m 3ms/step - loss: 0.0750 - root_mean_squared_error: 0.2739 - val_loss: 0.0734 - val_root_mean_squared_error: 0.2709\n",
      "Epoch 25/100\n",
      "\u001b[1m20079/20079\u001b[0m \u001b[32m━━━━━━━━━━━━━━━━━━━━\u001b[0m\u001b[37m\u001b[0m \u001b[1m53s\u001b[0m 3ms/step - loss: 0.0747 - root_mean_squared_error: 0.2734 - val_loss: 0.0732 - val_root_mean_squared_error: 0.2705\n",
      "Epoch 26/100\n",
      "\u001b[1m20079/20079\u001b[0m \u001b[32m━━━━━━━━━━━━━━━━━━━━\u001b[0m\u001b[37m\u001b[0m \u001b[1m52s\u001b[0m 3ms/step - loss: 0.0745 - root_mean_squared_error: 0.2729 - val_loss: 0.0730 - val_root_mean_squared_error: 0.2701\n",
      "Epoch 27/100\n",
      "\u001b[1m20079/20079\u001b[0m \u001b[32m━━━━━━━━━━━━━━━━━━━━\u001b[0m\u001b[37m\u001b[0m \u001b[1m52s\u001b[0m 3ms/step - loss: 0.0742 - root_mean_squared_error: 0.2723 - val_loss: 0.0728 - val_root_mean_squared_error: 0.2697\n",
      "Epoch 28/100\n",
      "\u001b[1m20079/20079\u001b[0m \u001b[32m━━━━━━━━━━━━━━━━━━━━\u001b[0m\u001b[37m\u001b[0m \u001b[1m57s\u001b[0m 3ms/step - loss: 0.0739 - root_mean_squared_error: 0.2718 - val_loss: 0.0726 - val_root_mean_squared_error: 0.2694\n",
      "Epoch 29/100\n",
      "\u001b[1m20079/20079\u001b[0m \u001b[32m━━━━━━━━━━━━━━━━━━━━\u001b[0m\u001b[37m\u001b[0m \u001b[1m55s\u001b[0m 3ms/step - loss: 0.0736 - root_mean_squared_error: 0.2714 - val_loss: 0.0724 - val_root_mean_squared_error: 0.2690\n",
      "Epoch 30/100\n",
      "\u001b[1m20079/20079\u001b[0m \u001b[32m━━━━━━━━━━━━━━━━━━━━\u001b[0m\u001b[37m\u001b[0m \u001b[1m52s\u001b[0m 3ms/step - loss: 0.0734 - root_mean_squared_error: 0.2709 - val_loss: 0.0722 - val_root_mean_squared_error: 0.2687\n",
      "Epoch 31/100\n",
      "\u001b[1m20079/20079\u001b[0m \u001b[32m━━━━━━━━━━━━━━━━━━━━\u001b[0m\u001b[37m\u001b[0m \u001b[1m55s\u001b[0m 3ms/step - loss: 0.0732 - root_mean_squared_error: 0.2705 - val_loss: 0.0720 - val_root_mean_squared_error: 0.2684\n",
      "Epoch 32/100\n",
      "\u001b[1m20079/20079\u001b[0m \u001b[32m━━━━━━━━━━━━━━━━━━━━\u001b[0m\u001b[37m\u001b[0m \u001b[1m51s\u001b[0m 3ms/step - loss: 0.0729 - root_mean_squared_error: 0.2701 - val_loss: 0.0719 - val_root_mean_squared_error: 0.2681\n",
      "Epoch 33/100\n",
      "\u001b[1m20079/20079\u001b[0m \u001b[32m━━━━━━━━━━━━━━━━━━━━\u001b[0m\u001b[37m\u001b[0m \u001b[1m50s\u001b[0m 2ms/step - loss: 0.0727 - root_mean_squared_error: 0.2697 - val_loss: 0.0717 - val_root_mean_squared_error: 0.2677\n",
      "Epoch 34/100\n",
      "\u001b[1m20079/20079\u001b[0m \u001b[32m━━━━━━━━━━━━━━━━━━━━\u001b[0m\u001b[37m\u001b[0m \u001b[1m54s\u001b[0m 3ms/step - loss: 0.0725 - root_mean_squared_error: 0.2693 - val_loss: 0.0716 - val_root_mean_squared_error: 0.2676\n",
      "Epoch 35/100\n",
      "\u001b[1m20079/20079\u001b[0m \u001b[32m━━━━━━━━━━━━━━━━━━━━\u001b[0m\u001b[37m\u001b[0m \u001b[1m52s\u001b[0m 3ms/step - loss: 0.0723 - root_mean_squared_error: 0.2689 - val_loss: 0.0714 - val_root_mean_squared_error: 0.2671\n",
      "Epoch 36/100\n",
      "\u001b[1m20079/20079\u001b[0m \u001b[32m━━━━━━━━━━━━━━━━━━━━\u001b[0m\u001b[37m\u001b[0m \u001b[1m50s\u001b[0m 2ms/step - loss: 0.0721 - root_mean_squared_error: 0.2685 - val_loss: 0.0712 - val_root_mean_squared_error: 0.2668\n",
      "Epoch 37/100\n",
      "\u001b[1m20079/20079\u001b[0m \u001b[32m━━━━━━━━━━━━━━━━━━━━\u001b[0m\u001b[37m\u001b[0m \u001b[1m52s\u001b[0m 3ms/step - loss: 0.0719 - root_mean_squared_error: 0.2681 - val_loss: 0.0710 - val_root_mean_squared_error: 0.2665\n",
      "Epoch 38/100\n",
      "\u001b[1m20079/20079\u001b[0m \u001b[32m━━━━━━━━━━━━━━━━━━━━\u001b[0m\u001b[37m\u001b[0m \u001b[1m54s\u001b[0m 3ms/step - loss: 0.0717 - root_mean_squared_error: 0.2678 - val_loss: 0.0709 - val_root_mean_squared_error: 0.2662\n",
      "Epoch 39/100\n",
      "\u001b[1m20079/20079\u001b[0m \u001b[32m━━━━━━━━━━━━━━━━━━━━\u001b[0m\u001b[37m\u001b[0m \u001b[1m51s\u001b[0m 3ms/step - loss: 0.0715 - root_mean_squared_error: 0.2674 - val_loss: 0.0708 - val_root_mean_squared_error: 0.2660\n",
      "Epoch 40/100\n",
      "\u001b[1m20079/20079\u001b[0m \u001b[32m━━━━━━━━━━━━━━━━━━━━\u001b[0m\u001b[37m\u001b[0m \u001b[1m51s\u001b[0m 3ms/step - loss: 0.0713 - root_mean_squared_error: 0.2671 - val_loss: 0.0707 - val_root_mean_squared_error: 0.2658\n",
      "Epoch 41/100\n",
      "\u001b[1m20079/20079\u001b[0m \u001b[32m━━━━━━━━━━━━━━━━━━━━\u001b[0m\u001b[37m\u001b[0m \u001b[1m51s\u001b[0m 3ms/step - loss: 0.0712 - root_mean_squared_error: 0.2668 - val_loss: 0.0706 - val_root_mean_squared_error: 0.2657\n",
      "Epoch 42/100\n",
      "\u001b[1m20079/20079\u001b[0m \u001b[32m━━━━━━━━━━━━━━━━━━━━\u001b[0m\u001b[37m\u001b[0m \u001b[1m49s\u001b[0m 2ms/step - loss: 0.0710 - root_mean_squared_error: 0.2664 - val_loss: 0.0704 - val_root_mean_squared_error: 0.2653\n",
      "Epoch 43/100\n",
      "\u001b[1m20079/20079\u001b[0m \u001b[32m━━━━━━━━━━━━━━━━━━━━\u001b[0m\u001b[37m\u001b[0m \u001b[1m50s\u001b[0m 2ms/step - loss: 0.0708 - root_mean_squared_error: 0.2661 - val_loss: 0.0703 - val_root_mean_squared_error: 0.2651\n",
      "Epoch 44/100\n",
      "\u001b[1m20079/20079\u001b[0m \u001b[32m━━━━━━━━━━━━━━━━━━━━\u001b[0m\u001b[37m\u001b[0m \u001b[1m52s\u001b[0m 3ms/step - loss: 0.0706 - root_mean_squared_error: 0.2657 - val_loss: 0.0702 - val_root_mean_squared_error: 0.2650\n",
      "Epoch 45/100\n",
      "\u001b[1m20079/20079\u001b[0m \u001b[32m━━━━━━━━━━━━━━━━━━━━\u001b[0m\u001b[37m\u001b[0m \u001b[1m51s\u001b[0m 3ms/step - loss: 0.0704 - root_mean_squared_error: 0.2654 - val_loss: 0.0701 - val_root_mean_squared_error: 0.2647\n",
      "Epoch 46/100\n",
      "\u001b[1m20079/20079\u001b[0m \u001b[32m━━━━━━━━━━━━━━━━━━━━\u001b[0m\u001b[37m\u001b[0m \u001b[1m50s\u001b[0m 2ms/step - loss: 0.0703 - root_mean_squared_error: 0.2651 - val_loss: 0.0699 - val_root_mean_squared_error: 0.2644\n",
      "Epoch 47/100\n",
      "\u001b[1m20079/20079\u001b[0m \u001b[32m━━━━━━━━━━━━━━━━━━━━\u001b[0m\u001b[37m\u001b[0m \u001b[1m49s\u001b[0m 2ms/step - loss: 0.0701 - root_mean_squared_error: 0.2648 - val_loss: 0.0698 - val_root_mean_squared_error: 0.2641\n",
      "Epoch 48/100\n",
      "\u001b[1m20079/20079\u001b[0m \u001b[32m━━━━━━━━━━━━━━━━━━━━\u001b[0m\u001b[37m\u001b[0m \u001b[1m50s\u001b[0m 2ms/step - loss: 0.0700 - root_mean_squared_error: 0.2645 - val_loss: 0.0696 - val_root_mean_squared_error: 0.2638\n",
      "Epoch 49/100\n",
      "\u001b[1m20079/20079\u001b[0m \u001b[32m━━━━━━━━━━━━━━━━━━━━\u001b[0m\u001b[37m\u001b[0m \u001b[1m49s\u001b[0m 2ms/step - loss: 0.0698 - root_mean_squared_error: 0.2642 - val_loss: 0.0694 - val_root_mean_squared_error: 0.2634\n",
      "Epoch 50/100\n",
      "\u001b[1m20079/20079\u001b[0m \u001b[32m━━━━━━━━━━━━━━━━━━━━\u001b[0m\u001b[37m\u001b[0m \u001b[1m50s\u001b[0m 2ms/step - loss: 0.0696 - root_mean_squared_error: 0.2639 - val_loss: 0.0692 - val_root_mean_squared_error: 0.2630\n",
      "Epoch 51/100\n",
      "\u001b[1m20079/20079\u001b[0m \u001b[32m━━━━━━━━━━━━━━━━━━━━\u001b[0m\u001b[37m\u001b[0m \u001b[1m55s\u001b[0m 3ms/step - loss: 0.0695 - root_mean_squared_error: 0.2635 - val_loss: 0.0689 - val_root_mean_squared_error: 0.2626\n",
      "Epoch 52/100\n",
      "\u001b[1m20079/20079\u001b[0m \u001b[32m━━━━━━━━━━━━━━━━━━━━\u001b[0m\u001b[37m\u001b[0m \u001b[1m51s\u001b[0m 3ms/step - loss: 0.0693 - root_mean_squared_error: 0.2632 - val_loss: 0.0687 - val_root_mean_squared_error: 0.2622\n",
      "Epoch 53/100\n",
      "\u001b[1m20079/20079\u001b[0m \u001b[32m━━━━━━━━━━━━━━━━━━━━\u001b[0m\u001b[37m\u001b[0m \u001b[1m55s\u001b[0m 3ms/step - loss: 0.0691 - root_mean_squared_error: 0.2629 - val_loss: 0.0686 - val_root_mean_squared_error: 0.2618\n",
      "Epoch 54/100\n",
      "\u001b[1m20079/20079\u001b[0m \u001b[32m━━━━━━━━━━━━━━━━━━━━\u001b[0m\u001b[37m\u001b[0m \u001b[1m55s\u001b[0m 3ms/step - loss: 0.0690 - root_mean_squared_error: 0.2626 - val_loss: 0.0683 - val_root_mean_squared_error: 0.2614\n",
      "Epoch 55/100\n",
      "\u001b[1m20079/20079\u001b[0m \u001b[32m━━━━━━━━━━━━━━━━━━━━\u001b[0m\u001b[37m\u001b[0m \u001b[1m50s\u001b[0m 3ms/step - loss: 0.0688 - root_mean_squared_error: 0.2623 - val_loss: 0.0681 - val_root_mean_squared_error: 0.2610\n",
      "Epoch 56/100\n",
      "\u001b[1m20079/20079\u001b[0m \u001b[32m━━━━━━━━━━━━━━━━━━━━\u001b[0m\u001b[37m\u001b[0m \u001b[1m52s\u001b[0m 3ms/step - loss: 0.0686 - root_mean_squared_error: 0.2620 - val_loss: 0.0679 - val_root_mean_squared_error: 0.2606\n",
      "Epoch 57/100\n",
      "\u001b[1m20079/20079\u001b[0m \u001b[32m━━━━━━━━━━━━━━━━━━━━\u001b[0m\u001b[37m\u001b[0m \u001b[1m55s\u001b[0m 3ms/step - loss: 0.0685 - root_mean_squared_error: 0.2617 - val_loss: 0.0677 - val_root_mean_squared_error: 0.2601\n",
      "Epoch 58/100\n",
      "\u001b[1m20079/20079\u001b[0m \u001b[32m━━━━━━━━━━━━━━━━━━━━\u001b[0m\u001b[37m\u001b[0m \u001b[1m62s\u001b[0m 3ms/step - loss: 0.0683 - root_mean_squared_error: 0.2614 - val_loss: 0.0674 - val_root_mean_squared_error: 0.2597\n",
      "Epoch 59/100\n",
      "\u001b[1m20079/20079\u001b[0m \u001b[32m━━━━━━━━━━━━━━━━━━━━\u001b[0m\u001b[37m\u001b[0m \u001b[1m54s\u001b[0m 3ms/step - loss: 0.0682 - root_mean_squared_error: 0.2611 - val_loss: 0.0673 - val_root_mean_squared_error: 0.2593\n",
      "Epoch 60/100\n",
      "\u001b[1m20079/20079\u001b[0m \u001b[32m━━━━━━━━━━━━━━━━━━━━\u001b[0m\u001b[37m\u001b[0m \u001b[1m55s\u001b[0m 3ms/step - loss: 0.0680 - root_mean_squared_error: 0.2609 - val_loss: 0.0671 - val_root_mean_squared_error: 0.2590\n",
      "Epoch 61/100\n",
      "\u001b[1m20079/20079\u001b[0m \u001b[32m━━━━━━━━━━━━━━━━━━━━\u001b[0m\u001b[37m\u001b[0m \u001b[1m57s\u001b[0m 3ms/step - loss: 0.0679 - root_mean_squared_error: 0.2606 - val_loss: 0.0669 - val_root_mean_squared_error: 0.2587\n",
      "Epoch 62/100\n",
      "\u001b[1m20079/20079\u001b[0m \u001b[32m━━━━━━━━━━━━━━━━━━━━\u001b[0m\u001b[37m\u001b[0m \u001b[1m61s\u001b[0m 3ms/step - loss: 0.0678 - root_mean_squared_error: 0.2603 - val_loss: 0.0667 - val_root_mean_squared_error: 0.2583\n",
      "Epoch 63/100\n",
      "\u001b[1m20079/20079\u001b[0m \u001b[32m━━━━━━━━━━━━━━━━━━━━\u001b[0m\u001b[37m\u001b[0m \u001b[1m57s\u001b[0m 3ms/step - loss: 0.0676 - root_mean_squared_error: 0.2600 - val_loss: 0.0666 - val_root_mean_squared_error: 0.2581\n",
      "Epoch 64/100\n",
      "\u001b[1m20079/20079\u001b[0m \u001b[32m━━━━━━━━━━━━━━━━━━━━\u001b[0m\u001b[37m\u001b[0m \u001b[1m53s\u001b[0m 3ms/step - loss: 0.0675 - root_mean_squared_error: 0.2598 - val_loss: 0.0665 - val_root_mean_squared_error: 0.2579\n",
      "Epoch 65/100\n",
      "\u001b[1m20079/20079\u001b[0m \u001b[32m━━━━━━━━━━━━━━━━━━━━\u001b[0m\u001b[37m\u001b[0m \u001b[1m57s\u001b[0m 3ms/step - loss: 0.0674 - root_mean_squared_error: 0.2595 - val_loss: 0.0664 - val_root_mean_squared_error: 0.2577\n",
      "Epoch 66/100\n",
      "\u001b[1m20079/20079\u001b[0m \u001b[32m━━━━━━━━━━━━━━━━━━━━\u001b[0m\u001b[37m\u001b[0m \u001b[1m51s\u001b[0m 3ms/step - loss: 0.0672 - root_mean_squared_error: 0.2593 - val_loss: 0.0662 - val_root_mean_squared_error: 0.2574\n",
      "Epoch 67/100\n",
      "\u001b[1m20079/20079\u001b[0m \u001b[32m━━━━━━━━━━━━━━━━━━━━\u001b[0m\u001b[37m\u001b[0m \u001b[1m54s\u001b[0m 3ms/step - loss: 0.0671 - root_mean_squared_error: 0.2591 - val_loss: 0.0661 - val_root_mean_squared_error: 0.2571\n",
      "Epoch 68/100\n",
      "\u001b[1m20079/20079\u001b[0m \u001b[32m━━━━━━━━━━━━━━━━━━━━\u001b[0m\u001b[37m\u001b[0m \u001b[1m52s\u001b[0m 3ms/step - loss: 0.0670 - root_mean_squared_error: 0.2589 - val_loss: 0.0660 - val_root_mean_squared_error: 0.2569\n",
      "Epoch 69/100\n",
      "\u001b[1m20079/20079\u001b[0m \u001b[32m━━━━━━━━━━━━━━━━━━━━\u001b[0m\u001b[37m\u001b[0m \u001b[1m72s\u001b[0m 4ms/step - loss: 0.0669 - root_mean_squared_error: 0.2587 - val_loss: 0.0658 - val_root_mean_squared_error: 0.2566\n",
      "Epoch 70/100\n",
      "\u001b[1m20079/20079\u001b[0m \u001b[32m━━━━━━━━━━━━━━━━━━━━\u001b[0m\u001b[37m\u001b[0m \u001b[1m58s\u001b[0m 3ms/step - loss: 0.0668 - root_mean_squared_error: 0.2584 - val_loss: 0.0657 - val_root_mean_squared_error: 0.2564\n",
      "Epoch 71/100\n",
      "\u001b[1m20079/20079\u001b[0m \u001b[32m━━━━━━━━━━━━━━━━━━━━\u001b[0m\u001b[37m\u001b[0m \u001b[1m55s\u001b[0m 3ms/step - loss: 0.0667 - root_mean_squared_error: 0.2582 - val_loss: 0.0656 - val_root_mean_squared_error: 0.2561\n",
      "Epoch 72/100\n",
      "\u001b[1m20079/20079\u001b[0m \u001b[32m━━━━━━━━━━━━━━━━━━━━\u001b[0m\u001b[37m\u001b[0m \u001b[1m61s\u001b[0m 3ms/step - loss: 0.0666 - root_mean_squared_error: 0.2580 - val_loss: 0.0654 - val_root_mean_squared_error: 0.2558\n",
      "Epoch 73/100\n",
      "\u001b[1m20079/20079\u001b[0m \u001b[32m━━━━━━━━━━━━━━━━━━━━\u001b[0m\u001b[37m\u001b[0m \u001b[1m57s\u001b[0m 3ms/step - loss: 0.0665 - root_mean_squared_error: 0.2579 - val_loss: 0.0653 - val_root_mean_squared_error: 0.2556\n",
      "Epoch 74/100\n",
      "\u001b[1m20079/20079\u001b[0m \u001b[32m━━━━━━━━━━━━━━━━━━━━\u001b[0m\u001b[37m\u001b[0m \u001b[1m59s\u001b[0m 3ms/step - loss: 0.0664 - root_mean_squared_error: 0.2577 - val_loss: 0.0652 - val_root_mean_squared_error: 0.2553\n",
      "Epoch 75/100\n",
      "\u001b[1m20079/20079\u001b[0m \u001b[32m━━━━━━━━━━━━━━━━━━━━\u001b[0m\u001b[37m\u001b[0m \u001b[1m70s\u001b[0m 3ms/step - loss: 0.0663 - root_mean_squared_error: 0.2575 - val_loss: 0.0650 - val_root_mean_squared_error: 0.2550\n",
      "Epoch 76/100\n",
      "\u001b[1m20079/20079\u001b[0m \u001b[32m━━━━━━━━━━━━━━━━━━━━\u001b[0m\u001b[37m\u001b[0m \u001b[1m80s\u001b[0m 4ms/step - loss: 0.0662 - root_mean_squared_error: 0.2573 - val_loss: 0.0649 - val_root_mean_squared_error: 0.2547\n",
      "Epoch 77/100\n",
      "\u001b[1m20079/20079\u001b[0m \u001b[32m━━━━━━━━━━━━━━━━━━━━\u001b[0m\u001b[37m\u001b[0m \u001b[1m70s\u001b[0m 3ms/step - loss: 0.0661 - root_mean_squared_error: 0.2571 - val_loss: 0.0648 - val_root_mean_squared_error: 0.2545\n",
      "Epoch 78/100\n",
      "\u001b[1m20079/20079\u001b[0m \u001b[32m━━━━━━━━━━━━━━━━━━━━\u001b[0m\u001b[37m\u001b[0m \u001b[1m73s\u001b[0m 4ms/step - loss: 0.0660 - root_mean_squared_error: 0.2570 - val_loss: 0.0647 - val_root_mean_squared_error: 0.2544\n",
      "Epoch 79/100\n",
      "\u001b[1m20079/20079\u001b[0m \u001b[32m━━━━━━━━━━━━━━━━━━━━\u001b[0m\u001b[37m\u001b[0m \u001b[1m71s\u001b[0m 4ms/step - loss: 0.0659 - root_mean_squared_error: 0.2568 - val_loss: 0.0646 - val_root_mean_squared_error: 0.2541\n",
      "Epoch 80/100\n",
      "\u001b[1m20079/20079\u001b[0m \u001b[32m━━━━━━━━━━━━━━━━━━━━\u001b[0m\u001b[37m\u001b[0m \u001b[1m80s\u001b[0m 4ms/step - loss: 0.0658 - root_mean_squared_error: 0.2566 - val_loss: 0.0645 - val_root_mean_squared_error: 0.2540\n",
      "Epoch 81/100\n",
      "\u001b[1m20079/20079\u001b[0m \u001b[32m━━━━━━━━━━━━━━━━━━━━\u001b[0m\u001b[37m\u001b[0m \u001b[1m76s\u001b[0m 4ms/step - loss: 0.0658 - root_mean_squared_error: 0.2564 - val_loss: 0.0644 - val_root_mean_squared_error: 0.2537\n",
      "Epoch 82/100\n",
      "\u001b[1m20079/20079\u001b[0m \u001b[32m━━━━━━━━━━━━━━━━━━━━\u001b[0m\u001b[37m\u001b[0m \u001b[1m73s\u001b[0m 4ms/step - loss: 0.0657 - root_mean_squared_error: 0.2563 - val_loss: 0.0643 - val_root_mean_squared_error: 0.2535\n",
      "Epoch 83/100\n",
      "\u001b[1m20079/20079\u001b[0m \u001b[32m━━━━━━━━━━━━━━━━━━━━\u001b[0m\u001b[37m\u001b[0m \u001b[1m75s\u001b[0m 4ms/step - loss: 0.0656 - root_mean_squared_error: 0.2561 - val_loss: 0.0642 - val_root_mean_squared_error: 0.2534\n",
      "Epoch 84/100\n",
      "\u001b[1m20079/20079\u001b[0m \u001b[32m━━━━━━━━━━━━━━━━━━━━\u001b[0m\u001b[37m\u001b[0m \u001b[1m81s\u001b[0m 4ms/step - loss: 0.0655 - root_mean_squared_error: 0.2559 - val_loss: 0.0641 - val_root_mean_squared_error: 0.2532\n",
      "Epoch 85/100\n",
      "\u001b[1m20079/20079\u001b[0m \u001b[32m━━━━━━━━━━━━━━━━━━━━\u001b[0m\u001b[37m\u001b[0m \u001b[1m81s\u001b[0m 4ms/step - loss: 0.0654 - root_mean_squared_error: 0.2558 - val_loss: 0.0640 - val_root_mean_squared_error: 0.2530\n",
      "Epoch 86/100\n",
      "\u001b[1m20079/20079\u001b[0m \u001b[32m━━━━━━━━━━━━━━━━━━━━\u001b[0m\u001b[37m\u001b[0m \u001b[1m88s\u001b[0m 4ms/step - loss: 0.0653 - root_mean_squared_error: 0.2556 - val_loss: 0.0639 - val_root_mean_squared_error: 0.2528\n",
      "Epoch 87/100\n",
      "\u001b[1m20079/20079\u001b[0m \u001b[32m━━━━━━━━━━━━━━━━━━━━\u001b[0m\u001b[37m\u001b[0m \u001b[1m84s\u001b[0m 4ms/step - loss: 0.0653 - root_mean_squared_error: 0.2555 - val_loss: 0.0638 - val_root_mean_squared_error: 0.2526\n",
      "Epoch 88/100\n",
      "\u001b[1m20079/20079\u001b[0m \u001b[32m━━━━━━━━━━━━━━━━━━━━\u001b[0m\u001b[37m\u001b[0m \u001b[1m85s\u001b[0m 4ms/step - loss: 0.0652 - root_mean_squared_error: 0.2553 - val_loss: 0.0638 - val_root_mean_squared_error: 0.2525\n",
      "Epoch 89/100\n",
      "\u001b[1m20079/20079\u001b[0m \u001b[32m━━━━━━━━━━━━━━━━━━━━\u001b[0m\u001b[37m\u001b[0m \u001b[1m83s\u001b[0m 4ms/step - loss: 0.0651 - root_mean_squared_error: 0.2552 - val_loss: 0.0637 - val_root_mean_squared_error: 0.2524\n",
      "Epoch 90/100\n",
      "\u001b[1m20079/20079\u001b[0m \u001b[32m━━━━━━━━━━━━━━━━━━━━\u001b[0m\u001b[37m\u001b[0m \u001b[1m86s\u001b[0m 4ms/step - loss: 0.0650 - root_mean_squared_error: 0.2550 - val_loss: 0.0636 - val_root_mean_squared_error: 0.2523\n",
      "Epoch 91/100\n",
      "\u001b[1m20079/20079\u001b[0m \u001b[32m━━━━━━━━━━━━━━━━━━━━\u001b[0m\u001b[37m\u001b[0m \u001b[1m85s\u001b[0m 4ms/step - loss: 0.0650 - root_mean_squared_error: 0.2549 - val_loss: 0.0635 - val_root_mean_squared_error: 0.2521\n",
      "Epoch 92/100\n",
      "\u001b[1m20079/20079\u001b[0m \u001b[32m━━━━━━━━━━━━━━━━━━━━\u001b[0m\u001b[37m\u001b[0m \u001b[1m77s\u001b[0m 4ms/step - loss: 0.0649 - root_mean_squared_error: 0.2547 - val_loss: 0.0635 - val_root_mean_squared_error: 0.2520\n",
      "Epoch 93/100\n",
      "\u001b[1m20079/20079\u001b[0m \u001b[32m━━━━━━━━━━━━━━━━━━━━\u001b[0m\u001b[37m\u001b[0m \u001b[1m86s\u001b[0m 4ms/step - loss: 0.0648 - root_mean_squared_error: 0.2545 - val_loss: 0.0634 - val_root_mean_squared_error: 0.2518\n",
      "Epoch 94/100\n",
      "\u001b[1m20079/20079\u001b[0m \u001b[32m━━━━━━━━━━━━━━━━━━━━\u001b[0m\u001b[37m\u001b[0m \u001b[1m85s\u001b[0m 4ms/step - loss: 0.0647 - root_mean_squared_error: 0.2544 - val_loss: 0.0634 - val_root_mean_squared_error: 0.2517\n",
      "Epoch 95/100\n",
      "\u001b[1m20079/20079\u001b[0m \u001b[32m━━━━━━━━━━━━━━━━━━━━\u001b[0m\u001b[37m\u001b[0m \u001b[1m85s\u001b[0m 4ms/step - loss: 0.0646 - root_mean_squared_error: 0.2542 - val_loss: 0.0633 - val_root_mean_squared_error: 0.2517\n",
      "Epoch 96/100\n",
      "\u001b[1m20079/20079\u001b[0m \u001b[32m━━━━━━━━━━━━━━━━━━━━\u001b[0m\u001b[37m\u001b[0m \u001b[1m80s\u001b[0m 4ms/step - loss: 0.0646 - root_mean_squared_error: 0.2541 - val_loss: 0.0633 - val_root_mean_squared_error: 0.2515\n",
      "Epoch 97/100\n",
      "\u001b[1m20079/20079\u001b[0m \u001b[32m━━━━━━━━━━━━━━━━━━━━\u001b[0m\u001b[37m\u001b[0m \u001b[1m85s\u001b[0m 4ms/step - loss: 0.0645 - root_mean_squared_error: 0.2539 - val_loss: 0.0632 - val_root_mean_squared_error: 0.2514\n",
      "Epoch 98/100\n",
      "\u001b[1m20079/20079\u001b[0m \u001b[32m━━━━━━━━━━━━━━━━━━━━\u001b[0m\u001b[37m\u001b[0m \u001b[1m83s\u001b[0m 4ms/step - loss: 0.0644 - root_mean_squared_error: 0.2538 - val_loss: 0.0631 - val_root_mean_squared_error: 0.2513\n",
      "Epoch 99/100\n",
      "\u001b[1m20079/20079\u001b[0m \u001b[32m━━━━━━━━━━━━━━━━━━━━\u001b[0m\u001b[37m\u001b[0m \u001b[1m88s\u001b[0m 4ms/step - loss: 0.0643 - root_mean_squared_error: 0.2537 - val_loss: 0.0631 - val_root_mean_squared_error: 0.2511\n",
      "Epoch 100/100\n",
      "\u001b[1m20079/20079\u001b[0m \u001b[32m━━━━━━━━━━━━━━━━━━━━\u001b[0m\u001b[37m\u001b[0m \u001b[1m80s\u001b[0m 4ms/step - loss: 0.0643 - root_mean_squared_error: 0.2535 - val_loss: 0.0630 - val_root_mean_squared_error: 0.2509\n",
      "The model took 101.4212132970492 minutes to fit!\n",
      "The best model has the following metrics:\n",
      "\u001b[1m39821/39821\u001b[0m \u001b[32m━━━━━━━━━━━━━━━━━━━━\u001b[0m\u001b[37m\u001b[0m \u001b[1m16s\u001b[0m 404us/step - loss: 0.0643 - root_mean_squared_error: 0.2535\n"
     ]
    },
    {
     "data": {
      "text/plain": [
       "[0.06454452127218246, 0.2540561258792877]"
      ]
     },
     "execution_count": 44,
     "metadata": {},
     "output_type": "execute_result"
    }
   ],
   "source": [
    "# final model\n",
    "\n",
    "early_stopping_cb = keras.callbacks.EarlyStopping(patience=10, restore_best_weights=True)\n",
    "\n",
    "model = keras.models.Sequential()\n",
    "model.add(keras.layers.Input(shape=(57,)))\n",
    "model.add(keras.layers.Dense(140, activation= 'elu', kernel_initializer='he_uniform'))\n",
    "model.add(keras.layers.Dense(228, activation= 'elu', kernel_initializer='he_uniform'))\n",
    "model.add(keras.layers.Dense(1, activation= 'elu', kernel_initializer='he_uniform'))\n",
    "\n",
    "model.summary()\n",
    "\n",
    "model.compile(loss = \"mean_squared_error\", optimizer='adam', metrics = [\"root_mean_squared_error\"])\n",
    "\n",
    "# model training\n",
    "start = time.time()\n",
    "history_model = model.fit(x_train, y_train, epochs = 100,\n",
    "                          validation_split=0.1, batch_size=512, callbacks=[early_stopping_cb])\n",
    "end = time.time()\n",
    "length = (end - start)/60\n",
    "\n",
    "# metrics\n",
    "print(f'The model took {length} minutes to fit!')\n",
    "print('The best model has the following metrics:')\n",
    "model.evaluate(x_val, y_val)"
   ]
  },
  {
   "cell_type": "markdown",
   "id": "318a2f7a",
   "metadata": {},
   "source": [
    "## Model Plots"
   ]
  },
  {
   "cell_type": "code",
   "execution_count": 45,
   "id": "ff197b00",
   "metadata": {},
   "outputs": [
    {
     "data": {
      "image/png": "[encoded data removed]",
      "text/plain": [
       "<Figure size 1000x1000 with 1 Axes>"
      ]
     },
     "metadata": {},
     "output_type": "display_data"
    }
   ],
   "source": [
    "# plot model loss\n",
    "plt.figure(figsize=(10,10))\n",
    "plt.plot(history_model.history['loss'])\n",
    "plt.plot(history_model.history['val_loss'])\n",
    "\n",
    "plt.title('Model Loss')\n",
    "plt.ylabel('Loss')\n",
    "plt.xlabel('Epoch')\n",
    "plt.legend(['Train', 'Validation'], loc='upper right')\n",
    "plt.show()"
   ]
  },
  {
   "cell_type": "code",
   "execution_count": 46,
   "id": "d974d66f",
   "metadata": {},
   "outputs": [
    {
     "data": {
      "image/png": "[encoded data removed]",
      "text/plain": [
       "<Figure size 1000x1000 with 1 Axes>"
      ]
     },
     "metadata": {},
     "output_type": "display_data"
    }
   ],
   "source": [
    "# plot model RMSE\n",
    "plt.figure(figsize=(10,10))\n",
    "plt.plot(history_model.history['root_mean_squared_error'])\n",
    "plt.plot(history_model.history['val_root_mean_squared_error'])\n",
    "\n",
    "plt.title('Model RMSE')\n",
    "plt.ylabel('RMSE')\n",
    "plt.xlabel('Epoch')\n",
    "plt.legend(['Train', 'Validation'], loc='upper right')\n",
    "plt.show()"
   ]
  },
  {
   "cell_type": "markdown",
   "id": "7f01bea5",
   "metadata": {},
   "source": [
    "## Evaluate and Predict"
   ]
  },
  {
   "cell_type": "code",
   "execution_count": 47,
   "id": "2aafc926",
   "metadata": {},
   "outputs": [
    {
     "name": "stdout",
     "output_type": "stream",
     "text": [
      "\u001b[1m44243/44243\u001b[0m \u001b[32m━━━━━━━━━━━━━━━━━━━━\u001b[0m\u001b[37m\u001b[0m \u001b[1m17s\u001b[0m 378us/step - loss: 0.0647 - root_mean_squared_error: 0.2545\n"
     ]
    },
    {
     "data": {
      "text/plain": [
       "[0.06489582359790802, 0.25474658608436584]"
      ]
     },
     "execution_count": 47,
     "metadata": {},
     "output_type": "execute_result"
    }
   ],
   "source": [
    "# evaluate model\n",
    "model.evaluate(x_test, y_test)"
   ]
  },
  {
   "cell_type": "code",
   "execution_count": 48,
   "id": "7aa88b0f",
   "metadata": {},
   "outputs": [
    {
     "name": "stdout",
     "output_type": "stream",
     "text": [
      "\u001b[1m44243/44243\u001b[0m \u001b[32m━━━━━━━━━━━━━━━━━━━━\u001b[0m\u001b[37m\u001b[0m \u001b[1m17s\u001b[0m 374us/step\n"
     ]
    }
   ],
   "source": [
    "# make predictions\n",
    "y_pred = model.predict(x_test)"
   ]
  },
  {
   "cell_type": "code",
   "execution_count": 49,
   "id": "a340e303",
   "metadata": {},
   "outputs": [],
   "source": [
    "# join predictions and test data\n",
    "df = pd.DataFrame(y_pred, columns=['y_pred'])\n",
    "df['y_test'] = y_test\n",
    "df['diff'] = df['y_pred'] - df['y_test']\n",
    "\n",
    "# join df and x_test\n",
    "df2 = pd.concat([df, x_test], axis=1)\n",
    "\n",
    "df2.to_csv('predictions.csv', index=False)"
   ]
  },
  {
   "cell_type": "code",
   "execution_count": 50,
   "id": "e1e7e443",
   "metadata": {},
   "outputs": [
    {
     "data": {
      "text/html": [
       "<div>\n",
       "<style scoped>\n",
       "    .dataframe tbody tr th:only-of-type {\n",
       "        vertical-align: middle;\n",
       "    }\n",
       "\n",
       "    .dataframe tbody tr th {\n",
       "        vertical-align: top;\n",
       "    }\n",
       "\n",
       "    .dataframe thead th {\n",
       "        text-align: right;\n",
       "    }\n",
       "</style>\n",
       "<table border=\"1\" class=\"dataframe\">\n",
       "  <thead>\n",
       "    <tr style=\"text-align: right;\">\n",
       "      <th></th>\n",
       "      <th>y_pred</th>\n",
       "      <th>y_test</th>\n",
       "      <th>diff</th>\n",
       "      <th>sea_level_pressure</th>\n",
       "      <th>site_id_mapped_BerkeleyCA</th>\n",
       "      <th>site_id_mapped_CardiffUK</th>\n",
       "      <th>site_id_mapped_CarletonOttawaCA</th>\n",
       "      <th>site_id_mapped_CornellNY</th>\n",
       "      <th>site_id_mapped_DublinIreland</th>\n",
       "      <th>site_id_mapped_LondonUK</th>\n",
       "      <th>...</th>\n",
       "      <th>month_dttm_March</th>\n",
       "      <th>month_dttm_May</th>\n",
       "      <th>month_dttm_November</th>\n",
       "      <th>month_dttm_October</th>\n",
       "      <th>month_dttm_September</th>\n",
       "      <th>square_feet</th>\n",
       "      <th>wind_speed</th>\n",
       "      <th>hour_dttm</th>\n",
       "      <th>air_temperature</th>\n",
       "      <th>dew_temperature</th>\n",
       "    </tr>\n",
       "  </thead>\n",
       "  <tbody>\n",
       "    <tr>\n",
       "      <th>0</th>\n",
       "      <td>1.016811</td>\n",
       "      <td>NaN</td>\n",
       "      <td>NaN</td>\n",
       "      <td>0.438316</td>\n",
       "      <td>0.0</td>\n",
       "      <td>0.0</td>\n",
       "      <td>0.0</td>\n",
       "      <td>0.0</td>\n",
       "      <td>0.0</td>\n",
       "      <td>0.0</td>\n",
       "      <td>...</td>\n",
       "      <td>0.0</td>\n",
       "      <td>0.0</td>\n",
       "      <td>0.0</td>\n",
       "      <td>1.0</td>\n",
       "      <td>0.0</td>\n",
       "      <td>-0.538664</td>\n",
       "      <td>-1.24</td>\n",
       "      <td>-0.090909</td>\n",
       "      <td>0.685526</td>\n",
       "      <td>0.846154</td>\n",
       "    </tr>\n",
       "    <tr>\n",
       "      <th>1</th>\n",
       "      <td>1.803938</td>\n",
       "      <td>NaN</td>\n",
       "      <td>NaN</td>\n",
       "      <td>-0.561684</td>\n",
       "      <td>0.0</td>\n",
       "      <td>0.0</td>\n",
       "      <td>0.0</td>\n",
       "      <td>0.0</td>\n",
       "      <td>0.0</td>\n",
       "      <td>0.0</td>\n",
       "      <td>...</td>\n",
       "      <td>0.0</td>\n",
       "      <td>0.0</td>\n",
       "      <td>1.0</td>\n",
       "      <td>0.0</td>\n",
       "      <td>0.0</td>\n",
       "      <td>-0.061013</td>\n",
       "      <td>1.04</td>\n",
       "      <td>-0.818182</td>\n",
       "      <td>0.436842</td>\n",
       "      <td>0.490998</td>\n",
       "    </tr>\n",
       "    <tr>\n",
       "      <th>2</th>\n",
       "      <td>2.666067</td>\n",
       "      <td>NaN</td>\n",
       "      <td>NaN</td>\n",
       "      <td>1.500816</td>\n",
       "      <td>0.0</td>\n",
       "      <td>0.0</td>\n",
       "      <td>0.0</td>\n",
       "      <td>0.0</td>\n",
       "      <td>0.0</td>\n",
       "      <td>0.0</td>\n",
       "      <td>...</td>\n",
       "      <td>0.0</td>\n",
       "      <td>0.0</td>\n",
       "      <td>0.0</td>\n",
       "      <td>0.0</td>\n",
       "      <td>0.0</td>\n",
       "      <td>1.817064</td>\n",
       "      <td>0.00</td>\n",
       "      <td>0.000000</td>\n",
       "      <td>0.576316</td>\n",
       "      <td>0.590835</td>\n",
       "    </tr>\n",
       "    <tr>\n",
       "      <th>3</th>\n",
       "      <td>2.422186</td>\n",
       "      <td>NaN</td>\n",
       "      <td>NaN</td>\n",
       "      <td>0.625816</td>\n",
       "      <td>0.0</td>\n",
       "      <td>0.0</td>\n",
       "      <td>0.0</td>\n",
       "      <td>0.0</td>\n",
       "      <td>0.0</td>\n",
       "      <td>1.0</td>\n",
       "      <td>...</td>\n",
       "      <td>0.0</td>\n",
       "      <td>1.0</td>\n",
       "      <td>0.0</td>\n",
       "      <td>0.0</td>\n",
       "      <td>0.0</td>\n",
       "      <td>0.120965</td>\n",
       "      <td>-0.64</td>\n",
       "      <td>0.636364</td>\n",
       "      <td>0.586842</td>\n",
       "      <td>0.628478</td>\n",
       "    </tr>\n",
       "    <tr>\n",
       "      <th>4</th>\n",
       "      <td>1.241604</td>\n",
       "      <td>NaN</td>\n",
       "      <td>NaN</td>\n",
       "      <td>-0.311684</td>\n",
       "      <td>0.0</td>\n",
       "      <td>0.0</td>\n",
       "      <td>0.0</td>\n",
       "      <td>1.0</td>\n",
       "      <td>0.0</td>\n",
       "      <td>0.0</td>\n",
       "      <td>...</td>\n",
       "      <td>0.0</td>\n",
       "      <td>0.0</td>\n",
       "      <td>0.0</td>\n",
       "      <td>0.0</td>\n",
       "      <td>1.0</td>\n",
       "      <td>0.533545</td>\n",
       "      <td>-0.40</td>\n",
       "      <td>0.727273</td>\n",
       "      <td>0.518421</td>\n",
       "      <td>0.700491</td>\n",
       "    </tr>\n",
       "  </tbody>\n",
       "</table>\n",
       "<p>5 rows × 60 columns</p>\n",
       "</div>"
      ],
      "text/plain": [
       "     y_pred  y_test  diff  sea_level_pressure  site_id_mapped_BerkeleyCA  \\\n",
       "0  1.016811     NaN   NaN            0.438316                        0.0   \n",
       "1  1.803938     NaN   NaN           -0.561684                        0.0   \n",
       "2  2.666067     NaN   NaN            1.500816                        0.0   \n",
       "3  2.422186     NaN   NaN            0.625816                        0.0   \n",
       "4  1.241604     NaN   NaN           -0.311684                        0.0   \n",
       "\n",
       "   site_id_mapped_CardiffUK  site_id_mapped_CarletonOttawaCA  \\\n",
       "0                       0.0                              0.0   \n",
       "1                       0.0                              0.0   \n",
       "2                       0.0                              0.0   \n",
       "3                       0.0                              0.0   \n",
       "4                       0.0                              0.0   \n",
       "\n",
       "   site_id_mapped_CornellNY  site_id_mapped_DublinIreland  \\\n",
       "0                       0.0                           0.0   \n",
       "1                       0.0                           0.0   \n",
       "2                       0.0                           0.0   \n",
       "3                       0.0                           0.0   \n",
       "4                       1.0                           0.0   \n",
       "\n",
       "   site_id_mapped_LondonUK  ...  month_dttm_March  month_dttm_May  \\\n",
       "0                      0.0  ...               0.0             0.0   \n",
       "1                      0.0  ...               0.0             0.0   \n",
       "2                      0.0  ...               0.0             0.0   \n",
       "3                      1.0  ...               0.0             1.0   \n",
       "4                      0.0  ...               0.0             0.0   \n",
       "\n",
       "   month_dttm_November  month_dttm_October  month_dttm_September  square_feet  \\\n",
       "0                  0.0                 1.0                   0.0    -0.538664   \n",
       "1                  1.0                 0.0                   0.0    -0.061013   \n",
       "2                  0.0                 0.0                   0.0     1.817064   \n",
       "3                  0.0                 0.0                   0.0     0.120965   \n",
       "4                  0.0                 0.0                   1.0     0.533545   \n",
       "\n",
       "   wind_speed  hour_dttm  air_temperature  dew_temperature  \n",
       "0       -1.24  -0.090909         0.685526         0.846154  \n",
       "1        1.04  -0.818182         0.436842         0.490998  \n",
       "2        0.00   0.000000         0.576316         0.590835  \n",
       "3       -0.64   0.636364         0.586842         0.628478  \n",
       "4       -0.40   0.727273         0.518421         0.700491  \n",
       "\n",
       "[5 rows x 60 columns]"
      ]
     },
     "execution_count": 50,
     "metadata": {},
     "output_type": "execute_result"
    }
   ],
   "source": [
    "df2.head()"
   ]
  }
 ],
 "metadata": {
  "colab": {
   "gpuType": "T4",
   "provenance": []
  },
  "kernelspec": {
   "display_name": "Python 3 (ipykernel)",
   "language": "python",
   "name": "python3"
  },
  "language_info": {
   "codemirror_mode": {
    "name": "ipython",
    "version": 3
   },
   "file_extension": ".py",
   "mimetype": "text/x-python",
   "name": "python",
   "nbconvert_exporter": "python",
   "pygments_lexer": "ipython3",
   "version": "3.12.1"
  }
 },
 "nbformat": 4,
 "nbformat_minor": 5
}
