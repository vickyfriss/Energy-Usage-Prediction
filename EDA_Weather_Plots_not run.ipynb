{
 "cells": [
  {
   "cell_type": "markdown",
   "id": "rLij0YiUCfM-",
   "metadata": {
    "id": "rLij0YiUCfM-"
   },
   "source": [
    "# Prep"
   ]
  },
  {
   "cell_type": "code",
   "execution_count": null,
   "id": "f0cd9fb5-dea2-4e4e-ad4b-e27bfda8b9b8",
   "metadata": {
    "id": "f0cd9fb5-dea2-4e4e-ad4b-e27bfda8b9b8"
   },
   "outputs": [],
   "source": [
    "from sklearn.model_selection import train_test_split\n",
    "import pandas as pd\n",
    "import matplotlib.pyplot as plt\n",
    "import seaborn as sns\n",
    "import matplotlib.ticker as ticker\n",
    "pd.options.mode.chained_assignment = None\n",
    "import warnings\n",
    "warnings.simplefilter(action='ignore', category=FutureWarning)"
   ]
  },
  {
   "cell_type": "code",
   "execution_count": null,
   "id": "1c7e15ed-6515-4fa7-9011-57d491b52c78",
   "metadata": {
    "id": "1c7e15ed-6515-4fa7-9011-57d491b52c78"
   },
   "outputs": [],
   "source": [
    "#df = pd.read_csv('train.csv')\n",
    "#building_metadata = pd.read_csv('building_metadata.csv')\n",
    "#weather_df = pd.read_csv('weather_train.csv')\n",
    "\n",
    "df = pd.read_csv('data/train.csv')\n",
    "building_metadata = pd.read_csv('data/building_metadata.csv')\n",
    "weather_df = pd.read_csv('data/weather_train.csv')"
   ]
  },
  {
   "cell_type": "code",
   "execution_count": null,
   "id": "b9cba4d0-127f-4c50-819d-bc01b97c0db5",
   "metadata": {
    "id": "b9cba4d0-127f-4c50-819d-bc01b97c0db5"
   },
   "outputs": [],
   "source": [
    "training_joined = df.merge(building_metadata, how='left', on='building_id')\n",
    "final_df = training_joined.merge(weather_df, how='left', on=['site_id', 'timestamp'])\n",
    "\n",
    "train, test = train_test_split(final_df, test_size=0.3, random_state=21)"
   ]
  },
  {
   "cell_type": "code",
   "execution_count": null,
   "id": "76a39187",
   "metadata": {
    "id": "76a39187",
    "scrolled": true
   },
   "outputs": [],
   "source": [
    "# Time\n",
    "train['timestamp'] = pd.to_datetime(train['timestamp'])\n",
    "train['hour'] = train['timestamp'].dt.hour\n",
    "train['month']= train['timestamp'].dt.month\n",
    "train['date'] = train['timestamp'].dt.date"
   ]
  },
  {
   "cell_type": "code",
   "execution_count": null,
   "id": "1ca72520",
   "metadata": {},
   "outputs": [],
   "source": [
    "#NaN filling for better detecting\n",
    "train['cloud_filled'] = train['cloud_coverage'].fillna(-10)\n",
    "train['rain_filled'] = train['precip_depth_1_hr'].fillna(-100)\n",
    "train['temp_filled'] = train['air_temperature'].fillna(-10)\n",
    "train['wind_filled'] = train['wind_speed'].fillna(-10)"
   ]
  },
  {
   "cell_type": "markdown",
   "id": "ee22ac06",
   "metadata": {},
   "source": [
    "# NaN count"
   ]
  },
  {
   "cell_type": "code",
   "execution_count": null,
   "id": "2fe60378",
   "metadata": {},
   "outputs": [],
   "source": [
    "count=0\n",
    "while count < 16:\n",
    "    w = train[train['site_id']==count]\n",
    "    print('site ' + str(count))\n",
    "    print('Temp NaN: ', w['air_temperature'].isna().sum())\n",
    "    print('Cloud NaN: ', w['cloud_coverage'].isna().sum())\n",
    "    print('Dew NaN: ', w['dew_temperature'].isna().sum())\n",
    "    print('Rain NaN: ', w['precip_depth_1_hr'].isna().sum())\n",
    "    print('Pressure NaN: ', w['sea_level_pressure'].isna().sum())\n",
    "    print('Wind D NaN: ', w['wind_direction'].isna().sum())\n",
    "    print('Wind S NaN: ', w['wind_speed'].isna().sum(), '\\n')\n",
    "    count += 1"
   ]
  },
  {
   "cell_type": "markdown",
   "id": "5fece9c7",
   "metadata": {
    "id": "5fece9c7"
   },
   "source": [
    "# Comparing plots by site"
   ]
  },
  {
   "cell_type": "code",
   "execution_count": null,
   "id": "be24b081",
   "metadata": {
    "id": "be24b081"
   },
   "outputs": [],
   "source": [
    "#Temp\n",
    "unique = train['site_id'].unique()\n",
    "num_plots = num_plots = len(unique)\n",
    "num_cols = 2\n",
    "num_rows = 8\n",
    "\n",
    "fig, axes = plt.subplots(num_rows, num_cols, figsize=(50, 10*num_rows))\n",
    "\n",
    "if num_plots > 1:\n",
    "    axes = axes.flatten()\n",
    "\n",
    "for i, site in enumerate(unique):\n",
    "    data_use = train[train['site_id'] == site]\n",
    "\n",
    "    # Plot data for the current site_id\n",
    "    sns.set_theme(font_scale=1.5)\n",
    "    g=sns.lineplot(x='air_temperature', y='meter_reading', hue='meter', data=data_use, ax=axes[i])\n",
    "    #g=sns.scatterplot(x='hour', y='temp_filled', data=data_use, ax=axes[i])\n",
    "    axes[i].tick_params(axis='x', rotation=45)\n",
    "    axes[i].set_title(f'{site}', fontsize=25)\n",
    "    axes[i].grid(True)\n",
    "\n",
    "plt.tight_layout()\n",
    "plt.subplots_adjust(top=0.9)\n",
    "fig.suptitle(\"Meter vs temp per site-id\", fontsize=44)\n",
    "plt.show()\n",
    "\n"
   ]
  },
  {
   "cell_type": "code",
   "execution_count": null,
   "id": "PN4ycRLhh20Y",
   "metadata": {
    "id": "PN4ycRLhh20Y"
   },
   "outputs": [],
   "source": [
    "#Cloud coverage\n",
    "unique = train['site_id'].unique()\n",
    "num_plots = num_plots = len(unique)\n",
    "num_cols = 2\n",
    "num_rows = 8\n",
    "\n",
    "fig, axes = plt.subplots(num_rows, num_cols, figsize=(50, 10*num_rows))\n",
    "\n",
    "if num_plots > 1:\n",
    "    axes = axes.flatten()\n",
    "\n",
    "for i, site in enumerate(unique):\n",
    "    data_use = train[train['site_id'] == site]\n",
    "\n",
    "    if not data_use['cloud_coverage'].isnull().all():\n",
    "        sns.set_theme(font_scale=1.5)\n",
    "        g=sns.lineplot(x='cloud_coverage', y='meter_reading', hue='meter', data=data_use, ax=axes[i])\n",
    "        #g=sns.scatterplot(x='date', y='cloud_filled', data=data_use, ax=axes[i])\n",
    "        axes[i].tick_params(axis='x', rotation=45)\n",
    "        axes[i].set_title(f'{site}', fontsize=25)\n",
    "        axes[i].grid(True)\n",
    "\n",
    "plt.tight_layout()\n",
    "plt.subplots_adjust(top=0.9)\n",
    "fig.suptitle(\"Meter vs Cloud per site-id\", fontsize=44)\n",
    "plt.show()\n"
   ]
  },
  {
   "cell_type": "code",
   "execution_count": null,
   "id": "d5007f87",
   "metadata": {
    "id": "d5007f87"
   },
   "outputs": [],
   "source": [
    "#dew Temp\n",
    "unique = train['site_id'].unique()\n",
    "num_plots = num_plots = len(unique)\n",
    "num_cols = 2\n",
    "num_rows = 8\n",
    "\n",
    "fig, axes = plt.subplots(num_rows, num_cols, figsize=(50, 10*num_rows))\n",
    "\n",
    "if num_plots > 1:\n",
    "    axes = axes.flatten()\n",
    "\n",
    "for i, site in enumerate(unique):\n",
    "    data_use = train[train['site_id'] == site]\n",
    "\n",
    "    # Plot data for the current site_id\n",
    "    sns.set_theme(font_scale=1.5)\n",
    "    g=sns.lineplot(x='dew_temperature', y='meter_reading', hue='meter', data=data_use, ax=axes[i])\n",
    "    #g=sns.scatterplot(x='date', y='dew_temperature', data=data_use, ax=axes[i])\n",
    "    axes[i].tick_params(axis='x', rotation=45)\n",
    "    axes[i].set_title(f'{site}', fontsize=25)\n",
    "    axes[i].grid(True)\n",
    "\n",
    "plt.tight_layout()\n",
    "plt.subplots_adjust(top=0.9)\n",
    "fig.suptitle(\"dew_temperature vs meter per site-id\", fontsize=44)\n",
    "plt.show()"
   ]
  },
  {
   "cell_type": "code",
   "execution_count": null,
   "id": "Hc6n6TDdPLhl",
   "metadata": {
    "id": "Hc6n6TDdPLhl"
   },
   "outputs": [],
   "source": [
    "#rain\n",
    "unique = train['site_id'].unique()\n",
    "num_plots = num_plots = len(unique)\n",
    "num_cols = 2\n",
    "num_rows = 8\n",
    "\n",
    "fig, axes = plt.subplots(num_rows, num_cols, figsize=(50, 10*num_rows))\n",
    "\n",
    "if num_plots > 1:\n",
    "    axes = axes.flatten()\n",
    "\n",
    "for i, site in enumerate(unique):\n",
    "    data_use = train[train['site_id'] == site]\n",
    "\n",
    "    if not data_use['precip_depth_1_hr'].isnull().all():\n",
    "        sns.set_theme(font_scale=1.5)\n",
    "        g=sns.lineplot(x='precip_depth_1_hr', y='meter_reading', hue='meter', data=data_use, ax=axes[i])\n",
    "        #g=sns.scatterplot(x='date', y='precip_depth_1_hr', data=data_use, ax=axes[i])\n",
    "        axes[i].tick_params(axis='x', rotation=45)\n",
    "        axes[i].set_title(f'{site}', fontsize=25)\n",
    "        axes[i].grid(True)\n",
    "\n",
    "plt.tight_layout()\n",
    "plt.subplots_adjust(top=0.9)\n",
    "fig.suptitle(\"rain vs meter per site-id\", fontsize=44)\n",
    "plt.show()"
   ]
  },
  {
   "cell_type": "code",
   "execution_count": null,
   "id": "c264ccb7",
   "metadata": {
    "id": "c264ccb7"
   },
   "outputs": [],
   "source": [
    "#pressure\n",
    "unique = train['site_id'].unique()\n",
    "num_plots = num_plots = len(unique)\n",
    "num_cols = 2\n",
    "num_rows = 8\n",
    "\n",
    "fig, axes = plt.subplots(num_rows, num_cols, figsize=(50, 10*num_rows))\n",
    "\n",
    "if num_plots > 1:\n",
    "    axes = axes.flatten()\n",
    "\n",
    "for i, site in enumerate(unique):\n",
    "    data_use = train[train['site_id'] == site]\n",
    "\n",
    "    if not data_use['sea_level_pressure'].isnull().all():\n",
    "        sns.set_theme(font_scale=1.5)\n",
    "        g=sns.lineplot(x='sea_level_pressure', y='meter_reading', hue='meter', data=data_use, ax=axes[i])\n",
    "        #g=sns.scatterplot(x='date', y='sea_level_pressure', data=data_use, ax=axes[i])\n",
    "        axes[i].tick_params(axis='x', rotation=45)\n",
    "        axes[i].set_title(f'{site}', fontsize=25)\n",
    "        axes[i].grid(True)\n",
    "\n",
    "plt.tight_layout()\n",
    "plt.subplots_adjust(top=0.9)\n",
    "fig.suptitle(\"pressure vs meter per site-id\", fontsize=44)\n",
    "plt.show()"
   ]
  },
  {
   "cell_type": "code",
   "execution_count": null,
   "id": "abe6f0b9",
   "metadata": {
    "id": "abe6f0b9"
   },
   "outputs": [],
   "source": [
    "#wind-direction\n",
    "unique = train['site_id'].unique()\n",
    "num_plots = num_plots = len(unique)\n",
    "num_cols = 2\n",
    "num_rows = 8\n",
    "\n",
    "fig, axes = plt.subplots(num_rows, num_cols, figsize=(50, 10*num_rows))\n",
    "\n",
    "if num_plots > 1:\n",
    "    axes = axes.flatten()\n",
    "\n",
    "for i, site in enumerate(unique):\n",
    "    data_use = train[train['site_id'] == site]\n",
    "\n",
    "    # Plot data for the current site_id\n",
    "    sns.set_theme(font_scale=1.5)\n",
    "    g=sns.lineplot(x='wind_direction', y='meter_reading', hue='meter', data=data_use, ax=axes[i])\n",
    "    #g=sns.scatterplot(x='date', y='wind_direction', data=data_use, ax=axes[i])\n",
    "    axes[i].tick_params(axis='x', rotation=45)\n",
    "    axes[i].set_title(f'{site}', fontsize=25)\n",
    "    axes[i].grid(True)\n",
    "\n",
    "plt.tight_layout()\n",
    "plt.subplots_adjust(top=0.9)\n",
    "fig.suptitle(\"wind_direction vs meter per site-id\", fontsize=44)\n",
    "plt.show()"
   ]
  },
  {
   "cell_type": "code",
   "execution_count": null,
   "id": "3f5bc393",
   "metadata": {
    "id": "3f5bc393"
   },
   "outputs": [],
   "source": [
    "#wind-speed\n",
    "unique = train['site_id'].unique()\n",
    "num_plots = num_plots = len(unique)\n",
    "num_cols = 2\n",
    "num_rows = 8\n",
    "\n",
    "fig, axes = plt.subplots(num_rows, num_cols, figsize=(50, 10*num_rows))\n",
    "\n",
    "if num_plots > 1:\n",
    "    axes = axes.flatten()\n",
    "\n",
    "for i, site in enumerate(unique):\n",
    "    data_use = train[train['site_id'] == site]\n",
    "\n",
    "    # Plot data for the current site_id\n",
    "    sns.set_theme(font_scale=1.5)\n",
    "    g=sns.lineplot(x='wind_speed', y='meter_reading', hue='meter', data=data_use, ax=axes[i])\n",
    "    #g=sns.scatterplot(x='date', y='wind_speed', data=data_use, ax=axes[i])\n",
    "    axes[i].tick_params(axis='x', rotation=45)\n",
    "    axes[i].set_title(f'{site}', fontsize=25)\n",
    "    axes[i].grid(True)\n",
    "\n",
    "plt.tight_layout()\n",
    "plt.subplots_adjust(top=0.9)\n",
    "fig.suptitle(\"wind_speed vs meter per site-id\", fontsize=44)\n",
    "plt.show()"
   ]
  },
  {
   "cell_type": "code",
   "execution_count": null,
   "id": "7ecb5231",
   "metadata": {
    "id": "7ecb5231"
   },
   "outputs": [],
   "source": [
    "#meter-reading\n",
    "unique = train['site_id'].unique()\n",
    "num_plots = len(unique)\n",
    "num_cols = 2\n",
    "num_rows = 8\n",
    "\n",
    "fig, axes = plt.subplots(num_rows, num_cols, figsize=(25, 5*num_rows))\n",
    "\n",
    "if num_plots > 1:\n",
    "    axes = axes.flatten()\n",
    "\n",
    "for i, site in enumerate(unique):\n",
    "    data_use = train[train['site_id'] == site]\n",
    "\n",
    "    # Plot data for the current site_id\n",
    "    sns.set_theme(font_scale=1.5)\n",
    "    g=sns.lineplot(x='date', y='meter_reading', hue='meter', data=data_use, ax=axes[i])\n",
    "    #g=sns.scatterplot(x='hour', y='meter_reading', data=data_use, ax=axes[i])\n",
    "    axes[i].tick_params(axis='x', rotation=45)\n",
    "    axes[i].set_title(f'{site}', fontsize=25)\n",
    "    axes[i].grid(True)\n",
    "\n",
    "plt.tight_layout()\n",
    "plt.subplots_adjust(top=0.9)\n",
    "fig.suptitle(\"Time vs Meter_reading per site-id\", fontsize=44)\n",
    "plt.show()"
   ]
  },
  {
   "cell_type": "markdown",
   "id": "2fiGk1b1sgFN",
   "metadata": {
    "id": "2fiGk1b1sgFN"
   },
   "source": [
    "# Comparing plots by meter"
   ]
  },
  {
   "cell_type": "code",
   "execution_count": null,
   "id": "VVTGq1atyZmS",
   "metadata": {
    "id": "VVTGq1atyZmS"
   },
   "outputs": [],
   "source": [
    "m0 = train[train['meter'] == 0]\n",
    "m1 = train[train['meter'] == 1]\n",
    "m2 = train[train['meter'] == 2]\n",
    "m3 = train[train['meter'] == 3]"
   ]
  },
  {
   "cell_type": "code",
   "execution_count": null,
   "id": "vEFTflsMmeJ6",
   "metadata": {
    "colab": {
     "base_uri": "https://localhost:8080/",
     "height": 246
    },
    "id": "vEFTflsMmeJ6",
    "outputId": "8d787844-b930-46af-cab3-b3ff91e9a02f"
   },
   "outputs": [],
   "source": [
    "#Temp\n",
    "fig, axes = plt.subplots(1, 4, figsize=(50, 10))\n",
    "axes = axes.flatten()\n",
    "\n",
    "\n",
    "g0=sns.lineplot(x='air_temperature', y='meter_reading', hue='site_id', data=m0, ax=axes[0])\n",
    "g0.set_title('Distribution Meter 0 Reading vs Air Temperature')\n",
    "\n",
    "g1=sns.lineplot(x='air_temperature', y='meter_reading', hue='site_id', data=m1, ax=axes[1])\n",
    "g1.set_title('Distribution Meter 1 Reading vs Air Temperature')\n",
    "\n",
    "g2=sns.lineplot(x='air_temperature', y='meter_reading', hue='site_id', data=m2, ax=axes[2])\n",
    "g2.set_title('Distribution Meter 2 Reading vs Air Temperature')\n",
    "\n",
    "g3=sns.lineplot(x='air_temperature', y='meter_reading', hue='site_id', data=m3, ax=axes[3])\n",
    "g3.set_title('Distribution Meter 3 Reading vs Air Temperature')\n",
    "\n",
    "plt.tight_layout()\n",
    "plt.show()"
   ]
  },
  {
   "cell_type": "code",
   "execution_count": null,
   "id": "GGJwlcnCn5ud",
   "metadata": {
    "colab": {
     "base_uri": "https://localhost:8080/",
     "height": 246
    },
    "id": "GGJwlcnCn5ud",
    "outputId": "08580f11-c66c-4b5f-929f-e501d1e84929"
   },
   "outputs": [],
   "source": [
    "#Cloud\n",
    "fig, axes = plt.subplots(1, 4, figsize=(50, 10))\n",
    "axes = axes.flatten()\n",
    "\n",
    "g0=sns.lineplot(x='cloud_coverage', y='meter_reading', hue='site_id', data=m0, ax=axes[0])\n",
    "g0.set_title('Distribution Meter 0 Reading vs Cloud coverage')\n",
    "\n",
    "g1=sns.lineplot(x='cloud_coverage', y='meter_reading', hue='site_id', data=m1, ax=axes[1])\n",
    "g1.set_title('Distribution Meter 1 Reading vs Cloud coverage')\n",
    "\n",
    "g2=sns.lineplot(x='cloud_coverage', y='meter_reading', hue='site_id', data=m2, ax=axes[2])\n",
    "g2.set_title('Distribution Meter 2 Reading vs Cloud coverage')\n",
    "\n",
    "g3=sns.lineplot(x='cloud_coverage', y='meter_reading', hue='site_id', data=m3, ax=axes[3])\n",
    "g3.set_title('Distribution Meter 3 Reading vs Cloud coverage')\n",
    "\n",
    "plt.tight_layout()\n",
    "plt.show()"
   ]
  },
  {
   "cell_type": "code",
   "execution_count": null,
   "id": "6t-tWs3qpAf9",
   "metadata": {
    "colab": {
     "base_uri": "https://localhost:8080/",
     "height": 246
    },
    "id": "6t-tWs3qpAf9",
    "outputId": "0a9a9ee7-1494-4d57-e95e-bc316fbec915"
   },
   "outputs": [],
   "source": [
    "#dew_temperature\n",
    "fig, axes = plt.subplots(1, 4, figsize=(50, 10))\n",
    "axes = axes.flatten()\n",
    "\n",
    "g0=sns.lineplot(x='dew_temperature', y='meter_reading', hue='site_id', data=m0, ax=axes[0])\n",
    "g0.set_title('Distribution Meter 0 Reading vs Dew temperature')\n",
    "\n",
    "g1=sns.lineplot(x='dew_temperature', y='meter_reading', hue='site_id', data=m1, ax=axes[1])\n",
    "g1.set_title('Distribution Meter 1 Reading vs Dew temperature')\n",
    "\n",
    "g2=sns.lineplot(x='dew_temperature', y='meter_reading', hue='site_id', data=m2, ax=axes[2])\n",
    "g2.set_title('Distribution Meter 2 Reading vs Dew temperature')\n",
    "\n",
    "g3=sns.lineplot(x='dew_temperature', y='meter_reading', hue='site_id', data=m3, ax=axes[3])\n",
    "g3.set_title('Distribution Meter 3 Reading vs Dew temperature')\n",
    "\n",
    "plt.tight_layout()\n",
    "plt.show()"
   ]
  },
  {
   "cell_type": "code",
   "execution_count": null,
   "id": "sBxl4ETppcFG",
   "metadata": {
    "colab": {
     "base_uri": "https://localhost:8080/",
     "height": 246
    },
    "id": "sBxl4ETppcFG",
    "outputId": "39f54491-df34-4e39-bd09-f346e00917a1"
   },
   "outputs": [],
   "source": [
    "#precip_depth_1_hr\n",
    "fig, axes = plt.subplots(1, 4, figsize=(50, 10))\n",
    "axes = axes.flatten()\n",
    "\n",
    "g0=sns.lineplot(x='precip_depth_1_hr', y='meter_reading', hue='site_id', data=m0, ax=axes[0])\n",
    "g0.set_title('Distribution Meter 0 Reading vs Precipitation')\n",
    "\n",
    "g1=sns.lineplot(x='precip_depth_1_hr', y='meter_reading', hue='site_id', data=m1, ax=axes[1])\n",
    "g1.set_title('Distribution Meter 1 Reading vs Precipitation')\n",
    "\n",
    "g2=sns.lineplot(x='precip_depth_1_hr', y='meter_reading', hue='site_id', data=m2, ax=axes[2])\n",
    "g2.set_title('Distribution Meter 2 Reading vs Precipitation')\n",
    "\n",
    "g3=sns.lineplot(x='precip_depth_1_hr', y='meter_reading', hue='site_id', data=m3, ax=axes[3])\n",
    "g3.set_title('Distribution Meter 3 Reading vs Precipitation')\n",
    "\n",
    "plt.tight_layout()\n",
    "plt.show()"
   ]
  },
  {
   "cell_type": "code",
   "execution_count": null,
   "id": "rmsVXPfEp2Ew",
   "metadata": {
    "colab": {
     "base_uri": "https://localhost:8080/",
     "height": 246
    },
    "id": "rmsVXPfEp2Ew",
    "outputId": "b3aa5219-0c2c-48f6-83a8-592c27d46d05"
   },
   "outputs": [],
   "source": [
    "#pressure\n",
    "fig, axes = plt.subplots(1, 4, figsize=(50, 10))\n",
    "axes = axes.flatten()\n",
    "\n",
    "g0=sns.lineplot(x='sea_level_pressure', y='meter_reading', hue='site_id', data=m0, ax=axes[0])\n",
    "g0.set_title('Distribution Meter 0 Reading vs Sea level pressure')\n",
    "\n",
    "g1=sns.lineplot(x='sea_level_pressure', y='meter_reading', hue='site_id', data=m1, ax=axes[1])\n",
    "g1.set_title('Distribution Meter 1 Reading vs Sea level pressure')\n",
    "\n",
    "g2=sns.lineplot(x='sea_level_pressure', y='meter_reading', hue='site_id', data=m2, ax=axes[2])\n",
    "g2.set_title('Distribution Meter 2 Reading vs Sea level pressure')\n",
    "\n",
    "g3=sns.lineplot(x='sea_level_pressure', y='meter_reading', hue='site_id', data=m3, ax=axes[3])\n",
    "g3.set_title('Distribution Meter 3 Reading vs Sea level pressure')\n",
    "\n",
    "plt.tight_layout()\n",
    "plt.show()"
   ]
  },
  {
   "cell_type": "code",
   "execution_count": null,
   "id": "fwGP3_cfqf4x",
   "metadata": {
    "colab": {
     "base_uri": "https://localhost:8080/",
     "height": 246
    },
    "id": "fwGP3_cfqf4x",
    "outputId": "2365a478-3404-4a6d-ec85-0dd20dab90bb"
   },
   "outputs": [],
   "source": [
    "#wind-direction\n",
    "fig, axes = plt.subplots(1, 4, figsize=(50, 10))\n",
    "axes = axes.flatten()\n",
    "\n",
    "g0=sns.lineplot(x='wind_direction', y='meter_reading', hue='site_id', data=m0, ax=axes[0])\n",
    "g0.set_title('Distribution Meter 0 Reading vs Wind direction')\n",
    "\n",
    "g1=sns.lineplot(x='wind_direction', y='meter_reading', hue='site_id', data=m1, ax=axes[1])\n",
    "g1.set_title('Distribution Meter 1 Reading vs Wind direction')\n",
    "\n",
    "g2=sns.lineplot(x='wind_direction', y='meter_reading', hue='site_id', data=m2, ax=axes[2])\n",
    "g2.set_title('Distribution Meter 2 Reading vs Wind direction')\n",
    "\n",
    "g3=sns.lineplot(x='wind_direction', y='meter_reading', hue='site_id', data=m3, ax=axes[3])\n",
    "g3.set_title('Distribution Meter 3 Reading vs Wind direction')\n",
    "\n",
    "plt.tight_layout()\n",
    "plt.show()"
   ]
  },
  {
   "cell_type": "code",
   "execution_count": null,
   "id": "8xXk2cwHq5kr",
   "metadata": {
    "colab": {
     "base_uri": "https://localhost:8080/",
     "height": 246
    },
    "id": "8xXk2cwHq5kr",
    "outputId": "f17b7dd4-de4e-40e5-e519-8b005a52f331"
   },
   "outputs": [],
   "source": [
    "#wind-speed\n",
    "fig, axes = plt.subplots(1, 4, figsize=(50, 10))\n",
    "axes = axes.flatten()\n",
    "\n",
    "g0=sns.lineplot(x='wind_speed', y='meter_reading', hue='site_id', data=m0, ax=axes[0])\n",
    "g0.set_title('Distribution Meter 0 Reading vs Wind speed')\n",
    "\n",
    "g1=sns.lineplot(x='wind_speed', y='meter_reading', hue='site_id', data=m1, ax=axes[1])\n",
    "g1.set_title('Distribution Meter 1 Reading vs Wind speed')\n",
    "\n",
    "g2=sns.lineplot(x='wind_speed', y='meter_reading', hue='site_id', data=m2, ax=axes[2])\n",
    "g2.set_title('Distribution Meter 2 Reading vs Wind speed')\n",
    "\n",
    "g3=sns.lineplot(x='wind_speed', y='meter_reading', hue='site_id', data=m3, ax=axes[3])\n",
    "g3.set_title('Distribution Meter 3 Reading vs Wind speed')\n",
    "\n",
    "plt.tight_layout()\n",
    "plt.show()"
   ]
  },
  {
   "cell_type": "code",
   "execution_count": null,
   "id": "16f26364",
   "metadata": {
    "scrolled": true
   },
   "outputs": [],
   "source": [
    "values=['air_temperature', 'dew_temperature', 'precip_depth_1_hr', 'cloud_coverage', 'wind_speed', 'wind_direction', 'sea_level_pressure']\n",
    "weather_data = train[values]\n",
    "sns.heatmap(weather_data.corr())"
   ]
  },
  {
   "cell_type": "code",
   "execution_count": null,
   "id": "6e9c1f86",
   "metadata": {},
   "outputs": [],
   "source": [
    "#corr matrix\n",
    "matrix=train.drop(columns=['building_id', 'meter', 'timestamp',\n",
    "       'primary_use', 'date'])\n",
    "\n",
    "matrix.corr()\n",
    "count=0\n",
    "\n",
    "while count < 16:\n",
    "  w = matrix[matrix['site_id']==count]\n",
    "  print('SITE ' + str(count))\n",
    "  print(w.corr(), '\\n')\n",
    "  count += 1"
   ]
  }
 ],
 "metadata": {
  "colab": {
   "collapsed_sections": [
    "a9cc4332"
   ],
   "provenance": []
  },
  "kernelspec": {
   "display_name": "Python 3 (ipykernel)",
   "language": "python",
   "name": "python3"
  },
  "language_info": {
   "codemirror_mode": {
    "name": "ipython",
    "version": 3
   },
   "file_extension": ".py",
   "mimetype": "text/x-python",
   "name": "python",
   "nbconvert_exporter": "python",
   "pygments_lexer": "ipython3",
   "version": "3.12.4"
  }
 },
 "nbformat": 4,
 "nbformat_minor": 5
}
