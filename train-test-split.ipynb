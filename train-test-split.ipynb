{
 "cells": [
  {
   "cell_type": "code",
   "execution_count": 1,
   "id": "f0cd9fb5-dea2-4e4e-ad4b-e27bfda8b9b8",
   "metadata": {},
   "outputs": [
    {
     "name": "stderr",
     "output_type": "stream",
     "text": [
      "/var/folders/8p/8hw050wx2ng0vhst2z_ysnf80000gn/T/ipykernel_56474/4154753408.py:2: DeprecationWarning: \n",
      "Pyarrow will become a required dependency of pandas in the next major release of pandas (pandas 3.0),\n",
      "(to allow more performant data types, such as the Arrow string type, and better interoperability with other libraries)\n",
      "but was not found to be installed on your system.\n",
      "If this would cause problems for you,\n",
      "please provide us feedback at https://github.com/pandas-dev/pandas/issues/54466\n",
      "        \n",
      "  import pandas as pd\n"
     ]
    }
   ],
   "source": [
    "from sklearn.model_selection import train_test_split\n",
    "import pandas as pd"
   ]
  },
  {
   "cell_type": "code",
   "execution_count": 2,
   "id": "1c7e15ed-6515-4fa7-9011-57d491b52c78",
   "metadata": {},
   "outputs": [],
   "source": [
    "df = pd.read_csv('data/train.csv')\n",
    "building_metadata = pd.read_csv('data/building_metadata.csv')\n",
    "weather_df = pd.read_csv('data/weather_train.csv')"
   ]
  },
  {
   "cell_type": "code",
   "execution_count": 3,
   "id": "f84035d6-4bf0-4cd0-92bc-55b46a9c4336",
   "metadata": {},
   "outputs": [
    {
     "name": "stdout",
     "output_type": "stream",
     "text": [
      "Index(['building_id', 'meter', 'timestamp', 'meter_reading'], dtype='object')\n",
      "Index(['site_id', 'building_id', 'primary_use', 'square_feet', 'year_built',\n",
      "       'floor_count'],\n",
      "      dtype='object')\n",
      "Index(['site_id', 'timestamp', 'air_temperature', 'cloud_coverage',\n",
      "       'dew_temperature', 'precip_depth_1_hr', 'sea_level_pressure',\n",
      "       'wind_direction', 'wind_speed'],\n",
      "      dtype='object')\n"
     ]
    }
   ],
   "source": [
    "# Which columns do they have in common?\n",
    "print(df.columns) # building id and timestamp\n",
    "print(building_metadata.columns) # site id and building id\n",
    "print(weather_df.columns) # site id and timestamp"
   ]
  },
  {
   "cell_type": "code",
   "execution_count": 4,
   "id": "1067a346-ba76-4756-b101-62eb82550447",
   "metadata": {},
   "outputs": [
    {
     "name": "stdout",
     "output_type": "stream",
     "text": [
      "(20216100, 4) (1449, 6) (139773, 9)\n"
     ]
    }
   ],
   "source": [
    "# What are the shapes of the dataframes?\n",
    "print(df.shape, building_metadata.shape, weather_df.shape)"
   ]
  },
  {
   "cell_type": "code",
   "execution_count": 5,
   "id": "b9cba4d0-127f-4c50-819d-bc01b97c0db5",
   "metadata": {},
   "outputs": [
    {
     "name": "stdout",
     "output_type": "stream",
     "text": [
      "Training joined shape: (20216100, 9)\n",
      "Final df shape: (20216100, 16)\n"
     ]
    }
   ],
   "source": [
    "# Join training dataset and building metadata on building id\n",
    "training_joined = df.merge(building_metadata, how='left', on='building_id')\n",
    "print(f'Training joined shape: {training_joined.shape}')\n",
    "\n",
    "# Join Training Joined and Weather by site id and timestamp\n",
    "final_df = training_joined.merge(weather_df, how='left', on=['site_id', 'timestamp'])\n",
    "print(f'Final df shape: {final_df.shape}')"
   ]
  },
  {
   "cell_type": "code",
   "execution_count": 6,
   "id": "7677ac3f-0e4f-4478-a2ee-eba350d3be1d",
   "metadata": {},
   "outputs": [],
   "source": [
    "train, test = train_test_split(final_df, test_size=0.3, random_state=21)"
   ]
  },
  {
   "cell_type": "code",
   "execution_count": 7,
   "id": "ecb3d28d-0369-4c49-b77e-039446615e9a",
   "metadata": {},
   "outputs": [
    {
     "name": "stdout",
     "output_type": "stream",
     "text": [
      "Train shape: (14151270, 16)\n",
      "Test shape: (6064830, 16)\n"
     ]
    }
   ],
   "source": [
    "print(f\"Train shape: {train.shape}\\nTest shape: {test.shape}\")"
   ]
  },
  {
   "cell_type": "code",
   "execution_count": null,
   "id": "66627ffb-5adf-43cf-ab1b-f2777273c2b0",
   "metadata": {},
   "outputs": [],
   "source": [
    "final_df.to_csv('combined_data.csv')\n",
    "train.to_csv('train.csv')\n",
    "test.to_csv('test.csv')"
   ]
  }
 ],
 "metadata": {
  "kernelspec": {
   "display_name": "Python 3 (ipykernel)",
   "language": "python",
   "name": "python3"
  },
  "language_info": {
   "codemirror_mode": {
    "name": "ipython",
    "version": 3
   },
   "file_extension": ".py",
   "mimetype": "text/x-python",
   "name": "python",
   "nbconvert_exporter": "python",
   "pygments_lexer": "ipython3",
   "version": "3.12.1"
  }
 },
 "nbformat": 4,
 "nbformat_minor": 5
}
