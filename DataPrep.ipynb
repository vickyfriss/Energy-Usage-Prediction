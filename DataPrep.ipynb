{
 "cells": [
  {
   "cell_type": "markdown",
   "id": "74327b81-86ae-4e13-bb5b-98d4b06b5554",
   "metadata": {},
   "source": [
    "# CMT307 MLP DataPrep"
   ]
  },
  {
   "cell_type": "markdown",
   "id": "cd8da011-3edd-4ae1-bfc2-2e955194a62d",
   "metadata": {},
   "source": [
    "####\n",
    "\n",
    "# Import Libraries"
   ]
  },
  {
   "cell_type": "code",
   "execution_count": 2,
   "id": "4zADQoUEy_0C",
   "metadata": {
    "colab": {
     "base_uri": "https://localhost:8080/"
    },
    "executionInfo": {
     "elapsed": 17915,
     "status": "ok",
     "timestamp": 1710719874969,
     "user": {
      "displayName": "Vanessa Coudert Mendez-Salvatierra",
      "userId": "02740837187322984622"
     },
     "user_tz": 0
    },
    "id": "4zADQoUEy_0C",
    "outputId": "7a482160-e0bd-473e-8871-f32d1c5c4d61"
   },
   "outputs": [],
   "source": [
    "#from google.colab import drive\n",
    "#drive.mount('/content/drive')"
   ]
  },
  {
   "cell_type": "code",
   "execution_count": 3,
   "id": "e31d0a4c-cde1-4d2f-adfc-52789d523c00",
   "metadata": {
    "executionInfo": {
     "elapsed": 935,
     "status": "ok",
     "timestamp": 1710719875901,
     "user": {
      "displayName": "Vanessa Coudert Mendez-Salvatierra",
      "userId": "02740837187322984622"
     },
     "user_tz": 0
    },
    "id": "e31d0a4c-cde1-4d2f-adfc-52789d523c00"
   },
   "outputs": [],
   "source": [
    "import pandas as pd\n",
    "import numpy as np\n",
    "import scipy as sp\n",
    "\n",
    "import matplotlib.pyplot as plt\n",
    "import seaborn as sns\n",
    "\n",
    "import os\n",
    "from datetime import datetime, timezone, timedelta\n",
    "\n",
    "# Supress warnings:\n",
    "import warnings\n",
    "warnings.simplefilter(action='ignore', category=FutureWarning)"
   ]
  },
  {
   "cell_type": "code",
   "execution_count": 4,
   "id": "441ce86c-c000-4ffa-b363-00ff722066d9",
   "metadata": {
    "executionInfo": {
     "elapsed": 337,
     "status": "ok",
     "timestamp": 1710719876236,
     "user": {
      "displayName": "Vanessa Coudert Mendez-Salvatierra",
      "userId": "02740837187322984622"
     },
     "user_tz": 0
    },
    "id": "441ce86c-c000-4ffa-b363-00ff722066d9"
   },
   "outputs": [],
   "source": [
    "#os.getcwd()"
   ]
  },
  {
   "cell_type": "markdown",
   "id": "760f6769-54e6-4d33-b311-ad0b1714c611",
   "metadata": {},
   "source": [
    "# Read & Combine Data"
   ]
  },
  {
   "cell_type": "code",
   "execution_count": 6,
   "id": "Ng9Tw-f7iz-H",
   "metadata": {
    "executionInfo": {
     "elapsed": 3,
     "status": "ok",
     "timestamp": 1710719876236,
     "user": {
      "displayName": "Vanessa Coudert Mendez-Salvatierra",
      "userId": "02740837187322984622"
     },
     "user_tz": 0
    },
    "id": "Ng9Tw-f7iz-H"
   },
   "outputs": [],
   "source": [
    "# File Paths (JupyterLab)\n",
    "\n",
    "path1 = 'C:/Users/c23091913/Downloads/CMT307 Labs/ashrae_energy_prediction/Original data/train.csv'\n",
    "path2 = 'C:/Users/c23091913/Downloads/CMT307 Labs/ashrae_energy_prediction/Original data/building_metadata.csv'\n",
    "path3 = 'C:/Users/c23091913/Downloads/CMT307 Labs/ashrae_energy_prediction/Original data/weather_train.csv'"
   ]
  },
  {
   "cell_type": "code",
   "execution_count": 7,
   "id": "e5468260-08cf-44be-b7c3-ae43b86a8c4f",
   "metadata": {
    "colab": {
     "base_uri": "https://localhost:8080/"
    },
    "executionInfo": {
     "elapsed": 106171,
     "status": "ok",
     "timestamp": 1710719982405,
     "user": {
      "displayName": "Vanessa Coudert Mendez-Salvatierra",
      "userId": "02740837187322984622"
     },
     "user_tz": 0
    },
    "id": "e5468260-08cf-44be-b7c3-ae43b86a8c4f",
    "outputId": "7a1311d8-8201-4180-aa29-8a0577fe09bf"
   },
   "outputs": [],
   "source": [
    " # Reading Data\n",
    "df = pd.read_csv(path1)\n",
    "building_metadata = pd.read_csv(path2)\n",
    "weather_df = pd.read_csv(path3)"
   ]
  },
  {
   "cell_type": "code",
   "execution_count": 8,
   "id": "57889a85-e949-4a6f-9a87-b91a4c1fd87f",
   "metadata": {},
   "outputs": [
    {
     "name": "stdout",
     "output_type": "stream",
     "text": [
      "(20216100, 4) (1449, 6) (139773, 9)\n"
     ]
    }
   ],
   "source": [
    "# What are the shapes of the dataframes?\n",
    "print(df.shape, building_metadata.shape, weather_df.shape)"
   ]
  },
  {
   "cell_type": "code",
   "execution_count": 10,
   "id": "107e4a36-430c-4654-b85b-040e468e328e",
   "metadata": {},
   "outputs": [
    {
     "name": "stdout",
     "output_type": "stream",
     "text": [
      "Final df shape: (20216100, 16)\n"
     ]
    }
   ],
   "source": [
    "# Join training dataset and building metadata on building id\n",
    "training_joined = df.merge(building_metadata, how='left', on='building_id')\n",
    "print(f'Training joined shape: {training_joined.shape}')\n",
    "\n",
    "# Join Training Joined and Weather by site id and timestamp\n",
    "combined_df = training_joined.merge(weather_df, how='left', on=['site_id', 'timestamp'])\n",
    "print(f'Final df shape: {combined_df.shape}')"
   ]
  },
  {
   "cell_type": "markdown",
   "id": "5c7c9823-8f1f-4c27-9fbc-39f296cd4f88",
   "metadata": {},
   "source": [
    "#####\n",
    "\n",
    "Remove the column `Unnamed: 0`, if produced"
   ]
  },
  {
   "cell_type": "code",
   "execution_count": 14,
   "id": "d8416227-53ed-4c6d-807a-eb89d164bbdd",
   "metadata": {},
   "outputs": [],
   "source": [
    "# Make a copy of dataframes:\n",
    "def remove_unnamed(df_):\n",
    "\n",
    "    # In case 'Unamed:0' reappears, check and drop it:\n",
    "    if 'Unnamed: 0' in df.columns:\n",
    "        df_ = df_.drop('Unnamed: 0', axis=1)\n",
    "        print(\"Dropped 'Unnamed: 0' from dataframe\")\n",
    "    \n",
    "    elif 'Unnamed: 0' not in df_.columns:\n",
    "        print(\"Column 'Unnamed: 0' not in dataframe\")\n",
    "        print(df_.columns)\n",
    "    \n",
    "    return df_"
   ]
  },
  {
   "cell_type": "code",
   "execution_count": 15,
   "id": "ff4d341e-cf89-430c-a814-9b60c3d8a3d5",
   "metadata": {},
   "outputs": [
    {
     "name": "stdout",
     "output_type": "stream",
     "text": [
      "Column 'Unnamed: 0' not in dataframe\n",
      "Index(['building_id', 'meter', 'timestamp', 'meter_reading', 'site_id',\n",
      "       'primary_use', 'square_feet', 'year_built', 'floor_count',\n",
      "       'air_temperature', 'cloud_coverage', 'dew_temperature',\n",
      "       'precip_depth_1_hr', 'sea_level_pressure', 'wind_direction',\n",
      "       'wind_speed'],\n",
      "      dtype='object')\n"
     ]
    }
   ],
   "source": [
    "temp_df = remove_unnamed(combined_df)"
   ]
  },
  {
   "cell_type": "markdown",
   "id": "oqJmo9BC08Hz",
   "metadata": {
    "id": "oqJmo9BC08Hz"
   },
   "source": [
    "#####\n",
    "\n",
    "# Data Prep"
   ]
  },
  {
   "cell_type": "code",
   "execution_count": 15,
   "id": "QFfjQQE8O5Pc",
   "metadata": {
    "colab": {
     "base_uri": "https://localhost:8080/"
    },
    "executionInfo": {
     "elapsed": 916,
     "status": "ok",
     "timestamp": 1710719983618,
     "user": {
      "displayName": "Vanessa Coudert Mendez-Salvatierra",
      "userId": "02740837187322984622"
     },
     "user_tz": 0
    },
    "id": "QFfjQQE8O5Pc",
    "outputId": "bb8ebd9c-058f-40fd-f2aa-e19897fbd8b6"
   },
   "outputs": [
    {
     "name": "stdout",
     "output_type": "stream",
     "text": [
      "<class 'pandas.core.frame.DataFrame'>\n",
      "Index: 20216100 entries, 0 to 20216099\n",
      "Data columns (total 16 columns):\n",
      " #   Column              Non-Null Count     Dtype   \n",
      "---  ------              --------------     -----   \n",
      " 0   building_id         20216100 non-null  int16   \n",
      " 1   meter               20216100 non-null  int8    \n",
      " 2   timestamp           20216100 non-null  category\n",
      " 3   meter_reading       20216100 non-null  float32 \n",
      " 4   site_id             20216100 non-null  int8    \n",
      " 5   primary_use         20216100 non-null  category\n",
      " 6   square_feet         20216100 non-null  int32   \n",
      " 7   year_built          8088455 non-null   float16 \n",
      " 8   floor_count         3506933 non-null   float16 \n",
      " 9   air_temperature     20119442 non-null  float16 \n",
      " 10  cloud_coverage      11390735 non-null  float16 \n",
      " 11  dew_temperature     20115960 non-null  float16 \n",
      " 12  precip_depth_1_hr   16467077 non-null  float16 \n",
      " 13  sea_level_pressure  18984431 non-null  float16 \n",
      " 14  wind_direction      18767052 non-null  float16 \n",
      " 15  wind_speed          20072424 non-null  float16 \n",
      "dtypes: category(2), float16(9), float32(1), int16(1), int32(1), int8(2)\n",
      "memory usage: 790.8 MB\n"
     ]
    }
   ],
   "source": [
    "# At a glance\n",
    "temp_df.info(show_counts=True, verbose=True)"
   ]
  },
  {
   "cell_type": "markdown",
   "id": "d2ac051b-3213-42be-941d-fdefa248f47c",
   "metadata": {},
   "source": [
    "\n",
    "#\n",
    "The cell below may display `RuntimeWarnings`, but we just ignore them for now. Scroll down to see cell output"
   ]
  },
  {
   "cell_type": "code",
   "execution_count": 16,
   "id": "CzPa5sPZO5De",
   "metadata": {
    "colab": {
     "base_uri": "https://localhost:8080/",
     "height": 320
    },
    "executionInfo": {
     "elapsed": 23755,
     "status": "ok",
     "timestamp": 1710720007368,
     "user": {
      "displayName": "Vanessa Coudert Mendez-Salvatierra",
      "userId": "02740837187322984622"
     },
     "user_tz": 0
    },
    "id": "CzPa5sPZO5De",
    "outputId": "726f9877-cb8e-4cb9-8d0a-717ada48a0a9",
    "scrolled": true
   },
   "outputs": [
    {
     "data": {
      "text/html": [
       "<div>\n",
       "<style scoped>\n",
       "    .dataframe tbody tr th:only-of-type {\n",
       "        vertical-align: middle;\n",
       "    }\n",
       "\n",
       "    .dataframe tbody tr th {\n",
       "        vertical-align: top;\n",
       "    }\n",
       "\n",
       "    .dataframe thead th {\n",
       "        text-align: right;\n",
       "    }\n",
       "</style>\n",
       "<table border=\"1\" class=\"dataframe\">\n",
       "  <thead>\n",
       "    <tr style=\"text-align: right;\">\n",
       "      <th></th>\n",
       "      <th>building_id</th>\n",
       "      <th>meter</th>\n",
       "      <th>meter_reading</th>\n",
       "      <th>site_id</th>\n",
       "      <th>square_feet</th>\n",
       "      <th>year_built</th>\n",
       "      <th>floor_count</th>\n",
       "      <th>air_temperature</th>\n",
       "      <th>cloud_coverage</th>\n",
       "      <th>dew_temperature</th>\n",
       "      <th>precip_depth_1_hr</th>\n",
       "      <th>sea_level_pressure</th>\n",
       "      <th>wind_direction</th>\n",
       "      <th>wind_speed</th>\n",
       "    </tr>\n",
       "  </thead>\n",
       "  <tbody>\n",
       "    <tr>\n",
       "      <th>count</th>\n",
       "      <td>20216100.00000</td>\n",
       "      <td>20216100.00000</td>\n",
       "      <td>20216100.00000</td>\n",
       "      <td>20216100.00000</td>\n",
       "      <td>20216100.00000</td>\n",
       "      <td>8088455.00000</td>\n",
       "      <td>3506933.00000</td>\n",
       "      <td>20119442.00000</td>\n",
       "      <td>11390735.00000</td>\n",
       "      <td>20115960.00000</td>\n",
       "      <td>16467077.00000</td>\n",
       "      <td>18984431.00000</td>\n",
       "      <td>18767052.00000</td>\n",
       "      <td>20072424.00000</td>\n",
       "    </tr>\n",
       "    <tr>\n",
       "      <th>mean</th>\n",
       "      <td>799.27800</td>\n",
       "      <td>0.66244</td>\n",
       "      <td>2117.12158</td>\n",
       "      <td>7.99223</td>\n",
       "      <td>107782.98133</td>\n",
       "      <td>nan</td>\n",
       "      <td>nan</td>\n",
       "      <td>nan</td>\n",
       "      <td>nan</td>\n",
       "      <td>nan</td>\n",
       "      <td>nan</td>\n",
       "      <td>nan</td>\n",
       "      <td>nan</td>\n",
       "      <td>nan</td>\n",
       "    </tr>\n",
       "    <tr>\n",
       "      <th>std</th>\n",
       "      <td>426.91331</td>\n",
       "      <td>0.93099</td>\n",
       "      <td>153235.62500</td>\n",
       "      <td>5.09906</td>\n",
       "      <td>117142.44365</td>\n",
       "      <td>nan</td>\n",
       "      <td>0.00000</td>\n",
       "      <td>0.00000</td>\n",
       "      <td>0.00000</td>\n",
       "      <td>0.00000</td>\n",
       "      <td>nan</td>\n",
       "      <td>nan</td>\n",
       "      <td>nan</td>\n",
       "      <td>0.00000</td>\n",
       "    </tr>\n",
       "    <tr>\n",
       "      <th>min</th>\n",
       "      <td>0.00000</td>\n",
       "      <td>0.00000</td>\n",
       "      <td>0.00000</td>\n",
       "      <td>0.00000</td>\n",
       "      <td>283.00000</td>\n",
       "      <td>1900.00000</td>\n",
       "      <td>1.00000</td>\n",
       "      <td>-28.90625</td>\n",
       "      <td>0.00000</td>\n",
       "      <td>-35.00000</td>\n",
       "      <td>-1.00000</td>\n",
       "      <td>968.00000</td>\n",
       "      <td>0.00000</td>\n",
       "      <td>0.00000</td>\n",
       "    </tr>\n",
       "    <tr>\n",
       "      <th>25%</th>\n",
       "      <td>393.00000</td>\n",
       "      <td>0.00000</td>\n",
       "      <td>18.30000</td>\n",
       "      <td>3.00000</td>\n",
       "      <td>32527.00000</td>\n",
       "      <td>1951.00000</td>\n",
       "      <td>1.00000</td>\n",
       "      <td>8.60156</td>\n",
       "      <td>0.00000</td>\n",
       "      <td>0.00000</td>\n",
       "      <td>0.00000</td>\n",
       "      <td>1011.50000</td>\n",
       "      <td>70.00000</td>\n",
       "      <td>2.09961</td>\n",
       "    </tr>\n",
       "    <tr>\n",
       "      <th>50%</th>\n",
       "      <td>895.00000</td>\n",
       "      <td>0.00000</td>\n",
       "      <td>78.77500</td>\n",
       "      <td>9.00000</td>\n",
       "      <td>72709.00000</td>\n",
       "      <td>1969.00000</td>\n",
       "      <td>3.00000</td>\n",
       "      <td>16.70312</td>\n",
       "      <td>0.00000</td>\n",
       "      <td>8.89844</td>\n",
       "      <td>0.00000</td>\n",
       "      <td>1016.00000</td>\n",
       "      <td>180.00000</td>\n",
       "      <td>3.09961</td>\n",
       "    </tr>\n",
       "    <tr>\n",
       "      <th>75%</th>\n",
       "      <td>1179.00000</td>\n",
       "      <td>1.00000</td>\n",
       "      <td>267.98401</td>\n",
       "      <td>13.00000</td>\n",
       "      <td>139113.00000</td>\n",
       "      <td>1993.00000</td>\n",
       "      <td>6.00000</td>\n",
       "      <td>24.09375</td>\n",
       "      <td>4.00000</td>\n",
       "      <td>16.09375</td>\n",
       "      <td>0.00000</td>\n",
       "      <td>1020.50000</td>\n",
       "      <td>280.00000</td>\n",
       "      <td>4.60156</td>\n",
       "    </tr>\n",
       "    <tr>\n",
       "      <th>max</th>\n",
       "      <td>1448.00000</td>\n",
       "      <td>3.00000</td>\n",
       "      <td>21904700.00000</td>\n",
       "      <td>15.00000</td>\n",
       "      <td>875000.00000</td>\n",
       "      <td>2017.00000</td>\n",
       "      <td>26.00000</td>\n",
       "      <td>47.18750</td>\n",
       "      <td>9.00000</td>\n",
       "      <td>26.09375</td>\n",
       "      <td>343.00000</td>\n",
       "      <td>1046.00000</td>\n",
       "      <td>360.00000</td>\n",
       "      <td>19.00000</td>\n",
       "    </tr>\n",
       "  </tbody>\n",
       "</table>\n",
       "</div>"
      ],
      "text/plain": [
       "          building_id           meter   meter_reading         site_id   \n",
       "count  20216100.00000  20216100.00000  20216100.00000  20216100.00000  \\\n",
       "mean        799.27800         0.66244      2117.12158         7.99223   \n",
       "std         426.91331         0.93099    153235.62500         5.09906   \n",
       "min           0.00000         0.00000         0.00000         0.00000   \n",
       "25%         393.00000         0.00000        18.30000         3.00000   \n",
       "50%         895.00000         0.00000        78.77500         9.00000   \n",
       "75%        1179.00000         1.00000       267.98401        13.00000   \n",
       "max        1448.00000         3.00000  21904700.00000        15.00000   \n",
       "\n",
       "          square_feet     year_built    floor_count air_temperature   \n",
       "count  20216100.00000  8088455.00000  3506933.00000  20119442.00000  \\\n",
       "mean     107782.98133            nan            nan             nan   \n",
       "std      117142.44365            nan        0.00000         0.00000   \n",
       "min         283.00000     1900.00000        1.00000       -28.90625   \n",
       "25%       32527.00000     1951.00000        1.00000         8.60156   \n",
       "50%       72709.00000     1969.00000        3.00000        16.70312   \n",
       "75%      139113.00000     1993.00000        6.00000        24.09375   \n",
       "max      875000.00000     2017.00000       26.00000        47.18750   \n",
       "\n",
       "       cloud_coverage dew_temperature precip_depth_1_hr sea_level_pressure   \n",
       "count  11390735.00000  20115960.00000    16467077.00000     18984431.00000  \\\n",
       "mean              nan             nan               nan                nan   \n",
       "std           0.00000         0.00000               nan                nan   \n",
       "min           0.00000       -35.00000          -1.00000          968.00000   \n",
       "25%           0.00000         0.00000           0.00000         1011.50000   \n",
       "50%           0.00000         8.89844           0.00000         1016.00000   \n",
       "75%           4.00000        16.09375           0.00000         1020.50000   \n",
       "max           9.00000        26.09375         343.00000         1046.00000   \n",
       "\n",
       "       wind_direction      wind_speed  \n",
       "count  18767052.00000  20072424.00000  \n",
       "mean              nan             nan  \n",
       "std               nan         0.00000  \n",
       "min           0.00000         0.00000  \n",
       "25%          70.00000         2.09961  \n",
       "50%         180.00000         3.09961  \n",
       "75%         280.00000         4.60156  \n",
       "max         360.00000        19.00000  "
      ]
     },
     "execution_count": 16,
     "metadata": {},
     "output_type": "execute_result"
    }
   ],
   "source": [
    "# Check Desrciptive Stats\n",
    "temp_df.describe() # Lambda function to suppress scientific notation\n",
    "#round(temp_df.describe(), 3)"
   ]
  },
  {
   "cell_type": "code",
   "execution_count": 17,
   "id": "6a25c31c-3c76-4d06-8cc9-ac891133bcb0",
   "metadata": {},
   "outputs": [
    {
     "data": {
      "text/html": [
       "<div>\n",
       "<style scoped>\n",
       "    .dataframe tbody tr th:only-of-type {\n",
       "        vertical-align: middle;\n",
       "    }\n",
       "\n",
       "    .dataframe tbody tr th {\n",
       "        vertical-align: top;\n",
       "    }\n",
       "\n",
       "    .dataframe thead th {\n",
       "        text-align: right;\n",
       "    }\n",
       "</style>\n",
       "<table border=\"1\" class=\"dataframe\">\n",
       "  <thead>\n",
       "    <tr style=\"text-align: right;\">\n",
       "      <th></th>\n",
       "      <th>building_id</th>\n",
       "      <th>meter</th>\n",
       "      <th>timestamp</th>\n",
       "      <th>meter_reading</th>\n",
       "      <th>site_id</th>\n",
       "      <th>primary_use</th>\n",
       "      <th>square_feet</th>\n",
       "      <th>year_built</th>\n",
       "      <th>floor_count</th>\n",
       "      <th>air_temperature</th>\n",
       "      <th>cloud_coverage</th>\n",
       "      <th>dew_temperature</th>\n",
       "      <th>precip_depth_1_hr</th>\n",
       "      <th>sea_level_pressure</th>\n",
       "      <th>wind_direction</th>\n",
       "      <th>wind_speed</th>\n",
       "    </tr>\n",
       "  </thead>\n",
       "  <tbody>\n",
       "    <tr>\n",
       "      <th>0</th>\n",
       "      <td>0</td>\n",
       "      <td>0</td>\n",
       "      <td>2016-01-01 00:00:00</td>\n",
       "      <td>0.0</td>\n",
       "      <td>0</td>\n",
       "      <td>Education</td>\n",
       "      <td>7432</td>\n",
       "      <td>2008.0</td>\n",
       "      <td>NaN</td>\n",
       "      <td>25.0</td>\n",
       "      <td>6.0</td>\n",
       "      <td>20.0</td>\n",
       "      <td>NaN</td>\n",
       "      <td>1019.5</td>\n",
       "      <td>0.0</td>\n",
       "      <td>0.0</td>\n",
       "    </tr>\n",
       "    <tr>\n",
       "      <th>1</th>\n",
       "      <td>1</td>\n",
       "      <td>0</td>\n",
       "      <td>2016-01-01 00:00:00</td>\n",
       "      <td>0.0</td>\n",
       "      <td>0</td>\n",
       "      <td>Education</td>\n",
       "      <td>2720</td>\n",
       "      <td>2004.0</td>\n",
       "      <td>NaN</td>\n",
       "      <td>25.0</td>\n",
       "      <td>6.0</td>\n",
       "      <td>20.0</td>\n",
       "      <td>NaN</td>\n",
       "      <td>1019.5</td>\n",
       "      <td>0.0</td>\n",
       "      <td>0.0</td>\n",
       "    </tr>\n",
       "    <tr>\n",
       "      <th>2</th>\n",
       "      <td>2</td>\n",
       "      <td>0</td>\n",
       "      <td>2016-01-01 00:00:00</td>\n",
       "      <td>0.0</td>\n",
       "      <td>0</td>\n",
       "      <td>Education</td>\n",
       "      <td>5376</td>\n",
       "      <td>1991.0</td>\n",
       "      <td>NaN</td>\n",
       "      <td>25.0</td>\n",
       "      <td>6.0</td>\n",
       "      <td>20.0</td>\n",
       "      <td>NaN</td>\n",
       "      <td>1019.5</td>\n",
       "      <td>0.0</td>\n",
       "      <td>0.0</td>\n",
       "    </tr>\n",
       "    <tr>\n",
       "      <th>3</th>\n",
       "      <td>3</td>\n",
       "      <td>0</td>\n",
       "      <td>2016-01-01 00:00:00</td>\n",
       "      <td>0.0</td>\n",
       "      <td>0</td>\n",
       "      <td>Education</td>\n",
       "      <td>23685</td>\n",
       "      <td>2002.0</td>\n",
       "      <td>NaN</td>\n",
       "      <td>25.0</td>\n",
       "      <td>6.0</td>\n",
       "      <td>20.0</td>\n",
       "      <td>NaN</td>\n",
       "      <td>1019.5</td>\n",
       "      <td>0.0</td>\n",
       "      <td>0.0</td>\n",
       "    </tr>\n",
       "    <tr>\n",
       "      <th>4</th>\n",
       "      <td>4</td>\n",
       "      <td>0</td>\n",
       "      <td>2016-01-01 00:00:00</td>\n",
       "      <td>0.0</td>\n",
       "      <td>0</td>\n",
       "      <td>Education</td>\n",
       "      <td>116607</td>\n",
       "      <td>1975.0</td>\n",
       "      <td>NaN</td>\n",
       "      <td>25.0</td>\n",
       "      <td>6.0</td>\n",
       "      <td>20.0</td>\n",
       "      <td>NaN</td>\n",
       "      <td>1019.5</td>\n",
       "      <td>0.0</td>\n",
       "      <td>0.0</td>\n",
       "    </tr>\n",
       "  </tbody>\n",
       "</table>\n",
       "</div>"
      ],
      "text/plain": [
       "   building_id  meter            timestamp  meter_reading  site_id   \n",
       "0            0      0  2016-01-01 00:00:00            0.0        0  \\\n",
       "1            1      0  2016-01-01 00:00:00            0.0        0   \n",
       "2            2      0  2016-01-01 00:00:00            0.0        0   \n",
       "3            3      0  2016-01-01 00:00:00            0.0        0   \n",
       "4            4      0  2016-01-01 00:00:00            0.0        0   \n",
       "\n",
       "  primary_use  square_feet  year_built  floor_count  air_temperature   \n",
       "0   Education         7432      2008.0          NaN             25.0  \\\n",
       "1   Education         2720      2004.0          NaN             25.0   \n",
       "2   Education         5376      1991.0          NaN             25.0   \n",
       "3   Education        23685      2002.0          NaN             25.0   \n",
       "4   Education       116607      1975.0          NaN             25.0   \n",
       "\n",
       "   cloud_coverage  dew_temperature  precip_depth_1_hr  sea_level_pressure   \n",
       "0             6.0             20.0                NaN              1019.5  \\\n",
       "1             6.0             20.0                NaN              1019.5   \n",
       "2             6.0             20.0                NaN              1019.5   \n",
       "3             6.0             20.0                NaN              1019.5   \n",
       "4             6.0             20.0                NaN              1019.5   \n",
       "\n",
       "   wind_direction  wind_speed  \n",
       "0             0.0         0.0  \n",
       "1             0.0         0.0  \n",
       "2             0.0         0.0  \n",
       "3             0.0         0.0  \n",
       "4             0.0         0.0  "
      ]
     },
     "execution_count": 17,
     "metadata": {},
     "output_type": "execute_result"
    }
   ],
   "source": [
    "temp_df.head(5)"
   ]
  },
  {
   "cell_type": "code",
   "execution_count": 18,
   "id": "fc97dd2a-383a-4c9a-8aed-3697a5fdc5f2",
   "metadata": {},
   "outputs": [
    {
     "data": {
      "text/html": [
       "<div>\n",
       "<style scoped>\n",
       "    .dataframe tbody tr th:only-of-type {\n",
       "        vertical-align: middle;\n",
       "    }\n",
       "\n",
       "    .dataframe tbody tr th {\n",
       "        vertical-align: top;\n",
       "    }\n",
       "\n",
       "    .dataframe thead th {\n",
       "        text-align: right;\n",
       "    }\n",
       "</style>\n",
       "<table border=\"1\" class=\"dataframe\">\n",
       "  <thead>\n",
       "    <tr style=\"text-align: right;\">\n",
       "      <th></th>\n",
       "      <th>building_id</th>\n",
       "      <th>meter</th>\n",
       "      <th>timestamp</th>\n",
       "      <th>meter_reading</th>\n",
       "      <th>site_id</th>\n",
       "      <th>primary_use</th>\n",
       "      <th>square_feet</th>\n",
       "      <th>year_built</th>\n",
       "      <th>floor_count</th>\n",
       "      <th>air_temperature</th>\n",
       "      <th>cloud_coverage</th>\n",
       "      <th>dew_temperature</th>\n",
       "      <th>precip_depth_1_hr</th>\n",
       "      <th>sea_level_pressure</th>\n",
       "      <th>wind_direction</th>\n",
       "      <th>wind_speed</th>\n",
       "    </tr>\n",
       "  </thead>\n",
       "  <tbody>\n",
       "    <tr>\n",
       "      <th>20216095</th>\n",
       "      <td>1444</td>\n",
       "      <td>0</td>\n",
       "      <td>2016-12-31 23:00:00</td>\n",
       "      <td>8.750000</td>\n",
       "      <td>15</td>\n",
       "      <td>Entertainment/public assembly</td>\n",
       "      <td>19619</td>\n",
       "      <td>1914.0</td>\n",
       "      <td>NaN</td>\n",
       "      <td>1.700195</td>\n",
       "      <td>NaN</td>\n",
       "      <td>-5.601562</td>\n",
       "      <td>-1.0</td>\n",
       "      <td>1008.5</td>\n",
       "      <td>180.0</td>\n",
       "      <td>8.796875</td>\n",
       "    </tr>\n",
       "    <tr>\n",
       "      <th>20216096</th>\n",
       "      <td>1445</td>\n",
       "      <td>0</td>\n",
       "      <td>2016-12-31 23:00:00</td>\n",
       "      <td>4.825000</td>\n",
       "      <td>15</td>\n",
       "      <td>Education</td>\n",
       "      <td>4298</td>\n",
       "      <td>NaN</td>\n",
       "      <td>NaN</td>\n",
       "      <td>1.700195</td>\n",
       "      <td>NaN</td>\n",
       "      <td>-5.601562</td>\n",
       "      <td>-1.0</td>\n",
       "      <td>1008.5</td>\n",
       "      <td>180.0</td>\n",
       "      <td>8.796875</td>\n",
       "    </tr>\n",
       "    <tr>\n",
       "      <th>20216097</th>\n",
       "      <td>1446</td>\n",
       "      <td>0</td>\n",
       "      <td>2016-12-31 23:00:00</td>\n",
       "      <td>0.000000</td>\n",
       "      <td>15</td>\n",
       "      <td>Entertainment/public assembly</td>\n",
       "      <td>11265</td>\n",
       "      <td>1997.0</td>\n",
       "      <td>NaN</td>\n",
       "      <td>1.700195</td>\n",
       "      <td>NaN</td>\n",
       "      <td>-5.601562</td>\n",
       "      <td>-1.0</td>\n",
       "      <td>1008.5</td>\n",
       "      <td>180.0</td>\n",
       "      <td>8.796875</td>\n",
       "    </tr>\n",
       "    <tr>\n",
       "      <th>20216098</th>\n",
       "      <td>1447</td>\n",
       "      <td>0</td>\n",
       "      <td>2016-12-31 23:00:00</td>\n",
       "      <td>159.574997</td>\n",
       "      <td>15</td>\n",
       "      <td>Lodging/residential</td>\n",
       "      <td>29775</td>\n",
       "      <td>2001.0</td>\n",
       "      <td>NaN</td>\n",
       "      <td>1.700195</td>\n",
       "      <td>NaN</td>\n",
       "      <td>-5.601562</td>\n",
       "      <td>-1.0</td>\n",
       "      <td>1008.5</td>\n",
       "      <td>180.0</td>\n",
       "      <td>8.796875</td>\n",
       "    </tr>\n",
       "    <tr>\n",
       "      <th>20216099</th>\n",
       "      <td>1448</td>\n",
       "      <td>0</td>\n",
       "      <td>2016-12-31 23:00:00</td>\n",
       "      <td>2.850000</td>\n",
       "      <td>15</td>\n",
       "      <td>Office</td>\n",
       "      <td>92271</td>\n",
       "      <td>2001.0</td>\n",
       "      <td>NaN</td>\n",
       "      <td>1.700195</td>\n",
       "      <td>NaN</td>\n",
       "      <td>-5.601562</td>\n",
       "      <td>-1.0</td>\n",
       "      <td>1008.5</td>\n",
       "      <td>180.0</td>\n",
       "      <td>8.796875</td>\n",
       "    </tr>\n",
       "  </tbody>\n",
       "</table>\n",
       "</div>"
      ],
      "text/plain": [
       "          building_id  meter            timestamp  meter_reading  site_id   \n",
       "20216095         1444      0  2016-12-31 23:00:00       8.750000       15  \\\n",
       "20216096         1445      0  2016-12-31 23:00:00       4.825000       15   \n",
       "20216097         1446      0  2016-12-31 23:00:00       0.000000       15   \n",
       "20216098         1447      0  2016-12-31 23:00:00     159.574997       15   \n",
       "20216099         1448      0  2016-12-31 23:00:00       2.850000       15   \n",
       "\n",
       "                            primary_use  square_feet  year_built  floor_count   \n",
       "20216095  Entertainment/public assembly        19619      1914.0          NaN  \\\n",
       "20216096                      Education         4298         NaN          NaN   \n",
       "20216097  Entertainment/public assembly        11265      1997.0          NaN   \n",
       "20216098            Lodging/residential        29775      2001.0          NaN   \n",
       "20216099                         Office        92271      2001.0          NaN   \n",
       "\n",
       "          air_temperature  cloud_coverage  dew_temperature  precip_depth_1_hr   \n",
       "20216095         1.700195             NaN        -5.601562               -1.0  \\\n",
       "20216096         1.700195             NaN        -5.601562               -1.0   \n",
       "20216097         1.700195             NaN        -5.601562               -1.0   \n",
       "20216098         1.700195             NaN        -5.601562               -1.0   \n",
       "20216099         1.700195             NaN        -5.601562               -1.0   \n",
       "\n",
       "          sea_level_pressure  wind_direction  wind_speed  \n",
       "20216095              1008.5           180.0    8.796875  \n",
       "20216096              1008.5           180.0    8.796875  \n",
       "20216097              1008.5           180.0    8.796875  \n",
       "20216098              1008.5           180.0    8.796875  \n",
       "20216099              1008.5           180.0    8.796875  "
      ]
     },
     "execution_count": 18,
     "metadata": {},
     "output_type": "execute_result"
    }
   ],
   "source": [
    "temp_df.tail(5)"
   ]
  },
  {
   "cell_type": "code",
   "execution_count": 19,
   "id": "6b67029b-2aa0-429d-9543-4c03b4832085",
   "metadata": {},
   "outputs": [
    {
     "data": {
      "text/plain": [
       "site_id\n",
       "0      5.33\n",
       "1      2.74\n",
       "2     12.52\n",
       "3     11.72\n",
       "4      3.69\n",
       "5      3.87\n",
       "6      3.30\n",
       "7      1.81\n",
       "8      2.81\n",
       "9     13.25\n",
       "10     2.04\n",
       "11     0.59\n",
       "12     1.56\n",
       "13    13.41\n",
       "14    12.37\n",
       "15     8.98\n",
       "dtype: float64"
      ]
     },
     "execution_count": 19,
     "metadata": {},
     "output_type": "execute_result"
    }
   ],
   "source": [
    "# How many rows per site (as a % of total rows)\n",
    "pct_sites = round(temp_df.groupby('site_id').size()/len(temp_df)*100, 2)\n",
    "pct_sites"
   ]
  },
  {
   "cell_type": "markdown",
   "id": "f6ec4e93-f54a-40dc-984d-6798d863131f",
   "metadata": {},
   "source": [
    "##\n",
    "\n",
    "The EDA found that `year_built` and `floor_count` have a high number of missing values, so these are dropped\n",
    "\n",
    "> **NOTE 1:** On the units of consumption, they are all in `KWh`. However, Kaggle reported an error in the units for site 0 which still in its original units and will need to be convereted to `kWh`."
   ]
  },
  {
   "cell_type": "code",
   "execution_count": 20,
   "id": "4d7a0f55-7618-4905-8957-bab758a0ab10",
   "metadata": {
    "colab": {
     "base_uri": "https://localhost:8080/"
    },
    "executionInfo": {
     "elapsed": 1333,
     "status": "ok",
     "timestamp": 1710720008698,
     "user": {
      "displayName": "Vanessa Coudert Mendez-Salvatierra",
      "userId": "02740837187322984622"
     },
     "user_tz": 0
    },
    "id": "4d7a0f55-7618-4905-8957-bab758a0ab10",
    "outputId": "2d1039f9-96c5-4d71-b2ad-e97367ba5715"
   },
   "outputs": [
    {
     "name": "stdout",
     "output_type": "stream",
     "text": [
      "Index(['meter', 'timestamp', 'meter_reading', 'site_id', 'primary_use',\n",
      "       'square_feet', 'air_temperature', 'cloud_coverage', 'dew_temperature',\n",
      "       'precip_depth_1_hr', 'sea_level_pressure', 'wind_direction',\n",
      "       'wind_speed'],\n",
      "      dtype='object')\n"
     ]
    }
   ],
   "source": [
    "# Columns to drop\n",
    "drop_col_list = ['year_built', 'floor_count', 'building_id']\n",
    "temp_df.drop(columns = drop_col_list, inplace=True)\n",
    "\n",
    "print(temp_df.columns)"
   ]
  },
  {
   "cell_type": "markdown",
   "id": "9f5d462c-58de-4a16-af9e-7d378db2e7be",
   "metadata": {},
   "source": [
    "#\n",
    "\n",
    "\n",
    "There was a reported error relating to the consumption units for the electric meters in site 0, these need to be converted to kWh\n",
    "\n",
    "> Refs: https://www.kaggle.com/c/ashrae-energy-prediction/discussion/119261"
   ]
  },
  {
   "cell_type": "code",
   "execution_count": 21,
   "id": "2dbddc84-29e6-4352-a96c-5b12ae1bb4c6",
   "metadata": {},
   "outputs": [],
   "source": [
    "# For the purpose of checking results, I'll subset consumption rows for electic meters in site 0 before conversion\n",
    "subset = temp_df.loc[(temp_df['site_id'] == 0) & (temp_df['meter'] == 0), ['meter_reading']]"
   ]
  },
  {
   "cell_type": "code",
   "execution_count": 22,
   "id": "7c209c3d-b402-4604-8a02-d5aa3539411a",
   "metadata": {},
   "outputs": [
    {
     "data": {
      "text/html": [
       "<div>\n",
       "<style scoped>\n",
       "    .dataframe tbody tr th:only-of-type {\n",
       "        vertical-align: middle;\n",
       "    }\n",
       "\n",
       "    .dataframe tbody tr th {\n",
       "        vertical-align: top;\n",
       "    }\n",
       "\n",
       "    .dataframe thead th {\n",
       "        text-align: right;\n",
       "    }\n",
       "</style>\n",
       "<table border=\"1\" class=\"dataframe\">\n",
       "  <thead>\n",
       "    <tr style=\"text-align: right;\">\n",
       "      <th></th>\n",
       "      <th>meter_reading</th>\n",
       "    </tr>\n",
       "  </thead>\n",
       "  <tbody>\n",
       "    <tr>\n",
       "      <th>count</th>\n",
       "      <td>908409.000000</td>\n",
       "    </tr>\n",
       "    <tr>\n",
       "      <th>mean</th>\n",
       "      <td>226.534790</td>\n",
       "    </tr>\n",
       "    <tr>\n",
       "      <th>std</th>\n",
       "      <td>376.670319</td>\n",
       "    </tr>\n",
       "    <tr>\n",
       "      <th>min</th>\n",
       "      <td>0.000000</td>\n",
       "    </tr>\n",
       "    <tr>\n",
       "      <th>25%</th>\n",
       "      <td>0.000000</td>\n",
       "    </tr>\n",
       "    <tr>\n",
       "      <th>50%</th>\n",
       "      <td>70.440201</td>\n",
       "    </tr>\n",
       "    <tr>\n",
       "      <th>75%</th>\n",
       "      <td>296.571991</td>\n",
       "    </tr>\n",
       "    <tr>\n",
       "      <th>max</th>\n",
       "      <td>4521.000000</td>\n",
       "    </tr>\n",
       "  </tbody>\n",
       "</table>\n",
       "</div>"
      ],
      "text/plain": [
       "       meter_reading\n",
       "count  908409.000000\n",
       "mean      226.534790\n",
       "std       376.670319\n",
       "min         0.000000\n",
       "25%         0.000000\n",
       "50%        70.440201\n",
       "75%       296.571991\n",
       "max      4521.000000"
      ]
     },
     "execution_count": 22,
     "metadata": {},
     "output_type": "execute_result"
    }
   ],
   "source": [
    "subset.describe()"
   ]
  },
  {
   "cell_type": "code",
   "execution_count": 23,
   "id": "86963923-97f4-4257-ab09-fda11864dbf0",
   "metadata": {},
   "outputs": [],
   "source": [
    "# Converting consumption of electric meter for site 0 to kWh\n",
    "temp_df.loc[(temp_df['site_id'] == 0) & (temp_df['meter'] == 0), 'meter_reading'] = temp_df['meter_reading']*0.2931"
   ]
  },
  {
   "cell_type": "code",
   "execution_count": 24,
   "id": "95928444-ca95-46fa-aa4c-b0ecb7e148ee",
   "metadata": {},
   "outputs": [
    {
     "data": {
      "text/plain": [
       "count    908409.000000\n",
       "mean         66.397316\n",
       "std         110.402069\n",
       "min           0.000000\n",
       "25%           0.000000\n",
       "50%          20.646023\n",
       "75%          86.925247\n",
       "max        1325.105103\n",
       "Name: meter_reading, dtype: float64"
      ]
     },
     "execution_count": 24,
     "metadata": {},
     "output_type": "execute_result"
    }
   ],
   "source": [
    "# Check results:\n",
    "temp_df.loc[(temp_df['site_id'] == 0) & (temp_df['meter'] == 0), 'meter_reading'].describe()"
   ]
  },
  {
   "cell_type": "markdown",
   "id": "85272e7b-1ddb-49d9-be0b-0bf527b5d7aa",
   "metadata": {},
   "source": [
    "Doing a manual check for the median: 70.44 * 0.2931 = 20.62"
   ]
  },
  {
   "cell_type": "markdown",
   "id": "BzyT1aTX1N-w",
   "metadata": {
    "id": "BzyT1aTX1N-w"
   },
   "source": [
    "#####\n",
    "Descriptive stats from teh EDA show there are some meter readings equal to 0, so I will go ahead and remove them"
   ]
  },
  {
   "cell_type": "code",
   "execution_count": 25,
   "id": "21ce7f46-301c-46db-8ab3-f2ca93146872",
   "metadata": {
    "executionInfo": {
     "elapsed": 1634,
     "status": "ok",
     "timestamp": 1710720010610,
     "user": {
      "displayName": "Vanessa Coudert Mendez-Salvatierra",
      "userId": "02740837187322984622"
     },
     "user_tz": 0
    },
    "id": "21ce7f46-301c-46db-8ab3-f2ca93146872"
   },
   "outputs": [],
   "source": [
    "# Subset to exclude rows with 0.0 meter reading\n",
    "temp_df = temp_df[temp_df['meter_reading'] >= 1]"
   ]
  },
  {
   "cell_type": "code",
   "execution_count": 26,
   "id": "3a5cf7eb-a2c5-449b-8902-531449e22c35",
   "metadata": {},
   "outputs": [
    {
     "name": "stdout",
     "output_type": "stream",
     "text": [
      "<class 'pandas.core.frame.DataFrame'>\n",
      "Index: 18001908 entries, 45 to 20216099\n",
      "Data columns (total 13 columns):\n",
      " #   Column              Non-Null Count     Dtype   \n",
      "---  ------              --------------     -----   \n",
      " 0   meter               18001908 non-null  int8    \n",
      " 1   timestamp           18001908 non-null  category\n",
      " 2   meter_reading       18001908 non-null  float32 \n",
      " 3   site_id             18001908 non-null  int8    \n",
      " 4   primary_use         18001908 non-null  category\n",
      " 5   square_feet         18001908 non-null  int32   \n",
      " 6   air_temperature     17913634 non-null  float16 \n",
      " 7   cloud_coverage      10184178 non-null  float16 \n",
      " 8   dew_temperature     17910569 non-null  float16 \n",
      " 9   precip_depth_1_hr   14552444 non-null  float16 \n",
      " 10  sea_level_pressure  16847344 non-null  float16 \n",
      " 11  wind_direction      16687585 non-null  float16 \n",
      " 12  wind_speed          17870802 non-null  float16 \n",
      "dtypes: category(2), float16(7), float32(1), int32(1), int8(2)\n",
      "memory usage: 601.2 MB\n"
     ]
    }
   ],
   "source": [
    "temp_df.info(show_counts=True, verbose=True)"
   ]
  },
  {
   "cell_type": "code",
   "execution_count": 27,
   "id": "ba20d8f6-6665-41e3-af59-f926df7fcb1a",
   "metadata": {
    "scrolled": true
   },
   "outputs": [
    {
     "data": {
      "text/html": [
       "<div>\n",
       "<style scoped>\n",
       "    .dataframe tbody tr th:only-of-type {\n",
       "        vertical-align: middle;\n",
       "    }\n",
       "\n",
       "    .dataframe tbody tr th {\n",
       "        vertical-align: top;\n",
       "    }\n",
       "\n",
       "    .dataframe thead th {\n",
       "        text-align: right;\n",
       "    }\n",
       "</style>\n",
       "<table border=\"1\" class=\"dataframe\">\n",
       "  <thead>\n",
       "    <tr style=\"text-align: right;\">\n",
       "      <th></th>\n",
       "      <th>meter</th>\n",
       "      <th>meter_reading</th>\n",
       "      <th>site_id</th>\n",
       "      <th>square_feet</th>\n",
       "      <th>air_temperature</th>\n",
       "      <th>cloud_coverage</th>\n",
       "      <th>dew_temperature</th>\n",
       "      <th>precip_depth_1_hr</th>\n",
       "      <th>sea_level_pressure</th>\n",
       "      <th>wind_direction</th>\n",
       "      <th>wind_speed</th>\n",
       "    </tr>\n",
       "  </thead>\n",
       "  <tbody>\n",
       "    <tr>\n",
       "      <th>count</th>\n",
       "      <td>18001908.00000</td>\n",
       "      <td>18001908.00000</td>\n",
       "      <td>18001908.00000</td>\n",
       "      <td>18001908.00000</td>\n",
       "      <td>17913634.00000</td>\n",
       "      <td>10184178.00000</td>\n",
       "      <td>17910569.00000</td>\n",
       "      <td>14552444.00000</td>\n",
       "      <td>16847344.00000</td>\n",
       "      <td>16687585.00000</td>\n",
       "      <td>17870802.00000</td>\n",
       "    </tr>\n",
       "    <tr>\n",
       "      <th>mean</th>\n",
       "      <td>0.59881</td>\n",
       "      <td>2369.43115</td>\n",
       "      <td>8.04671</td>\n",
       "      <td>108504.92186</td>\n",
       "      <td>nan</td>\n",
       "      <td>nan</td>\n",
       "      <td>nan</td>\n",
       "      <td>nan</td>\n",
       "      <td>nan</td>\n",
       "      <td>nan</td>\n",
       "      <td>nan</td>\n",
       "    </tr>\n",
       "    <tr>\n",
       "      <th>std</th>\n",
       "      <td>0.89191</td>\n",
       "      <td>162384.39062</td>\n",
       "      <td>5.05777</td>\n",
       "      <td>117355.76407</td>\n",
       "      <td>0.00000</td>\n",
       "      <td>0.00000</td>\n",
       "      <td>0.00000</td>\n",
       "      <td>nan</td>\n",
       "      <td>nan</td>\n",
       "      <td>nan</td>\n",
       "      <td>0.00000</td>\n",
       "    </tr>\n",
       "    <tr>\n",
       "      <th>min</th>\n",
       "      <td>0.00000</td>\n",
       "      <td>1.00000</td>\n",
       "      <td>0.00000</td>\n",
       "      <td>283.00000</td>\n",
       "      <td>-28.90625</td>\n",
       "      <td>0.00000</td>\n",
       "      <td>-35.00000</td>\n",
       "      <td>-1.00000</td>\n",
       "      <td>968.00000</td>\n",
       "      <td>0.00000</td>\n",
       "      <td>0.00000</td>\n",
       "    </tr>\n",
       "    <tr>\n",
       "      <th>25%</th>\n",
       "      <td>0.00000</td>\n",
       "      <td>31.10000</td>\n",
       "      <td>3.00000</td>\n",
       "      <td>32841.00000</td>\n",
       "      <td>8.79688</td>\n",
       "      <td>0.00000</td>\n",
       "      <td>0.60010</td>\n",
       "      <td>0.00000</td>\n",
       "      <td>1011.50000</td>\n",
       "      <td>70.00000</td>\n",
       "      <td>2.09961</td>\n",
       "    </tr>\n",
       "    <tr>\n",
       "      <th>50%</th>\n",
       "      <td>0.00000</td>\n",
       "      <td>97.00000</td>\n",
       "      <td>9.00000</td>\n",
       "      <td>72958.00000</td>\n",
       "      <td>16.70312</td>\n",
       "      <td>0.00000</td>\n",
       "      <td>8.89844</td>\n",
       "      <td>0.00000</td>\n",
       "      <td>1016.00000</td>\n",
       "      <td>180.00000</td>\n",
       "      <td>3.09961</td>\n",
       "    </tr>\n",
       "    <tr>\n",
       "      <th>75%</th>\n",
       "      <td>1.00000</td>\n",
       "      <td>301.21301</td>\n",
       "      <td>13.00000</td>\n",
       "      <td>141461.00000</td>\n",
       "      <td>24.40625</td>\n",
       "      <td>4.00000</td>\n",
       "      <td>16.09375</td>\n",
       "      <td>0.00000</td>\n",
       "      <td>1020.50000</td>\n",
       "      <td>280.00000</td>\n",
       "      <td>4.60156</td>\n",
       "    </tr>\n",
       "    <tr>\n",
       "      <th>max</th>\n",
       "      <td>3.00000</td>\n",
       "      <td>21904700.00000</td>\n",
       "      <td>15.00000</td>\n",
       "      <td>875000.00000</td>\n",
       "      <td>47.18750</td>\n",
       "      <td>9.00000</td>\n",
       "      <td>26.09375</td>\n",
       "      <td>343.00000</td>\n",
       "      <td>1046.00000</td>\n",
       "      <td>360.00000</td>\n",
       "      <td>19.00000</td>\n",
       "    </tr>\n",
       "  </tbody>\n",
       "</table>\n",
       "</div>"
      ],
      "text/plain": [
       "                meter   meter_reading         site_id     square_feet   \n",
       "count  18001908.00000  18001908.00000  18001908.00000  18001908.00000  \\\n",
       "mean          0.59881      2369.43115         8.04671    108504.92186   \n",
       "std           0.89191    162384.39062         5.05777    117355.76407   \n",
       "min           0.00000         1.00000         0.00000       283.00000   \n",
       "25%           0.00000        31.10000         3.00000     32841.00000   \n",
       "50%           0.00000        97.00000         9.00000     72958.00000   \n",
       "75%           1.00000       301.21301        13.00000    141461.00000   \n",
       "max           3.00000  21904700.00000        15.00000    875000.00000   \n",
       "\n",
       "      air_temperature  cloud_coverage dew_temperature precip_depth_1_hr   \n",
       "count  17913634.00000  10184178.00000  17910569.00000    14552444.00000  \\\n",
       "mean              nan             nan             nan               nan   \n",
       "std           0.00000         0.00000         0.00000               nan   \n",
       "min         -28.90625         0.00000       -35.00000          -1.00000   \n",
       "25%           8.79688         0.00000         0.60010           0.00000   \n",
       "50%          16.70312         0.00000         8.89844           0.00000   \n",
       "75%          24.40625         4.00000        16.09375           0.00000   \n",
       "max          47.18750         9.00000        26.09375         343.00000   \n",
       "\n",
       "      sea_level_pressure  wind_direction      wind_speed  \n",
       "count     16847344.00000  16687585.00000  17870802.00000  \n",
       "mean                 nan             nan             nan  \n",
       "std                  nan             nan         0.00000  \n",
       "min            968.00000         0.00000         0.00000  \n",
       "25%           1011.50000        70.00000         2.09961  \n",
       "50%           1016.00000       180.00000         3.09961  \n",
       "75%           1020.50000       280.00000         4.60156  \n",
       "max           1046.00000       360.00000        19.00000  "
      ]
     },
     "execution_count": 27,
     "metadata": {},
     "output_type": "execute_result"
    }
   ],
   "source": [
    "# Check Desrciptive Stats after dropping  meter readings equal to 0 \n",
    "temp_df.describe()  "
   ]
  },
  {
   "cell_type": "markdown",
   "id": "2c5216d9-d9cb-4491-a157-b7848fb5cfa5",
   "metadata": {},
   "source": [
    "#\n",
    "\n",
    "Also, EDA shows that `precip_depth_1_hr` has many values that are equal to 0.00000 and -according to decriptive stattistics above, all are within Q1 and Q3, this is a large proportion. Moreover, the show relationship with energy consumption is very minimal.\n",
    "\n",
    "In terms of size:"
   ]
  },
  {
   "cell_type": "code",
   "execution_count": 28,
   "id": "1452199b-998f-4e4a-95c7-adf1ef6b4cfe",
   "metadata": {},
   "outputs": [
    {
     "name": "stdout",
     "output_type": "stream",
     "text": [
      "precip_depth_1_hr    12816268\n",
      "dtype: int64  rows where precipitation depth is equal to 0\n",
      "This is  precip_depth_1_hr    71.19\n",
      "dtype: float64  of the total size of the dataset\n"
     ]
    }
   ],
   "source": [
    "#Subset data\n",
    "precip_zero_count = temp_df.loc[temp_df['precip_depth_1_hr'] == 0.00000, ['precip_depth_1_hr']].count()\n",
    "pct_tempdf = round(precip_zero_count/len(temp_df)*100, 2)\n",
    "\n",
    "print(precip_zero_count, ' rows where precipitation depth is equal to 0' )\n",
    "print('This is ', pct_tempdf, ' of the total size of the dataset')"
   ]
  },
  {
   "cell_type": "markdown",
   "id": "db23d4d7-8a2b-4079-be33-4dae5db1f4ec",
   "metadata": {},
   "source": [
    "Looks like 0.00 values in `precip_depth_1_hr` represent ~71% of teh size in rows of `temp_df`, so this feature will be dropped."
   ]
  },
  {
   "cell_type": "code",
   "execution_count": 29,
   "id": "e5948795-f41a-4f17-ab1e-20d4bbd10009",
   "metadata": {},
   "outputs": [
    {
     "name": "stdout",
     "output_type": "stream",
     "text": [
      "\n",
      "\n",
      "% of total rows where hourly precipitation differs from 0:  9.64 %\n",
      "% of total rows where hourly precipitation is NaN:          19.16 %\n",
      "\n",
      "\n"
     ]
    }
   ],
   "source": [
    "#Size per site where the hourly precipitation is different from 0\n",
    "\n",
    "precip_zero_count_per_site = pd.DataFrame(temp_df.loc[~(temp_df['precip_depth_1_hr'] == 0.00000), ['site_id', 'precip_depth_1_hr']].groupby('site_id').count())\n",
    "precip_zero_count_per_site.reset_index(inplace=True)\n",
    "#precip_zero_count_per_site\n",
    "\n",
    "precip_zero_count_per_site['% total rows'] = round(precip_zero_count_per_site['precip_depth_1_hr']/ len(temp_df)*100, 2)\n",
    "#print(precip_zero_count_per_site)\n",
    "\n",
    "print('\\n')\n",
    "print('% of total rows where hourly precipitation differs from 0: ', round(precip_zero_count_per_site['% total rows'].sum(), 2), '%')\n",
    "\n",
    "# Missing values:\n",
    "print('% of total rows where hourly precipitation is NaN:         ', round(temp_df['precip_depth_1_hr'].isna().sum()/len(temp_df)*100, 2), '%')\n",
    "print('\\n')"
   ]
  },
  {
   "cell_type": "markdown",
   "id": "962bdf42-e3ad-4de3-ba9b-9ba8d16a5188",
   "metadata": {},
   "source": [
    "Checking covariance matrix with to look for significant correlations with other weather variables:"
   ]
  },
  {
   "cell_type": "code",
   "execution_count": 30,
   "id": "96046926-1f87-4d9e-99af-c8eae43c24c4",
   "metadata": {},
   "outputs": [
    {
     "data": {
      "text/plain": [
       "Text(0.5, 1.0, 'Correlation Matrix: Weather variables vs Meter Reading')"
      ]
     },
     "execution_count": 30,
     "metadata": {},
     "output_type": "execute_result"
    },
    {
     "data": {
      "image/png": "[encoded data removed]",
      "text/plain": [
       "<Figure size 800x400 with 2 Axes>"
      ]
     },
     "metadata": {},
     "output_type": "display_data"
    }
   ],
   "source": [
    "# Looking at correlation weather variables against meter reading\n",
    "\n",
    "# Subset to get only the columns I want to visualise\n",
    "subset_df = temp_df[['meter_reading', 'air_temperature',\n",
    "                      'cloud_coverage', 'dew_temperature',\n",
    "                      'precip_depth_1_hr', 'sea_level_pressure',\n",
    "                      'wind_direction', 'wind_speed']]\n",
    "\n",
    "# Compute the correlation matrix\n",
    "corr = subset_df.corr()\n",
    "\n",
    "#Set Style and DFigure\n",
    "sns.set_theme(style=\"white\", palette=\"pastel\")\n",
    "fig, ax = plt.subplots(figsize=(8, 4))\n",
    "\n",
    "# Draw the heatmap with the mask and correct aspect ratio\n",
    "sns.heatmap(corr, annot=True, vmin=-1, vmax=1, cmap=\"YlGnBu\")\n",
    "plt.title('Correlation Matrix: Weather variables vs Meter Reading',\n",
    "          fontdict={'fontsize':12})"
   ]
  },
  {
   "cell_type": "markdown",
   "id": "3e34e6dc-0b22-418b-b7d1-29ed91568f3a",
   "metadata": {},
   "source": [
    "##\n",
    "\n",
    "\n",
    "#### Quick EDA on site 13"
   ]
  },
  {
   "cell_type": "markdown",
   "id": "EHkFMlTW0ujl",
   "metadata": {
    "id": "EHkFMlTW0ujl"
   },
   "source": [
    "Also, the EDA shows that the largest meter readings correspond to site 13. This is likely responsible for the most influencing outliers and are skewing the data. "
   ]
  },
  {
   "cell_type": "code",
   "execution_count": 33,
   "id": "a69be46a-24c1-4c2c-b50c-21927b855e68",
   "metadata": {
    "colab": {
     "base_uri": "https://localhost:8080/"
    },
    "executionInfo": {
     "elapsed": 337,
     "status": "ok",
     "timestamp": 1710720010943,
     "user": {
      "displayName": "Vanessa Coudert Mendez-Salvatierra",
      "userId": "02740837187322984622"
     },
     "user_tz": 0
    },
    "id": "a69be46a-24c1-4c2c-b50c-21927b855e68",
    "outputId": "4f5d957f-7aed-4ed4-e756-e662524609e5"
   },
   "outputs": [
    {
     "name": "stdout",
     "output_type": "stream",
     "text": [
      "\n",
      "\n",
      "Meter Reading Stats for site 13:\n",
      "\n",
      "\n",
      "count     2370344.00\n",
      "mean        15572.84\n",
      "std        447157.75\n",
      "min             1.00\n",
      "25%            49.42\n",
      "50%           163.22\n",
      "75%           710.93\n",
      "max      21904700.00\n",
      "Name: meter_reading, dtype: float64\n",
      "\n",
      "\n",
      "site 13 represents  13.16718  % of dataset size (in rows)\n",
      "\n",
      "\n"
     ]
    }
   ],
   "source": [
    "# Stats and % of observations for site 13\n",
    "site_13 = temp_df.loc[temp_df['site_id'] == 13]\n",
    "\n",
    "print('\\n')\n",
    "print('Meter Reading Stats for site 13:')\n",
    "print('\\n')\n",
    "print(round(site_13['meter_reading'].describe(), 2))\n",
    "print('\\n')\n",
    "site13_pct = round((len(site_13)/len(temp_df)*100), 5)\n",
    "print('site 13 represents ', site13_pct, ' % of dataset size (in rows)')\n",
    "print('\\n')"
   ]
  },
  {
   "cell_type": "code",
   "execution_count": 34,
   "id": "59675117-6578-469a-98c7-003c9aa39fe4",
   "metadata": {},
   "outputs": [
    {
     "name": "stdout",
     "output_type": "stream",
     "text": [
      "\n",
      "\n",
      "Consumption's IQR:  661.5107421875\n"
     ]
    }
   ],
   "source": [
    "# Check the IQR for site 13's meter reading\n",
    "from scipy.stats import iqr\n",
    "site13_iqr = iqr(site_13['meter_reading'])\n",
    "print('\\n')\n",
    "print(\"Consumption's IQR: \", site13_iqr)\n",
    "\n",
    "# I'll also get both Q1 and Q3 for site 13\n",
    "Q1_S13 = site_13['meter_reading'].quantile(0.25)\n",
    "Q3_S13 = site_13['meter_reading'].quantile(0.75)"
   ]
  },
  {
   "cell_type": "markdown",
   "id": "9ac12287-e081-4fe8-8c15-c579ecc0925e",
   "metadata": {},
   "source": [
    "####\n",
    "\n",
    "Quick look at the outliers of consumption in `temp_df`: Looks like there are lots of them and, looking at the x-axis range, looks like they might come from site 13..."
   ]
  },
  {
   "cell_type": "code",
   "execution_count": 35,
   "id": "hRqlnUk2jPVi",
   "metadata": {
    "colab": {
     "base_uri": "https://localhost:8080/",
     "height": 490
    },
    "executionInfo": {
     "elapsed": 33779,
     "status": "ok",
     "timestamp": 1710720046989,
     "user": {
      "displayName": "Vanessa Coudert Mendez-Salvatierra",
      "userId": "02740837187322984622"
     },
     "user_tz": 0
    },
    "id": "hRqlnUk2jPVi",
    "outputId": "cf2cd39a-1626-458c-a04b-6f39c655e2f4"
   },
   "outputs": [
    {
     "data": {
      "text/plain": [
       "Text(0.5, 1.0, 'temp_df - meter reading')"
      ]
     },
     "execution_count": 35,
     "metadata": {},
     "output_type": "execute_result"
    },
    {
     "data": {
      "image/png": "[encoded data removed]",
      "text/plain": [
       "<Figure size 640x480 with 1 Axes>"
      ]
     },
     "metadata": {},
     "output_type": "display_data"
    }
   ],
   "source": [
    "# Boxplot\n",
    "sns.boxplot(data=temp_df, x=\"meter_reading\").set_title ('temp_df - meter reading')"
   ]
  },
  {
   "cell_type": "markdown",
   "id": "4ca7e09e-048e-4d2c-82d7-9dc56b0c36de",
   "metadata": {},
   "source": [
    "#####\n",
    "KDE Plots for energy consumption after log-transformation"
   ]
  },
  {
   "cell_type": "code",
   "execution_count": 36,
   "id": "a1ad610d-96ee-4698-b166-82ad5e211c42",
   "metadata": {},
   "outputs": [],
   "source": [
    "# Log10 transformtion for right skewed data\n",
    "log_trans = np.log10(temp_df['meter_reading'])"
   ]
  },
  {
   "cell_type": "code",
   "execution_count": 37,
   "id": "2c3c4ad5-5d2a-4890-a455-b38fd18d32c6",
   "metadata": {},
   "outputs": [
    {
     "data": {
      "text/plain": [
       "<seaborn.axisgrid.FacetGrid at 0x256d9bfac10>"
      ]
     },
     "execution_count": 37,
     "metadata": {},
     "output_type": "execute_result"
    },
    {
     "data": {
      "image/png": "[encoded data removed]",
      "text/plain": [
       "<Figure size 500x500 with 1 Axes>"
      ]
     },
     "metadata": {},
     "output_type": "display_data"
    }
   ],
   "source": [
    "# Plot the log-transformed consumption\n",
    "sns.displot(log_trans, kde=True)"
   ]
  },
  {
   "cell_type": "markdown",
   "id": "28040230-540c-410c-be7e-e0044194435e",
   "metadata": {},
   "source": [
    "Looks like the distribution is log-normal...\n",
    "\n",
    "####"
   ]
  },
  {
   "cell_type": "code",
   "execution_count": 38,
   "id": "054a6053-81b4-4516-a91d-7eae84c54b4b",
   "metadata": {},
   "outputs": [
    {
     "data": {
      "text/plain": [
       "<Axes: xlabel='meter_reading'>"
      ]
     },
     "execution_count": 38,
     "metadata": {},
     "output_type": "execute_result"
    },
    {
     "data": {
      "image/png": "[encoded data removed]",
      "text/plain": [
       "<Figure size 640x480 with 1 Axes>"
      ]
     },
     "metadata": {},
     "output_type": "display_data"
    }
   ],
   "source": [
    "# Check boxplot for the transformed data\n",
    "sns.boxplot(x=log_trans, orient='h')"
   ]
  },
  {
   "cell_type": "markdown",
   "id": "9f195e7c-f9a1-485c-be95-8d75a1146afb",
   "metadata": {},
   "source": [
    "Looks like there are still outliers in `meter_reading` after the log transformation, but the distribution looks more symmetric."
   ]
  },
  {
   "cell_type": "markdown",
   "id": "II0Gupm7sCqQ",
   "metadata": {
    "id": "II0Gupm7sCqQ"
   },
   "source": [
    "##\n",
    "\n",
    "Box plot for meter readings in site 13"
   ]
  },
  {
   "cell_type": "code",
   "execution_count": 39,
   "id": "m-poYgh9j_sn",
   "metadata": {
    "colab": {
     "base_uri": "https://localhost:8080/",
     "height": 143
    },
    "executionInfo": {
     "elapsed": 28,
     "status": "ok",
     "timestamp": 1710720046990,
     "user": {
      "displayName": "Vanessa Coudert Mendez-Salvatierra",
      "userId": "02740837187322984622"
     },
     "user_tz": 0
    },
    "id": "m-poYgh9j_sn",
    "outputId": "0b187808-3583-497f-bc86-72a904f9d19f"
   },
   "outputs": [
    {
     "data": {
      "text/html": [
       "<div>\n",
       "<style scoped>\n",
       "    .dataframe tbody tr th:only-of-type {\n",
       "        vertical-align: middle;\n",
       "    }\n",
       "\n",
       "    .dataframe tbody tr th {\n",
       "        vertical-align: top;\n",
       "    }\n",
       "\n",
       "    .dataframe thead th {\n",
       "        text-align: right;\n",
       "    }\n",
       "</style>\n",
       "<table border=\"1\" class=\"dataframe\">\n",
       "  <thead>\n",
       "    <tr style=\"text-align: right;\">\n",
       "      <th></th>\n",
       "      <th>meter</th>\n",
       "      <th>timestamp</th>\n",
       "      <th>meter_reading</th>\n",
       "      <th>site_id</th>\n",
       "      <th>primary_use</th>\n",
       "      <th>square_feet</th>\n",
       "    </tr>\n",
       "  </thead>\n",
       "  <tbody>\n",
       "    <tr>\n",
       "      <th>20215562</th>\n",
       "      <td>2</td>\n",
       "      <td>2016-12-31 23:00:00</td>\n",
       "      <td>5421.879883</td>\n",
       "      <td>13</td>\n",
       "      <td>Public services</td>\n",
       "      <td>381221</td>\n",
       "    </tr>\n",
       "    <tr>\n",
       "      <th>20215563</th>\n",
       "      <td>0</td>\n",
       "      <td>2016-12-31 23:00:00</td>\n",
       "      <td>8.000000</td>\n",
       "      <td>13</td>\n",
       "      <td>Office</td>\n",
       "      <td>29062</td>\n",
       "    </tr>\n",
       "    <tr>\n",
       "      <th>20215564</th>\n",
       "      <td>0</td>\n",
       "      <td>2016-12-31 23:00:00</td>\n",
       "      <td>338.122009</td>\n",
       "      <td>13</td>\n",
       "      <td>Lodging/residential</td>\n",
       "      <td>187174</td>\n",
       "    </tr>\n",
       "  </tbody>\n",
       "</table>\n",
       "</div>"
      ],
      "text/plain": [
       "          meter            timestamp  meter_reading  site_id   \n",
       "20215562      2  2016-12-31 23:00:00    5421.879883       13  \\\n",
       "20215563      0  2016-12-31 23:00:00       8.000000       13   \n",
       "20215564      0  2016-12-31 23:00:00     338.122009       13   \n",
       "\n",
       "                  primary_use  square_feet  \n",
       "20215562      Public services       381221  \n",
       "20215563               Office        29062  \n",
       "20215564  Lodging/residential       187174  "
      ]
     },
     "execution_count": 39,
     "metadata": {},
     "output_type": "execute_result"
    }
   ],
   "source": [
    "# Subset for site 13 data\n",
    "meter_reading_site13 = temp_df.loc[temp_df['site_id'] == 13, temp_df.columns[0:6]]\n",
    "meter_reading_site13.tail(3)"
   ]
  },
  {
   "cell_type": "code",
   "execution_count": 40,
   "id": "f6b92e22-7b14-46b7-8089-c96754b5cca5",
   "metadata": {},
   "outputs": [
    {
     "data": {
      "text/plain": [
       "Text(0.5, 1.0, 'meter reading distribution for Site 13')"
      ]
     },
     "execution_count": 40,
     "metadata": {},
     "output_type": "execute_result"
    },
    {
     "data": {
      "image/png": "[encoded data removed]",
      "text/plain": [
       "<Figure size 640x480 with 1 Axes>"
      ]
     },
     "metadata": {},
     "output_type": "display_data"
    }
   ],
   "source": [
    "# Meter reading boxplot - site 13\n",
    "sns.boxplot(data=meter_reading_site13,\n",
    "            x=\"meter_reading\").set_title('meter reading distribution for Site 13')"
   ]
  },
  {
   "cell_type": "code",
   "execution_count": 41,
   "id": "a6a05c6e-2a48-494b-a1b5-37ff62364031",
   "metadata": {},
   "outputs": [
    {
     "data": {
      "text/plain": [
       "<seaborn.axisgrid.FacetGrid at 0x257303e3c90>"
      ]
     },
     "execution_count": 41,
     "metadata": {},
     "output_type": "execute_result"
    },
    {
     "data": {
      "image/png": "[encoded data removed]",
      "text/plain": [
       "<Figure size 500x500 with 1 Axes>"
      ]
     },
     "metadata": {},
     "output_type": "display_data"
    }
   ],
   "source": [
    "# Distribution of meter reading in site 13\n",
    "sns.displot(data=meter_reading_site13,\n",
    "            x=\"meter_reading\",\n",
    "            kind='kde')"
   ]
  },
  {
   "cell_type": "code",
   "execution_count": 42,
   "id": "me7h50Omr_yp",
   "metadata": {
    "colab": {
     "base_uri": "https://localhost:8080/",
     "height": 472
    },
    "executionInfo": {
     "elapsed": 3723,
     "status": "ok",
     "timestamp": 1710720050688,
     "user": {
      "displayName": "Vanessa Coudert Mendez-Salvatierra",
      "userId": "02740837187322984622"
     },
     "user_tz": 0
    },
    "id": "me7h50Omr_yp",
    "outputId": "f162fcf0-b025-4feb-f6b0-54464602a481"
   },
   "outputs": [
    {
     "data": {
      "image/png": "[encoded data removed]",
      "text/plain": [
       "<Figure size 640x480 with 1 Axes>"
      ]
     },
     "metadata": {},
     "output_type": "display_data"
    }
   ],
   "source": [
    "# Boxplot for site 13 energy comsumption by primary use\n",
    "sns.boxplot(data=meter_reading_site13,\n",
    "            x=\"meter_reading\",\n",
    "            y=\"primary_use\").set_title('Site 13 - consummption by primary use')\n",
    "plt.show()"
   ]
  },
  {
   "cell_type": "code",
   "execution_count": 43,
   "id": "ec37e20f-c4ab-4904-b227-e16ab4126cb1",
   "metadata": {},
   "outputs": [
    {
     "data": {
      "text/html": [
       "<div>\n",
       "<style scoped>\n",
       "    .dataframe tbody tr th:only-of-type {\n",
       "        vertical-align: middle;\n",
       "    }\n",
       "\n",
       "    .dataframe tbody tr th {\n",
       "        vertical-align: top;\n",
       "    }\n",
       "\n",
       "    .dataframe thead th {\n",
       "        text-align: right;\n",
       "    }\n",
       "</style>\n",
       "<table border=\"1\" class=\"dataframe\">\n",
       "  <thead>\n",
       "    <tr style=\"text-align: right;\">\n",
       "      <th></th>\n",
       "      <th>0</th>\n",
       "      <th>1</th>\n",
       "    </tr>\n",
       "    <tr>\n",
       "      <th>primary_use</th>\n",
       "      <th></th>\n",
       "      <th></th>\n",
       "    </tr>\n",
       "  </thead>\n",
       "  <tbody>\n",
       "    <tr>\n",
       "      <th>Education</th>\n",
       "      <td>446573</td>\n",
       "      <td>18.840008</td>\n",
       "    </tr>\n",
       "    <tr>\n",
       "      <th>Entertainment/public assembly</th>\n",
       "      <td>109321</td>\n",
       "      <td>4.612031</td>\n",
       "    </tr>\n",
       "    <tr>\n",
       "      <th>Food sales and service</th>\n",
       "      <td>17568</td>\n",
       "      <td>0.741158</td>\n",
       "    </tr>\n",
       "    <tr>\n",
       "      <th>Healthcare</th>\n",
       "      <td>57073</td>\n",
       "      <td>2.407794</td>\n",
       "    </tr>\n",
       "    <tr>\n",
       "      <th>Lodging/residential</th>\n",
       "      <td>164251</td>\n",
       "      <td>6.929416</td>\n",
       "    </tr>\n",
       "    <tr>\n",
       "      <th>Manufacturing/industrial</th>\n",
       "      <td>69365</td>\n",
       "      <td>2.926368</td>\n",
       "    </tr>\n",
       "    <tr>\n",
       "      <th>Office</th>\n",
       "      <td>1190599</td>\n",
       "      <td>50.228954</td>\n",
       "    </tr>\n",
       "    <tr>\n",
       "      <th>Other</th>\n",
       "      <td>34957</td>\n",
       "      <td>1.474765</td>\n",
       "    </tr>\n",
       "    <tr>\n",
       "      <th>Parking</th>\n",
       "      <td>87487</td>\n",
       "      <td>3.690899</td>\n",
       "    </tr>\n",
       "    <tr>\n",
       "      <th>Public services</th>\n",
       "      <td>107579</td>\n",
       "      <td>4.538540</td>\n",
       "    </tr>\n",
       "    <tr>\n",
       "      <th>Religious worship</th>\n",
       "      <td>0</td>\n",
       "      <td>0.000000</td>\n",
       "    </tr>\n",
       "    <tr>\n",
       "      <th>Retail</th>\n",
       "      <td>0</td>\n",
       "      <td>0.000000</td>\n",
       "    </tr>\n",
       "    <tr>\n",
       "      <th>Services</th>\n",
       "      <td>49336</td>\n",
       "      <td>2.081386</td>\n",
       "    </tr>\n",
       "    <tr>\n",
       "      <th>Technology/science</th>\n",
       "      <td>8312</td>\n",
       "      <td>0.350666</td>\n",
       "    </tr>\n",
       "    <tr>\n",
       "      <th>Utility</th>\n",
       "      <td>0</td>\n",
       "      <td>0.000000</td>\n",
       "    </tr>\n",
       "    <tr>\n",
       "      <th>Warehouse/storage</th>\n",
       "      <td>27923</td>\n",
       "      <td>1.178015</td>\n",
       "    </tr>\n",
       "  </tbody>\n",
       "</table>\n",
       "</div>"
      ],
      "text/plain": [
       "                                     0          1\n",
       "primary_use                                      \n",
       "Education                       446573  18.840008\n",
       "Entertainment/public assembly   109321   4.612031\n",
       "Food sales and service           17568   0.741158\n",
       "Healthcare                       57073   2.407794\n",
       "Lodging/residential             164251   6.929416\n",
       "Manufacturing/industrial         69365   2.926368\n",
       "Office                         1190599  50.228954\n",
       "Other                            34957   1.474765\n",
       "Parking                          87487   3.690899\n",
       "Public services                 107579   4.538540\n",
       "Religious worship                    0   0.000000\n",
       "Retail                               0   0.000000\n",
       "Services                         49336   2.081386\n",
       "Technology/science                8312   0.350666\n",
       "Utility                              0   0.000000\n",
       "Warehouse/storage                27923   1.178015"
      ]
     },
     "execution_count": 43,
     "metadata": {},
     "output_type": "execute_result"
    }
   ],
   "source": [
    "# Size and % for each of primary use in site_13\n",
    "\n",
    "# Get size and %\n",
    "s13_size_by_primary_use = site_13.groupby('primary_use').size()\n",
    "s13_pct_by_primary_use = site_13.groupby('primary_use').size()/len(site_13)*100\n",
    "\n",
    "# Concatenating\n",
    "s13_size_and_pct = pd.concat([s13_size_by_primary_use, s13_pct_by_primary_use], axis=1)\n",
    "s13_size_and_pct"
   ]
  },
  {
   "cell_type": "markdown",
   "id": "1c859b21-23fb-4385-9b02-b29c3270fab5",
   "metadata": {},
   "source": [
    "Maybe removing the rows Education might help even out teh data, since they are just too huge\n",
    "\n",
    "###"
   ]
  },
  {
   "cell_type": "code",
   "execution_count": 44,
   "id": "ikh-D5nt6ka3",
   "metadata": {
    "colab": {
     "base_uri": "https://localhost:8080/",
     "height": 490
    },
    "executionInfo": {
     "elapsed": 3587,
     "status": "ok",
     "timestamp": 1710720054270,
     "user": {
      "displayName": "Vanessa Coudert Mendez-Salvatierra",
      "userId": "02740837187322984622"
     },
     "user_tz": 0
    },
    "id": "ikh-D5nt6ka3",
    "outputId": "944de8b9-46ec-4d2f-ecd8-14dd537a42b1"
   },
   "outputs": [
    {
     "name": "stdout",
     "output_type": "stream",
     "text": [
      "['Office', 'Lodging/residential', 'Entertainment/public assembly', 'Manufacturing/industrial', 'Parking', ..., 'Food sales and service', 'Services', 'Warehouse/storage', 'Healthcare', 'Technology/science']\n",
      "Length: 12\n",
      "Categories (16, object): ['Education', 'Entertainment/public assembly', 'Food sales and service', 'Healthcare', ..., 'Services', 'Technology/science', 'Utility', 'Warehouse/storage']\n"
     ]
    }
   ],
   "source": [
    "# Subset for site 13 data\n",
    "meter_reading_site13_2 = temp_df.loc[(temp_df['site_id'] == 13) & (temp_df['primary_use'] != 'Education'), temp_df.columns[0:6]]\n",
    "\n",
    "print(meter_reading_site13_2['primary_use'].unique())"
   ]
  },
  {
   "cell_type": "code",
   "execution_count": 45,
   "id": "YvfVvjy1r_jC",
   "metadata": {
    "colab": {
     "base_uri": "https://localhost:8080/",
     "height": 524
    },
    "executionInfo": {
     "elapsed": 8744,
     "status": "ok",
     "timestamp": 1710720063010,
     "user": {
      "displayName": "Vanessa Coudert Mendez-Salvatierra",
      "userId": "02740837187322984622"
     },
     "user_tz": 0
    },
    "id": "YvfVvjy1r_jC",
    "outputId": "844cc843-ded1-4876-8574-ab467ab051f1"
   },
   "outputs": [
    {
     "data": {
      "text/plain": [
       "Text(0.5, 1.0, 'meter reading distribution for Site 13')"
      ]
     },
     "execution_count": 45,
     "metadata": {},
     "output_type": "execute_result"
    },
    {
     "data": {
      "image/png": "[encoded data removed]",
      "text/plain": [
       "<Figure size 640x480 with 1 Axes>"
      ]
     },
     "metadata": {},
     "output_type": "display_data"
    }
   ],
   "source": [
    "# Looking at the distributions again, for site 13\n",
    "\n",
    "# Meter reading boxplot - site 13\n",
    "sns.boxplot(data=meter_reading_site13_2,\n",
    "            x=\"meter_reading\").set_title('meter reading distribution for Site 13')"
   ]
  },
  {
   "cell_type": "markdown",
   "id": "b7064746-f752-461d-8f9f-a79b507f034b",
   "metadata": {},
   "source": [
    "Looks like removing Education didn't help, so we might have to remove size 13 altogether."
   ]
  },
  {
   "cell_type": "markdown",
   "id": "d16a9de5-3db8-419f-bc53-d49eae2e8f0f",
   "metadata": {},
   "source": [
    "###\n",
    "Before removing site 13, check its IQR and its size"
   ]
  },
  {
   "cell_type": "code",
   "execution_count": 46,
   "id": "157a4cff-76b4-4ba0-a2eb-68ae23738c49",
   "metadata": {},
   "outputs": [
    {
     "name": "stdout",
     "output_type": "stream",
     "text": [
      "\n",
      "\n",
      "No. of rows where consumption for site 13 is outside its IQR: 2049144 rows\n",
      "As a % of whole training set: 11 %\n",
      "As a % of site 13 subset: 86.45 %\n",
      "\n",
      "\n"
     ]
    }
   ],
   "source": [
    "# Find number of rows where consumption for site 13 is outside site 13's IQR\n",
    "iqr_reading_building2=site_13.loc[~((site_13['meter_reading'] < (Q1_S13 - 1.5 * site13_iqr)) |(site_13['meter_reading'] > (Q3_S13 + 1.5 * site13_iqr)))]\n",
    "pct_of_tempdf = len(iqr_reading_building2)/len(temp_df)*100\n",
    "\n",
    "#~((temp_df['meter_reading'] < (Q1 - 1.5 * IQR)) |(temp_df['meter_reading'] > (Q3 + 1.5 * IQR)))\n",
    "\n",
    "print('\\n')\n",
    "print('No. of rows where consumption for site 13 is outside its IQR:', len(iqr_reading_building2), 'rows')\n",
    "print('As a % of whole training set:', round(pct_of_tempdf), '%')\n",
    "print('As a % of site 13 subset:', round(len(iqr_reading_building2)/len(site_13)*100, 2), '%')\n",
    "print('\\n') "
   ]
  },
  {
   "cell_type": "code",
   "execution_count": 47,
   "id": "2007ac64-cf58-4bed-be9d-99b997611ba0",
   "metadata": {},
   "outputs": [],
   "source": [
    "# Drop rows for site_13 where consumption is outside its IQR, to see how the data for this site looks like\n",
    "site_13_2 = site_13.loc[~((site_13['meter_reading'] < (Q1_S13 - 1.5 * site13_iqr)) |(site_13['meter_reading'] > (Q3_S13 + 1.5 * site13_iqr)))]"
   ]
  },
  {
   "cell_type": "code",
   "execution_count": 48,
   "id": "d9667618-9b1f-46b0-bb35-fa29dbf7c550",
   "metadata": {},
   "outputs": [
    {
     "name": "stdout",
     "output_type": "stream",
     "text": [
      "\n",
      "\n",
      "Meter Reading Stats for site 13 after dropping rows based on site 13s IQR:\n",
      "\n",
      "\n",
      "count    2049144.00\n",
      "mean         282.29\n",
      "std          370.10\n",
      "min            1.00\n",
      "25%           40.44\n",
      "50%          121.94\n",
      "75%          362.57\n",
      "max         1703.19\n",
      "Name: meter_reading, dtype: float64\n"
     ]
    }
   ],
   "source": [
    "# Check descriptive stats for site 13 again \n",
    "print('\\n')\n",
    "print('Meter Reading Stats for site 13 after dropping rows based on site 13s IQR:')\n",
    "print('\\n')\n",
    "print(round(site_13_2['meter_reading'].describe(), 2)) # Round to display just 2 decimal places"
   ]
  },
  {
   "cell_type": "code",
   "execution_count": 49,
   "id": "d9e43424-24cd-431d-b14c-38db8be5506f",
   "metadata": {},
   "outputs": [
    {
     "name": "stdout",
     "output_type": "stream",
     "text": [
      "count    18001908.00\n",
      "mean         2369.43\n",
      "std        162384.39\n",
      "min             1.00\n",
      "25%            31.10\n",
      "50%            97.00\n",
      "75%           301.21\n",
      "max      21904700.00\n",
      "Name: meter_reading, dtype: float64\n"
     ]
    }
   ],
   "source": [
    "# Check descriptive stats again for temp_df['meter_reading'] in here (so as to not scroll all teh way up again)\n",
    "print(round(temp_df['meter_reading'].describe(), 2))"
   ]
  },
  {
   "cell_type": "markdown",
   "id": "tDzOP4h82AQa",
   "metadata": {
    "id": "tDzOP4h82AQa"
   },
   "source": [
    "#####\n",
    "\n",
    "### Looking at Rows per site"
   ]
  },
  {
   "cell_type": "code",
   "execution_count": 50,
   "id": "CkZvnfhhe1R5",
   "metadata": {
    "colab": {
     "base_uri": "https://localhost:8080/",
     "height": 215
    },
    "executionInfo": {
     "elapsed": 422,
     "status": "error",
     "timestamp": 1710721285955,
     "user": {
      "displayName": "Vanessa Coudert Mendez-Salvatierra",
      "userId": "02740837187322984622"
     },
     "user_tz": 0
    },
    "id": "CkZvnfhhe1R5",
    "outputId": "762d28db-47ec-4b9e-c3ff-561f8a25b0e0"
   },
   "outputs": [
    {
     "data": {
      "text/html": [
       "<div>\n",
       "<style scoped>\n",
       "    .dataframe tbody tr th:only-of-type {\n",
       "        vertical-align: middle;\n",
       "    }\n",
       "\n",
       "    .dataframe tbody tr th {\n",
       "        vertical-align: top;\n",
       "    }\n",
       "\n",
       "    .dataframe thead th {\n",
       "        text-align: right;\n",
       "    }\n",
       "</style>\n",
       "<table border=\"1\" class=\"dataframe\">\n",
       "  <thead>\n",
       "    <tr style=\"text-align: right;\">\n",
       "      <th></th>\n",
       "      <th>site_id</th>\n",
       "      <th>mean</th>\n",
       "      <th>size</th>\n",
       "      <th>%_size</th>\n",
       "    </tr>\n",
       "  </thead>\n",
       "  <tbody>\n",
       "    <tr>\n",
       "      <th>0</th>\n",
       "      <td>9</td>\n",
       "      <td>283.623169</td>\n",
       "      <td>2485144</td>\n",
       "      <td>13.80</td>\n",
       "    </tr>\n",
       "    <tr>\n",
       "      <th>1</th>\n",
       "      <td>13</td>\n",
       "      <td>15572.834961</td>\n",
       "      <td>2370344</td>\n",
       "      <td>13.17</td>\n",
       "    </tr>\n",
       "    <tr>\n",
       "      <th>2</th>\n",
       "      <td>3</td>\n",
       "      <td>128.065536</td>\n",
       "      <td>2330259</td>\n",
       "      <td>12.94</td>\n",
       "    </tr>\n",
       "    <tr>\n",
       "      <th>3</th>\n",
       "      <td>2</td>\n",
       "      <td>206.624573</td>\n",
       "      <td>2250604</td>\n",
       "      <td>12.50</td>\n",
       "    </tr>\n",
       "    <tr>\n",
       "      <th>4</th>\n",
       "      <td>14</td>\n",
       "      <td>758.255554</td>\n",
       "      <td>2177312</td>\n",
       "      <td>12.09</td>\n",
       "    </tr>\n",
       "    <tr>\n",
       "      <th>5</th>\n",
       "      <td>15</td>\n",
       "      <td>319.895111</td>\n",
       "      <td>1711108</td>\n",
       "      <td>9.51</td>\n",
       "    </tr>\n",
       "    <tr>\n",
       "      <th>6</th>\n",
       "      <td>5</td>\n",
       "      <td>32.762852</td>\n",
       "      <td>746626</td>\n",
       "      <td>4.15</td>\n",
       "    </tr>\n",
       "    <tr>\n",
       "      <th>7</th>\n",
       "      <td>0</td>\n",
       "      <td>630.218262</td>\n",
       "      <td>708548</td>\n",
       "      <td>3.94</td>\n",
       "    </tr>\n",
       "    <tr>\n",
       "      <th>8</th>\n",
       "      <td>4</td>\n",
       "      <td>193.616287</td>\n",
       "      <td>698340</td>\n",
       "      <td>3.88</td>\n",
       "    </tr>\n",
       "    <tr>\n",
       "      <th>9</th>\n",
       "      <td>6</td>\n",
       "      <td>1231.616943</td>\n",
       "      <td>537506</td>\n",
       "      <td>2.99</td>\n",
       "    </tr>\n",
       "    <tr>\n",
       "      <th>10</th>\n",
       "      <td>1</td>\n",
       "      <td>165.365356</td>\n",
       "      <td>500338</td>\n",
       "      <td>2.78</td>\n",
       "    </tr>\n",
       "    <tr>\n",
       "      <th>11</th>\n",
       "      <td>8</td>\n",
       "      <td>76.799911</td>\n",
       "      <td>485822</td>\n",
       "      <td>2.70</td>\n",
       "    </tr>\n",
       "    <tr>\n",
       "      <th>12</th>\n",
       "      <td>10</td>\n",
       "      <td>590.315735</td>\n",
       "      <td>323383</td>\n",
       "      <td>1.80</td>\n",
       "    </tr>\n",
       "    <tr>\n",
       "      <th>13</th>\n",
       "      <td>12</td>\n",
       "      <td>99.849953</td>\n",
       "      <td>313600</td>\n",
       "      <td>1.74</td>\n",
       "    </tr>\n",
       "    <tr>\n",
       "      <th>14</th>\n",
       "      <td>7</td>\n",
       "      <td>1632.578003</td>\n",
       "      <td>273435</td>\n",
       "      <td>1.52</td>\n",
       "    </tr>\n",
       "    <tr>\n",
       "      <th>15</th>\n",
       "      <td>11</td>\n",
       "      <td>199.201324</td>\n",
       "      <td>89539</td>\n",
       "      <td>0.50</td>\n",
       "    </tr>\n",
       "  </tbody>\n",
       "</table>\n",
       "</div>"
      ],
      "text/plain": [
       "    site_id          mean     size  %_size\n",
       "0         9    283.623169  2485144   13.80\n",
       "1        13  15572.834961  2370344   13.17\n",
       "2         3    128.065536  2330259   12.94\n",
       "3         2    206.624573  2250604   12.50\n",
       "4        14    758.255554  2177312   12.09\n",
       "5        15    319.895111  1711108    9.51\n",
       "6         5     32.762852   746626    4.15\n",
       "7         0    630.218262   708548    3.94\n",
       "8         4    193.616287   698340    3.88\n",
       "9         6   1231.616943   537506    2.99\n",
       "10        1    165.365356   500338    2.78\n",
       "11        8     76.799911   485822    2.70\n",
       "12       10    590.315735   323383    1.80\n",
       "13       12     99.849953   313600    1.74\n",
       "14        7   1632.578003   273435    1.52\n",
       "15       11    199.201324    89539    0.50"
      ]
     },
     "execution_count": 50,
     "metadata": {},
     "output_type": "execute_result"
    }
   ],
   "source": [
    "# number of rows for each average consumtion per site (after )\n",
    "avg_cons = temp_df.groupby('site_id')['meter_reading']\\\n",
    "                  .agg(['mean', 'size'])\\\n",
    "                  .sort_values('size', ascending=False)\n",
    "\n",
    "avg_cons.reset_index(inplace=True)\n",
    "\n",
    "# As a percentage of the whole dataset\n",
    "avg_cons['%_size'] = round(avg_cons['size']/len(temp_df)*100, 2)\n",
    "avg_cons"
   ]
  },
  {
   "cell_type": "markdown",
   "id": "bb03c3db-d8d1-4e4d-a00f-b00941c8eb86",
   "metadata": {},
   "source": [
    "Note that site_13 represents 13.04% of the whole training data"
   ]
  },
  {
   "cell_type": "code",
   "execution_count": 51,
   "id": "CCEtYJcCe1Kc",
   "metadata": {
    "colab": {
     "base_uri": "https://localhost:8080/"
    },
    "executionInfo": {
     "elapsed": 9,
     "status": "ok",
     "timestamp": 1710720063373,
     "user": {
      "displayName": "Vanessa Coudert Mendez-Salvatierra",
      "userId": "02740837187322984622"
     },
     "user_tz": 0
    },
    "id": "CCEtYJcCe1Kc",
    "outputId": "87953325-cd6a-45f2-c0de-9c86a24a7736"
   },
   "outputs": [
    {
     "name": "stdout",
     "output_type": "stream",
     "text": [
      "Sum of size:  18001908\n",
      "Length of temp_df:  18001908\n"
     ]
    }
   ],
   "source": [
    "# Check count of rows is correct and matches total\n",
    "print('Sum of size: ', avg_cons['size'].sum())\n",
    "print('Length of temp_df: ', len(temp_df))"
   ]
  },
  {
   "cell_type": "markdown",
   "id": "dbb4f7c1-4166-47f9-a2a1-89160205c8e0",
   "metadata": {},
   "source": [
    "####\n",
    "\n",
    "#### Removing rows for sites\n",
    ">I will remove the rows for site 13 though, based on teh quick EDA above, given its large variance and size in comparison with all other sites.\n",
    "> EDA also shows that both the hourly temperature and monthly comsumption profiles per site show irregular patterns for sites 8, 6 and 10, so these sites will be removed/dropped."
   ]
  },
  {
   "cell_type": "code",
   "execution_count": 52,
   "id": "e183e0e4-c04f-475e-9878-32679ce7f131",
   "metadata": {},
   "outputs": [],
   "source": [
    "# Remove site 13\n",
    "temp_df = temp_df.loc[~temp_df['site_id'].isin([13, 10, 8 ,6])]"
   ]
  },
  {
   "cell_type": "code",
   "execution_count": 53,
   "id": "6a0c0939-6289-4641-a38d-fc29f1f45b39",
   "metadata": {},
   "outputs": [
    {
     "data": {
      "text/plain": [
       "array([ 0,  1,  2,  3,  4,  5,  7, 11, 12, 14, 15,  9], dtype=int8)"
      ]
     },
     "execution_count": 53,
     "metadata": {},
     "output_type": "execute_result"
    }
   ],
   "source": [
    "# Check\n",
    "temp_df['site_id'].unique()"
   ]
  },
  {
   "cell_type": "code",
   "execution_count": 54,
   "id": "c9f2a459-0b39-4dbc-8a6b-3a0df23f68f2",
   "metadata": {},
   "outputs": [],
   "source": [
    "# Apply Log10 Transformation for right skewed distribution:\n",
    "temp_df['meter_reading'] = np.log10(temp_df['meter_reading'])"
   ]
  },
  {
   "cell_type": "code",
   "execution_count": 55,
   "id": "3093b388-80f9-48a5-b125-6ddb2aadee7c",
   "metadata": {},
   "outputs": [
    {
     "data": {
      "text/plain": [
       "count    1.428485e+07\n",
       "mean     1.962458e+00\n",
       "std      7.189780e-01\n",
       "min      0.000000e+00\n",
       "25%      1.491362e+00\n",
       "50%      1.974972e+00\n",
       "75%      2.447546e+00\n",
       "max      5.477069e+00\n",
       "Name: meter_reading, dtype: float64"
      ]
     },
     "execution_count": 55,
     "metadata": {},
     "output_type": "execute_result"
    }
   ],
   "source": [
    "temp_df['meter_reading'].describe()"
   ]
  },
  {
   "cell_type": "markdown",
   "id": "bdfa7557-49a1-4544-847a-2f738f13b92c",
   "metadata": {},
   "source": [
    "> Send `temp_df` to `.csv`"
   ]
  },
  {
   "cell_type": "markdown",
   "id": "ed1ed7ad-486b-41f6-bb53-e3862b7828c9",
   "metadata": {},
   "source": [
    "#####\n",
    "\n",
    "### Dataset to `.csv` to be used in pre-processing "
   ]
  },
  {
   "cell_type": "code",
   "execution_count": null,
   "id": "e9cda421-faa5-436c-8cd5-8a1fd98a6466",
   "metadata": {},
   "outputs": [],
   "source": [
    "temp_df.to_csv('temp_df.csv')"
   ]
  },
  {
   "cell_type": "code",
   "execution_count": null,
   "id": "ccfb1ea4-7edb-4116-a2ad-72fd38b7863c",
   "metadata": {},
   "outputs": [],
   "source": [
    "# Cloud coverage is found to be an influecial feature, however it has a large number of \n",
    "# missing values (42%), so I'll drop this feature before proceding. \n",
    "\n",
    "# Drop cloud_coverage feature from train set\n",
    "x_train = x_train.drop(columns=['cloud_coverage', 'precip_depth_1_hr'])\n",
    "#x_train = x_train.loc[:, x_train.columns != ['cloud_coverage', 'precip_depth_1_hr']]\n",
    "\n",
    "x_train.info()"
   ]
  },
  {
   "cell_type": "markdown",
   "id": "7656c51a-2180-48e0-b65c-3b482d110c5e",
   "metadata": {},
   "source": [
    "Rows reduced from 15,621,850 down to 10,935,295"
   ]
  },
  {
   "cell_type": "code",
   "execution_count": null,
   "id": "a40d2df9-2926-449b-98f8-85c4666176f6",
   "metadata": {},
   "outputs": [],
   "source": [
    "# Drop cloud_coverage feature from test set\n",
    "x_test = x_test.drop(columns=['cloud_coverage', 'precip_depth_1_hr'])\n",
    "x_test.info()"
   ]
  }
 ],
 "metadata": {
  "colab": {
   "gpuType": "T4",
   "provenance": []
  },
  "kernelspec": {
   "display_name": "Python 3 (ipykernel)",
   "language": "python",
   "name": "python3"
  },
  "language_info": {
   "codemirror_mode": {
    "name": "ipython",
    "version": 3
   },
   "file_extension": ".py",
   "mimetype": "text/x-python",
   "name": "python",
   "nbconvert_exporter": "python",
   "pygments_lexer": "ipython3",
   "version": "3.11.2"
  }
 },
 "nbformat": 4,
 "nbformat_minor": 5
}
